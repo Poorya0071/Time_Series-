{
  "nbformat": 4,
  "nbformat_minor": 0,
  "metadata": {
    "colab": {
      "provenance": [],
      "authorship_tag": "ABX9TyPWM01Ln7RvPRY2dClDv3CG",
      "include_colab_link": true
    },
    "kernelspec": {
      "name": "python3",
      "display_name": "Python 3"
    },
    "language_info": {
      "name": "python"
    }
  },
  "cells": [
    {
      "cell_type": "markdown",
      "metadata": {
        "id": "view-in-github",
        "colab_type": "text"
      },
      "source": [
        "<a href=\"https://colab.research.google.com/github/Poorya0071/Time_Series-/blob/main/Air_Quality_Index_of_Delhi.ipynb\" target=\"_parent\"><img src=\"https://colab.research.google.com/assets/colab-badge.svg\" alt=\"Open In Colab\"/></a>"
      ]
    },
    {
      "cell_type": "markdown",
      "source": [
        "# Air Quality Index of Delhi"
      ],
      "metadata": {
        "id": "Ol10LQUZiHNB"
      }
    },
    {
      "cell_type": "code",
      "execution_count": 1,
      "metadata": {
        "id": "1BbBfqix4W_X"
      },
      "outputs": [],
      "source": [
        "import tensorflow as tf\n",
        "from tensorflow import keras\n",
        "from tensorflow.keras import layers\n",
        "import numpy as np\n",
        "import matplotlib.pyplot as plt\n",
        "import pandas as pd\n",
        "from sklearn.preprocessing import OneHotEncoder\n",
        "from sklearn.preprocessing import LabelEncoder\n",
        "from sklearn.model_selection import train_test_split\n",
        "from tensorflow.keras.layers.experimental.preprocessing import TextVectorization\n",
        "from sklearn.feature_extraction.text import TfidfVectorizer\n",
        "from sklearn.naive_bayes import MultinomialNB\n",
        "from sklearn.pipeline import Pipeline\n",
        "import tensorflow_hub as hub\n",
        "from sklearn.preprocessing import MinMaxScaler"
      ]
    },
    {
      "cell_type": "code",
      "source": [
        "import zipfile\n",
        "\n",
        "# Unzip the downloaded file\n",
        "zip_ref = zipfile.ZipFile(\"/content/city_day.csv.zip\", \"r\")\n",
        "zip_ref.extractall()\n",
        "zip_ref.close()"
      ],
      "metadata": {
        "id": "WHlNeOrL4mTC"
      },
      "execution_count": 2,
      "outputs": []
    },
    {
      "cell_type": "markdown",
      "source": [
        "# Let's upload the dataset and change the time as the index ot timestamps "
      ],
      "metadata": {
        "id": "F4eUqYw-iONY"
      }
    },
    {
      "cell_type": "code",
      "source": [
        "data = pd.read_csv('/content/city_day.csv',parse_dates=[\"Date\"], \n",
        "                 index_col=[\"Date\"])\n",
        "data.head()"
      ],
      "metadata": {
        "colab": {
          "base_uri": "https://localhost:8080/",
          "height": 238
        },
        "id": "IvZXmSF244op",
        "outputId": "25bf45cd-df81-4024-b9a7-d8db163e415b"
      },
      "execution_count": 3,
      "outputs": [
        {
          "output_type": "execute_result",
          "data": {
            "text/plain": [
              "                 City  PM2.5  PM10     NO    NO2    NOx  NH3     CO    SO2  \\\n",
              "Date                                                                         \n",
              "2015-01-01  Ahmedabad    NaN   NaN   0.92  18.22  17.15  NaN   0.92  27.64   \n",
              "2015-01-02  Ahmedabad    NaN   NaN   0.97  15.69  16.46  NaN   0.97  24.55   \n",
              "2015-01-03  Ahmedabad    NaN   NaN  17.40  19.30  29.70  NaN  17.40  29.07   \n",
              "2015-01-04  Ahmedabad    NaN   NaN   1.70  18.48  17.97  NaN   1.70  18.59   \n",
              "2015-01-05  Ahmedabad    NaN   NaN  22.10  21.42  37.76  NaN  22.10  39.33   \n",
              "\n",
              "                O3  Benzene  Toluene  Xylene  AQI AQI_Bucket  \n",
              "Date                                                          \n",
              "2015-01-01  133.36     0.00     0.02    0.00  NaN        NaN  \n",
              "2015-01-02   34.06     3.68     5.50    3.77  NaN        NaN  \n",
              "2015-01-03   30.70     6.80    16.40    2.25  NaN        NaN  \n",
              "2015-01-04   36.08     4.43    10.14    1.00  NaN        NaN  \n",
              "2015-01-05   39.31     7.01    18.89    2.78  NaN        NaN  "
            ],
            "text/html": [
              "\n",
              "  <div id=\"df-1b2ee9bb-6fa2-4c5b-9e69-64a50a16ebe9\">\n",
              "    <div class=\"colab-df-container\">\n",
              "      <div>\n",
              "<style scoped>\n",
              "    .dataframe tbody tr th:only-of-type {\n",
              "        vertical-align: middle;\n",
              "    }\n",
              "\n",
              "    .dataframe tbody tr th {\n",
              "        vertical-align: top;\n",
              "    }\n",
              "\n",
              "    .dataframe thead th {\n",
              "        text-align: right;\n",
              "    }\n",
              "</style>\n",
              "<table border=\"1\" class=\"dataframe\">\n",
              "  <thead>\n",
              "    <tr style=\"text-align: right;\">\n",
              "      <th></th>\n",
              "      <th>City</th>\n",
              "      <th>PM2.5</th>\n",
              "      <th>PM10</th>\n",
              "      <th>NO</th>\n",
              "      <th>NO2</th>\n",
              "      <th>NOx</th>\n",
              "      <th>NH3</th>\n",
              "      <th>CO</th>\n",
              "      <th>SO2</th>\n",
              "      <th>O3</th>\n",
              "      <th>Benzene</th>\n",
              "      <th>Toluene</th>\n",
              "      <th>Xylene</th>\n",
              "      <th>AQI</th>\n",
              "      <th>AQI_Bucket</th>\n",
              "    </tr>\n",
              "    <tr>\n",
              "      <th>Date</th>\n",
              "      <th></th>\n",
              "      <th></th>\n",
              "      <th></th>\n",
              "      <th></th>\n",
              "      <th></th>\n",
              "      <th></th>\n",
              "      <th></th>\n",
              "      <th></th>\n",
              "      <th></th>\n",
              "      <th></th>\n",
              "      <th></th>\n",
              "      <th></th>\n",
              "      <th></th>\n",
              "      <th></th>\n",
              "      <th></th>\n",
              "    </tr>\n",
              "  </thead>\n",
              "  <tbody>\n",
              "    <tr>\n",
              "      <th>2015-01-01</th>\n",
              "      <td>Ahmedabad</td>\n",
              "      <td>NaN</td>\n",
              "      <td>NaN</td>\n",
              "      <td>0.92</td>\n",
              "      <td>18.22</td>\n",
              "      <td>17.15</td>\n",
              "      <td>NaN</td>\n",
              "      <td>0.92</td>\n",
              "      <td>27.64</td>\n",
              "      <td>133.36</td>\n",
              "      <td>0.00</td>\n",
              "      <td>0.02</td>\n",
              "      <td>0.00</td>\n",
              "      <td>NaN</td>\n",
              "      <td>NaN</td>\n",
              "    </tr>\n",
              "    <tr>\n",
              "      <th>2015-01-02</th>\n",
              "      <td>Ahmedabad</td>\n",
              "      <td>NaN</td>\n",
              "      <td>NaN</td>\n",
              "      <td>0.97</td>\n",
              "      <td>15.69</td>\n",
              "      <td>16.46</td>\n",
              "      <td>NaN</td>\n",
              "      <td>0.97</td>\n",
              "      <td>24.55</td>\n",
              "      <td>34.06</td>\n",
              "      <td>3.68</td>\n",
              "      <td>5.50</td>\n",
              "      <td>3.77</td>\n",
              "      <td>NaN</td>\n",
              "      <td>NaN</td>\n",
              "    </tr>\n",
              "    <tr>\n",
              "      <th>2015-01-03</th>\n",
              "      <td>Ahmedabad</td>\n",
              "      <td>NaN</td>\n",
              "      <td>NaN</td>\n",
              "      <td>17.40</td>\n",
              "      <td>19.30</td>\n",
              "      <td>29.70</td>\n",
              "      <td>NaN</td>\n",
              "      <td>17.40</td>\n",
              "      <td>29.07</td>\n",
              "      <td>30.70</td>\n",
              "      <td>6.80</td>\n",
              "      <td>16.40</td>\n",
              "      <td>2.25</td>\n",
              "      <td>NaN</td>\n",
              "      <td>NaN</td>\n",
              "    </tr>\n",
              "    <tr>\n",
              "      <th>2015-01-04</th>\n",
              "      <td>Ahmedabad</td>\n",
              "      <td>NaN</td>\n",
              "      <td>NaN</td>\n",
              "      <td>1.70</td>\n",
              "      <td>18.48</td>\n",
              "      <td>17.97</td>\n",
              "      <td>NaN</td>\n",
              "      <td>1.70</td>\n",
              "      <td>18.59</td>\n",
              "      <td>36.08</td>\n",
              "      <td>4.43</td>\n",
              "      <td>10.14</td>\n",
              "      <td>1.00</td>\n",
              "      <td>NaN</td>\n",
              "      <td>NaN</td>\n",
              "    </tr>\n",
              "    <tr>\n",
              "      <th>2015-01-05</th>\n",
              "      <td>Ahmedabad</td>\n",
              "      <td>NaN</td>\n",
              "      <td>NaN</td>\n",
              "      <td>22.10</td>\n",
              "      <td>21.42</td>\n",
              "      <td>37.76</td>\n",
              "      <td>NaN</td>\n",
              "      <td>22.10</td>\n",
              "      <td>39.33</td>\n",
              "      <td>39.31</td>\n",
              "      <td>7.01</td>\n",
              "      <td>18.89</td>\n",
              "      <td>2.78</td>\n",
              "      <td>NaN</td>\n",
              "      <td>NaN</td>\n",
              "    </tr>\n",
              "  </tbody>\n",
              "</table>\n",
              "</div>\n",
              "      <button class=\"colab-df-convert\" onclick=\"convertToInteractive('df-1b2ee9bb-6fa2-4c5b-9e69-64a50a16ebe9')\"\n",
              "              title=\"Convert this dataframe to an interactive table.\"\n",
              "              style=\"display:none;\">\n",
              "        \n",
              "  <svg xmlns=\"http://www.w3.org/2000/svg\" height=\"24px\"viewBox=\"0 0 24 24\"\n",
              "       width=\"24px\">\n",
              "    <path d=\"M0 0h24v24H0V0z\" fill=\"none\"/>\n",
              "    <path d=\"M18.56 5.44l.94 2.06.94-2.06 2.06-.94-2.06-.94-.94-2.06-.94 2.06-2.06.94zm-11 1L8.5 8.5l.94-2.06 2.06-.94-2.06-.94L8.5 2.5l-.94 2.06-2.06.94zm10 10l.94 2.06.94-2.06 2.06-.94-2.06-.94-.94-2.06-.94 2.06-2.06.94z\"/><path d=\"M17.41 7.96l-1.37-1.37c-.4-.4-.92-.59-1.43-.59-.52 0-1.04.2-1.43.59L10.3 9.45l-7.72 7.72c-.78.78-.78 2.05 0 2.83L4 21.41c.39.39.9.59 1.41.59.51 0 1.02-.2 1.41-.59l7.78-7.78 2.81-2.81c.8-.78.8-2.07 0-2.86zM5.41 20L4 18.59l7.72-7.72 1.47 1.35L5.41 20z\"/>\n",
              "  </svg>\n",
              "      </button>\n",
              "      \n",
              "  <style>\n",
              "    .colab-df-container {\n",
              "      display:flex;\n",
              "      flex-wrap:wrap;\n",
              "      gap: 12px;\n",
              "    }\n",
              "\n",
              "    .colab-df-convert {\n",
              "      background-color: #E8F0FE;\n",
              "      border: none;\n",
              "      border-radius: 50%;\n",
              "      cursor: pointer;\n",
              "      display: none;\n",
              "      fill: #1967D2;\n",
              "      height: 32px;\n",
              "      padding: 0 0 0 0;\n",
              "      width: 32px;\n",
              "    }\n",
              "\n",
              "    .colab-df-convert:hover {\n",
              "      background-color: #E2EBFA;\n",
              "      box-shadow: 0px 1px 2px rgba(60, 64, 67, 0.3), 0px 1px 3px 1px rgba(60, 64, 67, 0.15);\n",
              "      fill: #174EA6;\n",
              "    }\n",
              "\n",
              "    [theme=dark] .colab-df-convert {\n",
              "      background-color: #3B4455;\n",
              "      fill: #D2E3FC;\n",
              "    }\n",
              "\n",
              "    [theme=dark] .colab-df-convert:hover {\n",
              "      background-color: #434B5C;\n",
              "      box-shadow: 0px 1px 3px 1px rgba(0, 0, 0, 0.15);\n",
              "      filter: drop-shadow(0px 1px 2px rgba(0, 0, 0, 0.3));\n",
              "      fill: #FFFFFF;\n",
              "    }\n",
              "  </style>\n",
              "\n",
              "      <script>\n",
              "        const buttonEl =\n",
              "          document.querySelector('#df-1b2ee9bb-6fa2-4c5b-9e69-64a50a16ebe9 button.colab-df-convert');\n",
              "        buttonEl.style.display =\n",
              "          google.colab.kernel.accessAllowed ? 'block' : 'none';\n",
              "\n",
              "        async function convertToInteractive(key) {\n",
              "          const element = document.querySelector('#df-1b2ee9bb-6fa2-4c5b-9e69-64a50a16ebe9');\n",
              "          const dataTable =\n",
              "            await google.colab.kernel.invokeFunction('convertToInteractive',\n",
              "                                                     [key], {});\n",
              "          if (!dataTable) return;\n",
              "\n",
              "          const docLinkHtml = 'Like what you see? Visit the ' +\n",
              "            '<a target=\"_blank\" href=https://colab.research.google.com/notebooks/data_table.ipynb>data table notebook</a>'\n",
              "            + ' to learn more about interactive tables.';\n",
              "          element.innerHTML = '';\n",
              "          dataTable['output_type'] = 'display_data';\n",
              "          await google.colab.output.renderOutput(dataTable, element);\n",
              "          const docLink = document.createElement('div');\n",
              "          docLink.innerHTML = docLinkHtml;\n",
              "          element.appendChild(docLink);\n",
              "        }\n",
              "      </script>\n",
              "    </div>\n",
              "  </div>\n",
              "  "
            ]
          },
          "metadata": {},
          "execution_count": 3
        }
      ]
    },
    {
      "cell_type": "code",
      "source": [
        "data.info()"
      ],
      "metadata": {
        "colab": {
          "base_uri": "https://localhost:8080/"
        },
        "id": "9ESD68jf5IOa",
        "outputId": "461507cf-3b91-4ae2-9ae7-2b14b8c62d2d"
      },
      "execution_count": 4,
      "outputs": [
        {
          "output_type": "stream",
          "name": "stdout",
          "text": [
            "<class 'pandas.core.frame.DataFrame'>\n",
            "DatetimeIndex: 29531 entries, 2015-01-01 to 2020-07-01\n",
            "Data columns (total 15 columns):\n",
            " #   Column      Non-Null Count  Dtype  \n",
            "---  ------      --------------  -----  \n",
            " 0   City        29531 non-null  object \n",
            " 1   PM2.5       24933 non-null  float64\n",
            " 2   PM10        18391 non-null  float64\n",
            " 3   NO          25949 non-null  float64\n",
            " 4   NO2         25946 non-null  float64\n",
            " 5   NOx         25346 non-null  float64\n",
            " 6   NH3         19203 non-null  float64\n",
            " 7   CO          27472 non-null  float64\n",
            " 8   SO2         25677 non-null  float64\n",
            " 9   O3          25509 non-null  float64\n",
            " 10  Benzene     23908 non-null  float64\n",
            " 11  Toluene     21490 non-null  float64\n",
            " 12  Xylene      11422 non-null  float64\n",
            " 13  AQI         24850 non-null  float64\n",
            " 14  AQI_Bucket  24850 non-null  object \n",
            "dtypes: float64(13), object(2)\n",
            "memory usage: 3.6+ MB\n"
          ]
        }
      ]
    },
    {
      "cell_type": "markdown",
      "source": [
        "# We just need the data for Delhi, let's select it!"
      ],
      "metadata": {
        "id": "GMnB2ZTsiaEm"
      }
    },
    {
      "cell_type": "code",
      "source": [
        "data.City.value_counts()"
      ],
      "metadata": {
        "colab": {
          "base_uri": "https://localhost:8080/"
        },
        "id": "s6PAD1_05RP4",
        "outputId": "38e269d8-e9ac-4c4c-88e0-eeafffb926c8"
      },
      "execution_count": 5,
      "outputs": [
        {
          "output_type": "execute_result",
          "data": {
            "text/plain": [
              "Ahmedabad             2009\n",
              "Delhi                 2009\n",
              "Mumbai                2009\n",
              "Bengaluru             2009\n",
              "Lucknow               2009\n",
              "Chennai               2009\n",
              "Hyderabad             2006\n",
              "Patna                 1858\n",
              "Gurugram              1679\n",
              "Visakhapatnam         1462\n",
              "Amritsar              1221\n",
              "Jorapokhar            1169\n",
              "Jaipur                1114\n",
              "Thiruvananthapuram    1112\n",
              "Amaravati              951\n",
              "Brajrajnagar           938\n",
              "Talcher                925\n",
              "Kolkata                814\n",
              "Guwahati               502\n",
              "Coimbatore             386\n",
              "Shillong               310\n",
              "Chandigarh             304\n",
              "Bhopal                 289\n",
              "Ernakulam              162\n",
              "Kochi                  162\n",
              "Aizawl                 113\n",
              "Name: City, dtype: int64"
            ]
          },
          "metadata": {},
          "execution_count": 5
        }
      ]
    },
    {
      "cell_type": "code",
      "source": [
        "data_Delhi = data.loc[data['City']=='Delhi']\n",
        "data_Delhi.head()"
      ],
      "metadata": {
        "colab": {
          "base_uri": "https://localhost:8080/",
          "height": 238
        },
        "id": "nZAvCAbf5s4t",
        "outputId": "8e037ced-6fea-4a3d-ec1b-075e22105d67"
      },
      "execution_count": 6,
      "outputs": [
        {
          "output_type": "execute_result",
          "data": {
            "text/plain": [
              "             City   PM2.5    PM10     NO    NO2     NOx     NH3     CO   SO2  \\\n",
              "Date                                                                           \n",
              "2015-01-01  Delhi  313.22  607.98  69.16  36.39  110.59   33.85  15.20  9.25   \n",
              "2015-01-02  Delhi  186.18  269.55  62.09  32.87   88.14   31.83   9.54  6.65   \n",
              "2015-01-03  Delhi   87.18  131.90  25.73  30.31   47.95   69.55  10.61  2.65   \n",
              "2015-01-04  Delhi  151.84  241.84  25.01  36.91   48.62  130.36  11.54  4.63   \n",
              "2015-01-05  Delhi  146.60  219.13  14.01  34.92   38.25  122.88   9.20  3.33   \n",
              "\n",
              "               O3  Benzene  Toluene  Xylene    AQI AQI_Bucket  \n",
              "Date                                                           \n",
              "2015-01-01  41.68    14.36    24.86    9.84  472.0     Severe  \n",
              "2015-01-02  29.97    10.55    20.09    4.29  454.0     Severe  \n",
              "2015-01-03  19.71     3.91    10.23    1.99  143.0   Moderate  \n",
              "2015-01-04  25.36     4.26     9.71    3.34  319.0  Very Poor  \n",
              "2015-01-05  23.20     2.80     6.21    2.96  325.0  Very Poor  "
            ],
            "text/html": [
              "\n",
              "  <div id=\"df-67ec7720-5310-4815-b71e-b18c2f3ff0fd\">\n",
              "    <div class=\"colab-df-container\">\n",
              "      <div>\n",
              "<style scoped>\n",
              "    .dataframe tbody tr th:only-of-type {\n",
              "        vertical-align: middle;\n",
              "    }\n",
              "\n",
              "    .dataframe tbody tr th {\n",
              "        vertical-align: top;\n",
              "    }\n",
              "\n",
              "    .dataframe thead th {\n",
              "        text-align: right;\n",
              "    }\n",
              "</style>\n",
              "<table border=\"1\" class=\"dataframe\">\n",
              "  <thead>\n",
              "    <tr style=\"text-align: right;\">\n",
              "      <th></th>\n",
              "      <th>City</th>\n",
              "      <th>PM2.5</th>\n",
              "      <th>PM10</th>\n",
              "      <th>NO</th>\n",
              "      <th>NO2</th>\n",
              "      <th>NOx</th>\n",
              "      <th>NH3</th>\n",
              "      <th>CO</th>\n",
              "      <th>SO2</th>\n",
              "      <th>O3</th>\n",
              "      <th>Benzene</th>\n",
              "      <th>Toluene</th>\n",
              "      <th>Xylene</th>\n",
              "      <th>AQI</th>\n",
              "      <th>AQI_Bucket</th>\n",
              "    </tr>\n",
              "    <tr>\n",
              "      <th>Date</th>\n",
              "      <th></th>\n",
              "      <th></th>\n",
              "      <th></th>\n",
              "      <th></th>\n",
              "      <th></th>\n",
              "      <th></th>\n",
              "      <th></th>\n",
              "      <th></th>\n",
              "      <th></th>\n",
              "      <th></th>\n",
              "      <th></th>\n",
              "      <th></th>\n",
              "      <th></th>\n",
              "      <th></th>\n",
              "      <th></th>\n",
              "    </tr>\n",
              "  </thead>\n",
              "  <tbody>\n",
              "    <tr>\n",
              "      <th>2015-01-01</th>\n",
              "      <td>Delhi</td>\n",
              "      <td>313.22</td>\n",
              "      <td>607.98</td>\n",
              "      <td>69.16</td>\n",
              "      <td>36.39</td>\n",
              "      <td>110.59</td>\n",
              "      <td>33.85</td>\n",
              "      <td>15.20</td>\n",
              "      <td>9.25</td>\n",
              "      <td>41.68</td>\n",
              "      <td>14.36</td>\n",
              "      <td>24.86</td>\n",
              "      <td>9.84</td>\n",
              "      <td>472.0</td>\n",
              "      <td>Severe</td>\n",
              "    </tr>\n",
              "    <tr>\n",
              "      <th>2015-01-02</th>\n",
              "      <td>Delhi</td>\n",
              "      <td>186.18</td>\n",
              "      <td>269.55</td>\n",
              "      <td>62.09</td>\n",
              "      <td>32.87</td>\n",
              "      <td>88.14</td>\n",
              "      <td>31.83</td>\n",
              "      <td>9.54</td>\n",
              "      <td>6.65</td>\n",
              "      <td>29.97</td>\n",
              "      <td>10.55</td>\n",
              "      <td>20.09</td>\n",
              "      <td>4.29</td>\n",
              "      <td>454.0</td>\n",
              "      <td>Severe</td>\n",
              "    </tr>\n",
              "    <tr>\n",
              "      <th>2015-01-03</th>\n",
              "      <td>Delhi</td>\n",
              "      <td>87.18</td>\n",
              "      <td>131.90</td>\n",
              "      <td>25.73</td>\n",
              "      <td>30.31</td>\n",
              "      <td>47.95</td>\n",
              "      <td>69.55</td>\n",
              "      <td>10.61</td>\n",
              "      <td>2.65</td>\n",
              "      <td>19.71</td>\n",
              "      <td>3.91</td>\n",
              "      <td>10.23</td>\n",
              "      <td>1.99</td>\n",
              "      <td>143.0</td>\n",
              "      <td>Moderate</td>\n",
              "    </tr>\n",
              "    <tr>\n",
              "      <th>2015-01-04</th>\n",
              "      <td>Delhi</td>\n",
              "      <td>151.84</td>\n",
              "      <td>241.84</td>\n",
              "      <td>25.01</td>\n",
              "      <td>36.91</td>\n",
              "      <td>48.62</td>\n",
              "      <td>130.36</td>\n",
              "      <td>11.54</td>\n",
              "      <td>4.63</td>\n",
              "      <td>25.36</td>\n",
              "      <td>4.26</td>\n",
              "      <td>9.71</td>\n",
              "      <td>3.34</td>\n",
              "      <td>319.0</td>\n",
              "      <td>Very Poor</td>\n",
              "    </tr>\n",
              "    <tr>\n",
              "      <th>2015-01-05</th>\n",
              "      <td>Delhi</td>\n",
              "      <td>146.60</td>\n",
              "      <td>219.13</td>\n",
              "      <td>14.01</td>\n",
              "      <td>34.92</td>\n",
              "      <td>38.25</td>\n",
              "      <td>122.88</td>\n",
              "      <td>9.20</td>\n",
              "      <td>3.33</td>\n",
              "      <td>23.20</td>\n",
              "      <td>2.80</td>\n",
              "      <td>6.21</td>\n",
              "      <td>2.96</td>\n",
              "      <td>325.0</td>\n",
              "      <td>Very Poor</td>\n",
              "    </tr>\n",
              "  </tbody>\n",
              "</table>\n",
              "</div>\n",
              "      <button class=\"colab-df-convert\" onclick=\"convertToInteractive('df-67ec7720-5310-4815-b71e-b18c2f3ff0fd')\"\n",
              "              title=\"Convert this dataframe to an interactive table.\"\n",
              "              style=\"display:none;\">\n",
              "        \n",
              "  <svg xmlns=\"http://www.w3.org/2000/svg\" height=\"24px\"viewBox=\"0 0 24 24\"\n",
              "       width=\"24px\">\n",
              "    <path d=\"M0 0h24v24H0V0z\" fill=\"none\"/>\n",
              "    <path d=\"M18.56 5.44l.94 2.06.94-2.06 2.06-.94-2.06-.94-.94-2.06-.94 2.06-2.06.94zm-11 1L8.5 8.5l.94-2.06 2.06-.94-2.06-.94L8.5 2.5l-.94 2.06-2.06.94zm10 10l.94 2.06.94-2.06 2.06-.94-2.06-.94-.94-2.06-.94 2.06-2.06.94z\"/><path d=\"M17.41 7.96l-1.37-1.37c-.4-.4-.92-.59-1.43-.59-.52 0-1.04.2-1.43.59L10.3 9.45l-7.72 7.72c-.78.78-.78 2.05 0 2.83L4 21.41c.39.39.9.59 1.41.59.51 0 1.02-.2 1.41-.59l7.78-7.78 2.81-2.81c.8-.78.8-2.07 0-2.86zM5.41 20L4 18.59l7.72-7.72 1.47 1.35L5.41 20z\"/>\n",
              "  </svg>\n",
              "      </button>\n",
              "      \n",
              "  <style>\n",
              "    .colab-df-container {\n",
              "      display:flex;\n",
              "      flex-wrap:wrap;\n",
              "      gap: 12px;\n",
              "    }\n",
              "\n",
              "    .colab-df-convert {\n",
              "      background-color: #E8F0FE;\n",
              "      border: none;\n",
              "      border-radius: 50%;\n",
              "      cursor: pointer;\n",
              "      display: none;\n",
              "      fill: #1967D2;\n",
              "      height: 32px;\n",
              "      padding: 0 0 0 0;\n",
              "      width: 32px;\n",
              "    }\n",
              "\n",
              "    .colab-df-convert:hover {\n",
              "      background-color: #E2EBFA;\n",
              "      box-shadow: 0px 1px 2px rgba(60, 64, 67, 0.3), 0px 1px 3px 1px rgba(60, 64, 67, 0.15);\n",
              "      fill: #174EA6;\n",
              "    }\n",
              "\n",
              "    [theme=dark] .colab-df-convert {\n",
              "      background-color: #3B4455;\n",
              "      fill: #D2E3FC;\n",
              "    }\n",
              "\n",
              "    [theme=dark] .colab-df-convert:hover {\n",
              "      background-color: #434B5C;\n",
              "      box-shadow: 0px 1px 3px 1px rgba(0, 0, 0, 0.15);\n",
              "      filter: drop-shadow(0px 1px 2px rgba(0, 0, 0, 0.3));\n",
              "      fill: #FFFFFF;\n",
              "    }\n",
              "  </style>\n",
              "\n",
              "      <script>\n",
              "        const buttonEl =\n",
              "          document.querySelector('#df-67ec7720-5310-4815-b71e-b18c2f3ff0fd button.colab-df-convert');\n",
              "        buttonEl.style.display =\n",
              "          google.colab.kernel.accessAllowed ? 'block' : 'none';\n",
              "\n",
              "        async function convertToInteractive(key) {\n",
              "          const element = document.querySelector('#df-67ec7720-5310-4815-b71e-b18c2f3ff0fd');\n",
              "          const dataTable =\n",
              "            await google.colab.kernel.invokeFunction('convertToInteractive',\n",
              "                                                     [key], {});\n",
              "          if (!dataTable) return;\n",
              "\n",
              "          const docLinkHtml = 'Like what you see? Visit the ' +\n",
              "            '<a target=\"_blank\" href=https://colab.research.google.com/notebooks/data_table.ipynb>data table notebook</a>'\n",
              "            + ' to learn more about interactive tables.';\n",
              "          element.innerHTML = '';\n",
              "          dataTable['output_type'] = 'display_data';\n",
              "          await google.colab.output.renderOutput(dataTable, element);\n",
              "          const docLink = document.createElement('div');\n",
              "          docLink.innerHTML = docLinkHtml;\n",
              "          element.appendChild(docLink);\n",
              "        }\n",
              "      </script>\n",
              "    </div>\n",
              "  </div>\n",
              "  "
            ]
          },
          "metadata": {},
          "execution_count": 6
        }
      ]
    },
    {
      "cell_type": "code",
      "source": [
        "data_Delhi.info()"
      ],
      "metadata": {
        "colab": {
          "base_uri": "https://localhost:8080/"
        },
        "id": "MF8FBlae784y",
        "outputId": "d9a38515-fea3-4b52-d3ef-9f8095b48872"
      },
      "execution_count": 7,
      "outputs": [
        {
          "output_type": "stream",
          "name": "stdout",
          "text": [
            "<class 'pandas.core.frame.DataFrame'>\n",
            "DatetimeIndex: 2009 entries, 2015-01-01 to 2020-07-01\n",
            "Data columns (total 15 columns):\n",
            " #   Column      Non-Null Count  Dtype  \n",
            "---  ------      --------------  -----  \n",
            " 0   City        2009 non-null   object \n",
            " 1   PM2.5       2007 non-null   float64\n",
            " 2   PM10        1932 non-null   float64\n",
            " 3   NO          2007 non-null   float64\n",
            " 4   NO2         2007 non-null   float64\n",
            " 5   NOx         2009 non-null   float64\n",
            " 6   NH3         2000 non-null   float64\n",
            " 7   CO          2009 non-null   float64\n",
            " 8   SO2         1899 non-null   float64\n",
            " 9   O3          1925 non-null   float64\n",
            " 10  Benzene     2009 non-null   float64\n",
            " 11  Toluene     2009 non-null   float64\n",
            " 12  Xylene      1228 non-null   float64\n",
            " 13  AQI         1999 non-null   float64\n",
            " 14  AQI_Bucket  1999 non-null   object \n",
            "dtypes: float64(13), object(2)\n",
            "memory usage: 251.1+ KB\n"
          ]
        }
      ]
    },
    {
      "cell_type": "markdown",
      "source": [
        "# Let's Drop some columns which are not so important!"
      ],
      "metadata": {
        "id": "qDMbQMHgiikh"
      }
    },
    {
      "cell_type": "code",
      "source": [
        "data_Delhi.drop(['City', 'Xylene', 'AQI_Bucket'],axis = 1, inplace=True)"
      ],
      "metadata": {
        "colab": {
          "base_uri": "https://localhost:8080/"
        },
        "id": "Zh6_shUw8JUx",
        "outputId": "6e406b07-8293-43d9-8689-7f25652feac9"
      },
      "execution_count": 8,
      "outputs": [
        {
          "output_type": "stream",
          "name": "stderr",
          "text": [
            "/usr/local/lib/python3.8/dist-packages/pandas/core/frame.py:4906: SettingWithCopyWarning: \n",
            "A value is trying to be set on a copy of a slice from a DataFrame\n",
            "\n",
            "See the caveats in the documentation: https://pandas.pydata.org/pandas-docs/stable/user_guide/indexing.html#returning-a-view-versus-a-copy\n",
            "  return super().drop(\n"
          ]
        }
      ]
    },
    {
      "cell_type": "code",
      "source": [
        "data_Delhi.head()"
      ],
      "metadata": {
        "colab": {
          "base_uri": "https://localhost:8080/",
          "height": 238
        },
        "id": "Ypn77IQl81RF",
        "outputId": "c5f0da20-4a15-4159-f64c-e0d6bb64673e"
      },
      "execution_count": 9,
      "outputs": [
        {
          "output_type": "execute_result",
          "data": {
            "text/plain": [
              "             PM2.5    PM10     NO    NO2     NOx     NH3     CO   SO2     O3  \\\n",
              "Date                                                                           \n",
              "2015-01-01  313.22  607.98  69.16  36.39  110.59   33.85  15.20  9.25  41.68   \n",
              "2015-01-02  186.18  269.55  62.09  32.87   88.14   31.83   9.54  6.65  29.97   \n",
              "2015-01-03   87.18  131.90  25.73  30.31   47.95   69.55  10.61  2.65  19.71   \n",
              "2015-01-04  151.84  241.84  25.01  36.91   48.62  130.36  11.54  4.63  25.36   \n",
              "2015-01-05  146.60  219.13  14.01  34.92   38.25  122.88   9.20  3.33  23.20   \n",
              "\n",
              "            Benzene  Toluene    AQI  \n",
              "Date                                 \n",
              "2015-01-01    14.36    24.86  472.0  \n",
              "2015-01-02    10.55    20.09  454.0  \n",
              "2015-01-03     3.91    10.23  143.0  \n",
              "2015-01-04     4.26     9.71  319.0  \n",
              "2015-01-05     2.80     6.21  325.0  "
            ],
            "text/html": [
              "\n",
              "  <div id=\"df-23d23851-6040-4db4-b6b5-bb86edc4a39e\">\n",
              "    <div class=\"colab-df-container\">\n",
              "      <div>\n",
              "<style scoped>\n",
              "    .dataframe tbody tr th:only-of-type {\n",
              "        vertical-align: middle;\n",
              "    }\n",
              "\n",
              "    .dataframe tbody tr th {\n",
              "        vertical-align: top;\n",
              "    }\n",
              "\n",
              "    .dataframe thead th {\n",
              "        text-align: right;\n",
              "    }\n",
              "</style>\n",
              "<table border=\"1\" class=\"dataframe\">\n",
              "  <thead>\n",
              "    <tr style=\"text-align: right;\">\n",
              "      <th></th>\n",
              "      <th>PM2.5</th>\n",
              "      <th>PM10</th>\n",
              "      <th>NO</th>\n",
              "      <th>NO2</th>\n",
              "      <th>NOx</th>\n",
              "      <th>NH3</th>\n",
              "      <th>CO</th>\n",
              "      <th>SO2</th>\n",
              "      <th>O3</th>\n",
              "      <th>Benzene</th>\n",
              "      <th>Toluene</th>\n",
              "      <th>AQI</th>\n",
              "    </tr>\n",
              "    <tr>\n",
              "      <th>Date</th>\n",
              "      <th></th>\n",
              "      <th></th>\n",
              "      <th></th>\n",
              "      <th></th>\n",
              "      <th></th>\n",
              "      <th></th>\n",
              "      <th></th>\n",
              "      <th></th>\n",
              "      <th></th>\n",
              "      <th></th>\n",
              "      <th></th>\n",
              "      <th></th>\n",
              "    </tr>\n",
              "  </thead>\n",
              "  <tbody>\n",
              "    <tr>\n",
              "      <th>2015-01-01</th>\n",
              "      <td>313.22</td>\n",
              "      <td>607.98</td>\n",
              "      <td>69.16</td>\n",
              "      <td>36.39</td>\n",
              "      <td>110.59</td>\n",
              "      <td>33.85</td>\n",
              "      <td>15.20</td>\n",
              "      <td>9.25</td>\n",
              "      <td>41.68</td>\n",
              "      <td>14.36</td>\n",
              "      <td>24.86</td>\n",
              "      <td>472.0</td>\n",
              "    </tr>\n",
              "    <tr>\n",
              "      <th>2015-01-02</th>\n",
              "      <td>186.18</td>\n",
              "      <td>269.55</td>\n",
              "      <td>62.09</td>\n",
              "      <td>32.87</td>\n",
              "      <td>88.14</td>\n",
              "      <td>31.83</td>\n",
              "      <td>9.54</td>\n",
              "      <td>6.65</td>\n",
              "      <td>29.97</td>\n",
              "      <td>10.55</td>\n",
              "      <td>20.09</td>\n",
              "      <td>454.0</td>\n",
              "    </tr>\n",
              "    <tr>\n",
              "      <th>2015-01-03</th>\n",
              "      <td>87.18</td>\n",
              "      <td>131.90</td>\n",
              "      <td>25.73</td>\n",
              "      <td>30.31</td>\n",
              "      <td>47.95</td>\n",
              "      <td>69.55</td>\n",
              "      <td>10.61</td>\n",
              "      <td>2.65</td>\n",
              "      <td>19.71</td>\n",
              "      <td>3.91</td>\n",
              "      <td>10.23</td>\n",
              "      <td>143.0</td>\n",
              "    </tr>\n",
              "    <tr>\n",
              "      <th>2015-01-04</th>\n",
              "      <td>151.84</td>\n",
              "      <td>241.84</td>\n",
              "      <td>25.01</td>\n",
              "      <td>36.91</td>\n",
              "      <td>48.62</td>\n",
              "      <td>130.36</td>\n",
              "      <td>11.54</td>\n",
              "      <td>4.63</td>\n",
              "      <td>25.36</td>\n",
              "      <td>4.26</td>\n",
              "      <td>9.71</td>\n",
              "      <td>319.0</td>\n",
              "    </tr>\n",
              "    <tr>\n",
              "      <th>2015-01-05</th>\n",
              "      <td>146.60</td>\n",
              "      <td>219.13</td>\n",
              "      <td>14.01</td>\n",
              "      <td>34.92</td>\n",
              "      <td>38.25</td>\n",
              "      <td>122.88</td>\n",
              "      <td>9.20</td>\n",
              "      <td>3.33</td>\n",
              "      <td>23.20</td>\n",
              "      <td>2.80</td>\n",
              "      <td>6.21</td>\n",
              "      <td>325.0</td>\n",
              "    </tr>\n",
              "  </tbody>\n",
              "</table>\n",
              "</div>\n",
              "      <button class=\"colab-df-convert\" onclick=\"convertToInteractive('df-23d23851-6040-4db4-b6b5-bb86edc4a39e')\"\n",
              "              title=\"Convert this dataframe to an interactive table.\"\n",
              "              style=\"display:none;\">\n",
              "        \n",
              "  <svg xmlns=\"http://www.w3.org/2000/svg\" height=\"24px\"viewBox=\"0 0 24 24\"\n",
              "       width=\"24px\">\n",
              "    <path d=\"M0 0h24v24H0V0z\" fill=\"none\"/>\n",
              "    <path d=\"M18.56 5.44l.94 2.06.94-2.06 2.06-.94-2.06-.94-.94-2.06-.94 2.06-2.06.94zm-11 1L8.5 8.5l.94-2.06 2.06-.94-2.06-.94L8.5 2.5l-.94 2.06-2.06.94zm10 10l.94 2.06.94-2.06 2.06-.94-2.06-.94-.94-2.06-.94 2.06-2.06.94z\"/><path d=\"M17.41 7.96l-1.37-1.37c-.4-.4-.92-.59-1.43-.59-.52 0-1.04.2-1.43.59L10.3 9.45l-7.72 7.72c-.78.78-.78 2.05 0 2.83L4 21.41c.39.39.9.59 1.41.59.51 0 1.02-.2 1.41-.59l7.78-7.78 2.81-2.81c.8-.78.8-2.07 0-2.86zM5.41 20L4 18.59l7.72-7.72 1.47 1.35L5.41 20z\"/>\n",
              "  </svg>\n",
              "      </button>\n",
              "      \n",
              "  <style>\n",
              "    .colab-df-container {\n",
              "      display:flex;\n",
              "      flex-wrap:wrap;\n",
              "      gap: 12px;\n",
              "    }\n",
              "\n",
              "    .colab-df-convert {\n",
              "      background-color: #E8F0FE;\n",
              "      border: none;\n",
              "      border-radius: 50%;\n",
              "      cursor: pointer;\n",
              "      display: none;\n",
              "      fill: #1967D2;\n",
              "      height: 32px;\n",
              "      padding: 0 0 0 0;\n",
              "      width: 32px;\n",
              "    }\n",
              "\n",
              "    .colab-df-convert:hover {\n",
              "      background-color: #E2EBFA;\n",
              "      box-shadow: 0px 1px 2px rgba(60, 64, 67, 0.3), 0px 1px 3px 1px rgba(60, 64, 67, 0.15);\n",
              "      fill: #174EA6;\n",
              "    }\n",
              "\n",
              "    [theme=dark] .colab-df-convert {\n",
              "      background-color: #3B4455;\n",
              "      fill: #D2E3FC;\n",
              "    }\n",
              "\n",
              "    [theme=dark] .colab-df-convert:hover {\n",
              "      background-color: #434B5C;\n",
              "      box-shadow: 0px 1px 3px 1px rgba(0, 0, 0, 0.15);\n",
              "      filter: drop-shadow(0px 1px 2px rgba(0, 0, 0, 0.3));\n",
              "      fill: #FFFFFF;\n",
              "    }\n",
              "  </style>\n",
              "\n",
              "      <script>\n",
              "        const buttonEl =\n",
              "          document.querySelector('#df-23d23851-6040-4db4-b6b5-bb86edc4a39e button.colab-df-convert');\n",
              "        buttonEl.style.display =\n",
              "          google.colab.kernel.accessAllowed ? 'block' : 'none';\n",
              "\n",
              "        async function convertToInteractive(key) {\n",
              "          const element = document.querySelector('#df-23d23851-6040-4db4-b6b5-bb86edc4a39e');\n",
              "          const dataTable =\n",
              "            await google.colab.kernel.invokeFunction('convertToInteractive',\n",
              "                                                     [key], {});\n",
              "          if (!dataTable) return;\n",
              "\n",
              "          const docLinkHtml = 'Like what you see? Visit the ' +\n",
              "            '<a target=\"_blank\" href=https://colab.research.google.com/notebooks/data_table.ipynb>data table notebook</a>'\n",
              "            + ' to learn more about interactive tables.';\n",
              "          element.innerHTML = '';\n",
              "          dataTable['output_type'] = 'display_data';\n",
              "          await google.colab.output.renderOutput(dataTable, element);\n",
              "          const docLink = document.createElement('div');\n",
              "          docLink.innerHTML = docLinkHtml;\n",
              "          element.appendChild(docLink);\n",
              "        }\n",
              "      </script>\n",
              "    </div>\n",
              "  </div>\n",
              "  "
            ]
          },
          "metadata": {},
          "execution_count": 9
        }
      ]
    },
    {
      "cell_type": "markdown",
      "source": [
        "# Fill the missing data by avarage values"
      ],
      "metadata": {
        "id": "rHdDe34TitXN"
      }
    },
    {
      "cell_type": "code",
      "source": [
        "df = data_Delhi.fillna(data_Delhi.mean())"
      ],
      "metadata": {
        "id": "OAXreL5l86Jl"
      },
      "execution_count": 10,
      "outputs": []
    },
    {
      "cell_type": "code",
      "source": [
        "df.describe().transpose()"
      ],
      "metadata": {
        "colab": {
          "base_uri": "https://localhost:8080/",
          "height": 426
        },
        "id": "WGcxk3OE9DfT",
        "outputId": "9198ae08-4d9e-4d30-9e31-dcdfe4094002"
      },
      "execution_count": 11,
      "outputs": [
        {
          "output_type": "execute_result",
          "data": {
            "text/plain": [
              "          count        mean         std    min     25%     50%     75%     max\n",
              "PM2.5    2009.0  117.196153   82.871644  10.24   57.10   94.67  152.99  685.36\n",
              "PM10     2009.0  232.809229  119.513475  18.59  138.81  220.56  307.38  796.88\n",
              "NO       2009.0   38.985595   33.372824   3.57   15.90   27.25   50.72  221.03\n",
              "NO2      2009.0   50.785182   22.685415  10.63   33.90   47.15   63.57  162.50\n",
              "NOx      2009.0   58.567023   37.690350   0.00   31.15   52.75   75.36  254.80\n",
              "NH3      2009.0   41.997150   17.262405   6.78   31.22   38.16   48.68  166.70\n",
              "CO       2009.0    1.976053    2.560253   0.00    0.91    1.24    1.87   30.44\n",
              "SO2      2009.0   15.901253    7.745483   2.34   10.46   14.97   19.36   71.56\n",
              "O3       2009.0   51.323610   25.511388   6.94   34.08   45.45   59.88  257.73\n",
              "Benzene  2009.0    3.544480    2.431232   0.00    1.87    2.96    4.68   20.64\n",
              "Toluene  2009.0   17.185042   15.291597   0.00    6.65   12.75   23.20  103.00\n",
              "AQI      2009.0  259.487744  119.239308  29.00  162.00  259.00  345.00  716.00"
            ],
            "text/html": [
              "\n",
              "  <div id=\"df-91b111a0-9ff1-4fbe-b16e-30077e938607\">\n",
              "    <div class=\"colab-df-container\">\n",
              "      <div>\n",
              "<style scoped>\n",
              "    .dataframe tbody tr th:only-of-type {\n",
              "        vertical-align: middle;\n",
              "    }\n",
              "\n",
              "    .dataframe tbody tr th {\n",
              "        vertical-align: top;\n",
              "    }\n",
              "\n",
              "    .dataframe thead th {\n",
              "        text-align: right;\n",
              "    }\n",
              "</style>\n",
              "<table border=\"1\" class=\"dataframe\">\n",
              "  <thead>\n",
              "    <tr style=\"text-align: right;\">\n",
              "      <th></th>\n",
              "      <th>count</th>\n",
              "      <th>mean</th>\n",
              "      <th>std</th>\n",
              "      <th>min</th>\n",
              "      <th>25%</th>\n",
              "      <th>50%</th>\n",
              "      <th>75%</th>\n",
              "      <th>max</th>\n",
              "    </tr>\n",
              "  </thead>\n",
              "  <tbody>\n",
              "    <tr>\n",
              "      <th>PM2.5</th>\n",
              "      <td>2009.0</td>\n",
              "      <td>117.196153</td>\n",
              "      <td>82.871644</td>\n",
              "      <td>10.24</td>\n",
              "      <td>57.10</td>\n",
              "      <td>94.67</td>\n",
              "      <td>152.99</td>\n",
              "      <td>685.36</td>\n",
              "    </tr>\n",
              "    <tr>\n",
              "      <th>PM10</th>\n",
              "      <td>2009.0</td>\n",
              "      <td>232.809229</td>\n",
              "      <td>119.513475</td>\n",
              "      <td>18.59</td>\n",
              "      <td>138.81</td>\n",
              "      <td>220.56</td>\n",
              "      <td>307.38</td>\n",
              "      <td>796.88</td>\n",
              "    </tr>\n",
              "    <tr>\n",
              "      <th>NO</th>\n",
              "      <td>2009.0</td>\n",
              "      <td>38.985595</td>\n",
              "      <td>33.372824</td>\n",
              "      <td>3.57</td>\n",
              "      <td>15.90</td>\n",
              "      <td>27.25</td>\n",
              "      <td>50.72</td>\n",
              "      <td>221.03</td>\n",
              "    </tr>\n",
              "    <tr>\n",
              "      <th>NO2</th>\n",
              "      <td>2009.0</td>\n",
              "      <td>50.785182</td>\n",
              "      <td>22.685415</td>\n",
              "      <td>10.63</td>\n",
              "      <td>33.90</td>\n",
              "      <td>47.15</td>\n",
              "      <td>63.57</td>\n",
              "      <td>162.50</td>\n",
              "    </tr>\n",
              "    <tr>\n",
              "      <th>NOx</th>\n",
              "      <td>2009.0</td>\n",
              "      <td>58.567023</td>\n",
              "      <td>37.690350</td>\n",
              "      <td>0.00</td>\n",
              "      <td>31.15</td>\n",
              "      <td>52.75</td>\n",
              "      <td>75.36</td>\n",
              "      <td>254.80</td>\n",
              "    </tr>\n",
              "    <tr>\n",
              "      <th>NH3</th>\n",
              "      <td>2009.0</td>\n",
              "      <td>41.997150</td>\n",
              "      <td>17.262405</td>\n",
              "      <td>6.78</td>\n",
              "      <td>31.22</td>\n",
              "      <td>38.16</td>\n",
              "      <td>48.68</td>\n",
              "      <td>166.70</td>\n",
              "    </tr>\n",
              "    <tr>\n",
              "      <th>CO</th>\n",
              "      <td>2009.0</td>\n",
              "      <td>1.976053</td>\n",
              "      <td>2.560253</td>\n",
              "      <td>0.00</td>\n",
              "      <td>0.91</td>\n",
              "      <td>1.24</td>\n",
              "      <td>1.87</td>\n",
              "      <td>30.44</td>\n",
              "    </tr>\n",
              "    <tr>\n",
              "      <th>SO2</th>\n",
              "      <td>2009.0</td>\n",
              "      <td>15.901253</td>\n",
              "      <td>7.745483</td>\n",
              "      <td>2.34</td>\n",
              "      <td>10.46</td>\n",
              "      <td>14.97</td>\n",
              "      <td>19.36</td>\n",
              "      <td>71.56</td>\n",
              "    </tr>\n",
              "    <tr>\n",
              "      <th>O3</th>\n",
              "      <td>2009.0</td>\n",
              "      <td>51.323610</td>\n",
              "      <td>25.511388</td>\n",
              "      <td>6.94</td>\n",
              "      <td>34.08</td>\n",
              "      <td>45.45</td>\n",
              "      <td>59.88</td>\n",
              "      <td>257.73</td>\n",
              "    </tr>\n",
              "    <tr>\n",
              "      <th>Benzene</th>\n",
              "      <td>2009.0</td>\n",
              "      <td>3.544480</td>\n",
              "      <td>2.431232</td>\n",
              "      <td>0.00</td>\n",
              "      <td>1.87</td>\n",
              "      <td>2.96</td>\n",
              "      <td>4.68</td>\n",
              "      <td>20.64</td>\n",
              "    </tr>\n",
              "    <tr>\n",
              "      <th>Toluene</th>\n",
              "      <td>2009.0</td>\n",
              "      <td>17.185042</td>\n",
              "      <td>15.291597</td>\n",
              "      <td>0.00</td>\n",
              "      <td>6.65</td>\n",
              "      <td>12.75</td>\n",
              "      <td>23.20</td>\n",
              "      <td>103.00</td>\n",
              "    </tr>\n",
              "    <tr>\n",
              "      <th>AQI</th>\n",
              "      <td>2009.0</td>\n",
              "      <td>259.487744</td>\n",
              "      <td>119.239308</td>\n",
              "      <td>29.00</td>\n",
              "      <td>162.00</td>\n",
              "      <td>259.00</td>\n",
              "      <td>345.00</td>\n",
              "      <td>716.00</td>\n",
              "    </tr>\n",
              "  </tbody>\n",
              "</table>\n",
              "</div>\n",
              "      <button class=\"colab-df-convert\" onclick=\"convertToInteractive('df-91b111a0-9ff1-4fbe-b16e-30077e938607')\"\n",
              "              title=\"Convert this dataframe to an interactive table.\"\n",
              "              style=\"display:none;\">\n",
              "        \n",
              "  <svg xmlns=\"http://www.w3.org/2000/svg\" height=\"24px\"viewBox=\"0 0 24 24\"\n",
              "       width=\"24px\">\n",
              "    <path d=\"M0 0h24v24H0V0z\" fill=\"none\"/>\n",
              "    <path d=\"M18.56 5.44l.94 2.06.94-2.06 2.06-.94-2.06-.94-.94-2.06-.94 2.06-2.06.94zm-11 1L8.5 8.5l.94-2.06 2.06-.94-2.06-.94L8.5 2.5l-.94 2.06-2.06.94zm10 10l.94 2.06.94-2.06 2.06-.94-2.06-.94-.94-2.06-.94 2.06-2.06.94z\"/><path d=\"M17.41 7.96l-1.37-1.37c-.4-.4-.92-.59-1.43-.59-.52 0-1.04.2-1.43.59L10.3 9.45l-7.72 7.72c-.78.78-.78 2.05 0 2.83L4 21.41c.39.39.9.59 1.41.59.51 0 1.02-.2 1.41-.59l7.78-7.78 2.81-2.81c.8-.78.8-2.07 0-2.86zM5.41 20L4 18.59l7.72-7.72 1.47 1.35L5.41 20z\"/>\n",
              "  </svg>\n",
              "      </button>\n",
              "      \n",
              "  <style>\n",
              "    .colab-df-container {\n",
              "      display:flex;\n",
              "      flex-wrap:wrap;\n",
              "      gap: 12px;\n",
              "    }\n",
              "\n",
              "    .colab-df-convert {\n",
              "      background-color: #E8F0FE;\n",
              "      border: none;\n",
              "      border-radius: 50%;\n",
              "      cursor: pointer;\n",
              "      display: none;\n",
              "      fill: #1967D2;\n",
              "      height: 32px;\n",
              "      padding: 0 0 0 0;\n",
              "      width: 32px;\n",
              "    }\n",
              "\n",
              "    .colab-df-convert:hover {\n",
              "      background-color: #E2EBFA;\n",
              "      box-shadow: 0px 1px 2px rgba(60, 64, 67, 0.3), 0px 1px 3px 1px rgba(60, 64, 67, 0.15);\n",
              "      fill: #174EA6;\n",
              "    }\n",
              "\n",
              "    [theme=dark] .colab-df-convert {\n",
              "      background-color: #3B4455;\n",
              "      fill: #D2E3FC;\n",
              "    }\n",
              "\n",
              "    [theme=dark] .colab-df-convert:hover {\n",
              "      background-color: #434B5C;\n",
              "      box-shadow: 0px 1px 3px 1px rgba(0, 0, 0, 0.15);\n",
              "      filter: drop-shadow(0px 1px 2px rgba(0, 0, 0, 0.3));\n",
              "      fill: #FFFFFF;\n",
              "    }\n",
              "  </style>\n",
              "\n",
              "      <script>\n",
              "        const buttonEl =\n",
              "          document.querySelector('#df-91b111a0-9ff1-4fbe-b16e-30077e938607 button.colab-df-convert');\n",
              "        buttonEl.style.display =\n",
              "          google.colab.kernel.accessAllowed ? 'block' : 'none';\n",
              "\n",
              "        async function convertToInteractive(key) {\n",
              "          const element = document.querySelector('#df-91b111a0-9ff1-4fbe-b16e-30077e938607');\n",
              "          const dataTable =\n",
              "            await google.colab.kernel.invokeFunction('convertToInteractive',\n",
              "                                                     [key], {});\n",
              "          if (!dataTable) return;\n",
              "\n",
              "          const docLinkHtml = 'Like what you see? Visit the ' +\n",
              "            '<a target=\"_blank\" href=https://colab.research.google.com/notebooks/data_table.ipynb>data table notebook</a>'\n",
              "            + ' to learn more about interactive tables.';\n",
              "          element.innerHTML = '';\n",
              "          dataTable['output_type'] = 'display_data';\n",
              "          await google.colab.output.renderOutput(dataTable, element);\n",
              "          const docLink = document.createElement('div');\n",
              "          docLink.innerHTML = docLinkHtml;\n",
              "          element.appendChild(docLink);\n",
              "        }\n",
              "      </script>\n",
              "    </div>\n",
              "  </div>\n",
              "  "
            ]
          },
          "metadata": {},
          "execution_count": 11
        }
      ]
    },
    {
      "cell_type": "markdown",
      "source": [
        "# Univariate Time Series\n",
        "We first start with univariate time series, define X and y, and split the dataset. It is essential to know that the dataset should not be shuffled for the time series forecasting."
      ],
      "metadata": {
        "id": "5RRloQeFiyVc"
      }
    },
    {
      "cell_type": "code",
      "source": [
        "timesteps = df.index.to_numpy()\n",
        "AQI = df[\"AQI\"].to_numpy()"
      ],
      "metadata": {
        "id": "Sp_L9Xfi90dx"
      },
      "execution_count": 12,
      "outputs": []
    },
    {
      "cell_type": "code",
      "source": [
        "\n",
        "# Create train and test splits the right way for time series data\n",
        "split_size = int(0.8 * len(AQI)) # 80% train, 20% test\n",
        "\n",
        "# Create train data splits (everything before the split)\n",
        "X_train, y_train = timesteps[:split_size], AQI[:split_size]\n",
        "\n",
        "# Create test data splits (everything after the split)\n",
        "X_test, y_test = timesteps[split_size:], AQI[split_size:]\n",
        "\n",
        "len(X_train), len(X_test), len(y_train), len(y_test)"
      ],
      "metadata": {
        "colab": {
          "base_uri": "https://localhost:8080/"
        },
        "id": "bsDxBzSb9E2b",
        "outputId": "a5c47095-9076-4b4b-c2d7-b057e4ebcc7e"
      },
      "execution_count": 13,
      "outputs": [
        {
          "output_type": "execute_result",
          "data": {
            "text/plain": [
              "(1607, 402, 1607, 402)"
            ]
          },
          "metadata": {},
          "execution_count": 13
        }
      ]
    },
    {
      "cell_type": "code",
      "source": [
        "def plot_time_series(timesteps, values, format='.', start=0, end=None, label=None):\n",
        "\n",
        "  plt.plot(timesteps[start:end], values[start:end], format, label=label)\n",
        "  plt.xlabel(\"Time\")\n",
        "  plt.ylabel(\"AQI\")\n",
        "  if label:\n",
        "    plt.legend(fontsize=14) # make label bigger\n",
        "  plt.grid(True)"
      ],
      "metadata": {
        "id": "Z27Mv_KO9_ga"
      },
      "execution_count": 14,
      "outputs": []
    },
    {
      "cell_type": "code",
      "source": [
        "plt.figure(figsize=(10, 7))\n",
        "plot_time_series(timesteps=X_train, values=y_train, label=\"Train data\")\n",
        "plot_time_series(timesteps=X_test, values=y_test, label=\"Test data\")"
      ],
      "metadata": {
        "colab": {
          "base_uri": "https://localhost:8080/",
          "height": 442
        },
        "id": "4X3X02_0-HJT",
        "outputId": "1fe22d9f-1f8a-46b8-ff27-c67d21dcb0d2"
      },
      "execution_count": 15,
      "outputs": [
        {
          "output_type": "display_data",
          "data": {
            "text/plain": [
              "<Figure size 720x504 with 1 Axes>"
            ],
            "image/png": "[encoded data removed]"
          },
          "metadata": {
            "needs_background": "light"
          }
        }
      ]
    },
    {
      "cell_type": "markdown",
      "source": [
        "# Navie Forecasting"
      ],
      "metadata": {
        "id": "KOuYtfPYjWsk"
      }
    },
    {
      "cell_type": "code",
      "source": [
        "naive_forecast = y_test[:-1] "
      ],
      "metadata": {
        "id": "KtJ31Age-L1Z"
      },
      "execution_count": 16,
      "outputs": []
    },
    {
      "cell_type": "code",
      "source": [
        "\n",
        "plt.figure(figsize=(10, 7))\n",
        "offset = 300 # offset the values by 300 timesteps \n",
        "plot_time_series(timesteps=X_test, values=y_test, start=offset, label=\"Test data\")\n",
        "plot_time_series(timesteps=X_test[1:], values=naive_forecast, format=\"-\", start=offset, label=\"Naive forecast\");"
      ],
      "metadata": {
        "colab": {
          "base_uri": "https://localhost:8080/",
          "height": 442
        },
        "id": "P-Qz5m_z-QxE",
        "outputId": "bd26c934-df50-4608-d920-4c8191b8d3fa"
      },
      "execution_count": 17,
      "outputs": [
        {
          "output_type": "display_data",
          "data": {
            "text/plain": [
              "<Figure size 720x504 with 1 Axes>"
            ],
            "image/png": "[encoded data removed]"
          },
          "metadata": {
            "needs_background": "light"
          }
        }
      ]
    },
    {
      "cell_type": "code",
      "source": [
        "def mean_absolute_scaled_error(y_true, y_pred):\n",
        "  \"\"\"\n",
        "  Implement MASE (assuming no seasonality of data).\n",
        "  \"\"\"\n",
        "  mae = tf.reduce_mean(tf.abs(y_true - y_pred))\n",
        "\n",
        "  # Find MAE of naive forecast (no seasonality)\n",
        "  mae_naive_no_season = tf.reduce_mean(tf.abs(y_true[1:] - y_true[:-1])) # our seasonality is 1 day (hence the shifting of 1 day)\n",
        "\n",
        "  return mae / mae_naive_no_season"
      ],
      "metadata": {
        "id": "Wcijydln-TZU"
      },
      "execution_count": 18,
      "outputs": []
    },
    {
      "cell_type": "code",
      "source": [
        "\n",
        "def evaluate_preds(y_true, y_pred):\n",
        "  # Make sure float32 (for metric calculations)\n",
        "  y_true = tf.cast(y_true, dtype=tf.float32)\n",
        "  y_pred = tf.cast(y_pred, dtype=tf.float32)\n",
        "\n",
        "  # Calculate various metrics\n",
        "  mae = tf.keras.metrics.mean_absolute_error(y_true, y_pred)\n",
        "  mse = tf.keras.metrics.mean_squared_error(y_true, y_pred) # puts and emphasis on outliers (all errors get squared)\n",
        "  rmse = tf.sqrt(mse)\n",
        "  mape = tf.keras.metrics.mean_absolute_percentage_error(y_true, y_pred)\n",
        "  mase = mean_absolute_scaled_error(y_true, y_pred)\n",
        "  \n",
        "  return {\"mae\": mae.numpy(),\n",
        "          \"mse\": mse.numpy(),\n",
        "          \"rmse\": rmse.numpy(),\n",
        "          \"mape\": mape.numpy(),\n",
        "          \"mase\": mase.numpy()}"
      ],
      "metadata": {
        "id": "5NsjD1co-XkW"
      },
      "execution_count": 19,
      "outputs": []
    },
    {
      "cell_type": "code",
      "source": [
        "naive_results = evaluate_preds(y_true=y_test[1:],\n",
        "                               y_pred=naive_forecast)\n",
        "naive_results"
      ],
      "metadata": {
        "colab": {
          "base_uri": "https://localhost:8080/"
        },
        "id": "gr9tbUXf-aU8",
        "outputId": "d6754721-8af0-40cb-8696-b076085fdbea"
      },
      "execution_count": 20,
      "outputs": [
        {
          "output_type": "execute_result",
          "data": {
            "text/plain": [
              "{'mae': 31.471321,\n",
              " 'mse': 2025.2968,\n",
              " 'rmse': 45.003296,\n",
              " 'mape': 16.582344,\n",
              " 'mase': 0.9984556}"
            ]
          },
          "metadata": {},
          "execution_count": 20
        }
      ]
    },
    {
      "cell_type": "code",
      "source": [
        "HORIZON = 1 # predict 1 step at a time\n",
        "WINDOW_SIZE = 7 "
      ],
      "metadata": {
        "id": "GGQ8iKX8-dJ0"
      },
      "execution_count": 21,
      "outputs": []
    },
    {
      "cell_type": "code",
      "source": [
        "def get_labelled_windows(x, horizon=1):\n",
        "\n",
        "  return x[:, :-horizon], x[:, -horizon:]"
      ],
      "metadata": {
        "id": "x7iwvSRd-w2m"
      },
      "execution_count": 22,
      "outputs": []
    },
    {
      "cell_type": "code",
      "source": [
        "def make_windows(x, window_size=7, horizon=1):\n",
        "  \"\"\"\n",
        "  Turns a 1D array into a 2D array of sequential windows of window_size.\n",
        "  \"\"\"\n",
        "  # 1. Create a window of specific window_size (add the horizon on the end for later labelling)\n",
        "  window_step = np.expand_dims(np.arange(window_size+horizon), axis=0)\n",
        "  # print(f\"Window step:\\n {window_step}\")\n",
        "\n",
        "  # 2. Create a 2D array of multiple window steps (minus 1 to account for 0 indexing)\n",
        "  window_indexes = window_step + np.expand_dims(np.arange(len(x)-(window_size+horizon-1)), axis=0).T # create 2D array of windows of size window_size\n",
        "  # print(f\"Window indexes:\\n {window_indexes[:3], window_indexes[-3:], window_indexes.shape}\")\n",
        "\n",
        "  # 3. Index on the target array (time series) with 2D array of multiple window steps\n",
        "  windowed_array = x[window_indexes]\n",
        "\n",
        "  # 4. Get the labelled windows\n",
        "  windows, labels = get_labelled_windows(windowed_array, horizon=horizon)\n",
        "\n",
        "  return windows, labels"
      ],
      "metadata": {
        "id": "MGq1oVQ6-zYM"
      },
      "execution_count": 23,
      "outputs": []
    },
    {
      "cell_type": "code",
      "source": [
        "\n",
        "full_windows, full_labels = make_windows(AQI, window_size=WINDOW_SIZE, horizon=HORIZON)\n",
        "len(full_windows), len(full_labels)"
      ],
      "metadata": {
        "colab": {
          "base_uri": "https://localhost:8080/"
        },
        "id": "E3GJroXt-3k_",
        "outputId": "8997b647-c8c1-4a63-b486-d954ac27ec11"
      },
      "execution_count": 24,
      "outputs": [
        {
          "output_type": "execute_result",
          "data": {
            "text/plain": [
              "(2002, 2002)"
            ]
          },
          "metadata": {},
          "execution_count": 24
        }
      ]
    },
    {
      "cell_type": "code",
      "source": [
        "for i in range(3):\n",
        "  print(f\"Window: {full_windows[i]} -> Label: {full_labels[i]}\")"
      ],
      "metadata": {
        "colab": {
          "base_uri": "https://localhost:8080/"
        },
        "id": "8mMAtqkd-53H",
        "outputId": "61d38d5b-755b-433b-da32-285e382263af"
      },
      "execution_count": 25,
      "outputs": [
        {
          "output_type": "stream",
          "name": "stdout",
          "text": [
            "Window: [472. 454. 143. 319. 325. 318. 353.] -> Label: [383.]\n",
            "Window: [454. 143. 319. 325. 318. 353. 383.] -> Label: [375.]\n",
            "Window: [143. 319. 325. 318. 353. 383. 375.] -> Label: [376.]\n"
          ]
        }
      ]
    },
    {
      "cell_type": "code",
      "source": [
        "\n",
        "# Make the train/test splits\n",
        "def make_train_test_splits(windows, labels, test_split=0.2):\n",
        "  \"\"\"\n",
        "  Splits matching pairs of windows and labels into train and test splits.\n",
        "  \"\"\"\n",
        "  split_size = int(len(windows) * (1-test_split)) # this will default to 80% train/20% test\n",
        "  train_windows = windows[:split_size]\n",
        "  train_labels = labels[:split_size]\n",
        "  test_windows = windows[split_size:]\n",
        "  test_labels = labels[split_size:]\n",
        "  return train_windows, test_windows, train_labels, test_labels"
      ],
      "metadata": {
        "id": "YwP6RzZs-95H"
      },
      "execution_count": 26,
      "outputs": []
    },
    {
      "cell_type": "code",
      "source": [
        "train_windows, test_windows, train_labels, test_labels = make_train_test_splits(full_windows, full_labels)\n",
        "len(train_windows), len(test_windows), len(train_labels), len(test_labels)"
      ],
      "metadata": {
        "colab": {
          "base_uri": "https://localhost:8080/"
        },
        "id": "BzaEoEOr_Bhn",
        "outputId": "c0803d8e-c74a-4dad-fa84-7d0a6ae4f767"
      },
      "execution_count": 27,
      "outputs": [
        {
          "output_type": "execute_result",
          "data": {
            "text/plain": [
              "(1601, 401, 1601, 401)"
            ]
          },
          "metadata": {},
          "execution_count": 27
        }
      ]
    },
    {
      "cell_type": "code",
      "source": [
        "import os\n",
        "def create_model_checkpoint(model_name, save_path=\"model_experiments\"):\n",
        "  return tf.keras.callbacks.ModelCheckpoint(filepath=os.path.join(save_path, model_name), # create filepath to save model\n",
        "                                            verbose=0, # only output a limited amount of text\n",
        "                                            save_best_only=True)"
      ],
      "metadata": {
        "id": "9PDQLwuf_Dio"
      },
      "execution_count": 28,
      "outputs": []
    },
    {
      "cell_type": "markdown",
      "source": [
        "#Simple Dense model"
      ],
      "metadata": {
        "id": "0oNRDlUOJevv"
      }
    },
    {
      "cell_type": "code",
      "source": [
        "import tensorflow as tf\n",
        "from tensorflow.keras import layers\n",
        "\n",
        "# Set random seed for as reproducible results as possible\n",
        "tf.random.set_seed(42)\n",
        "\n",
        "# Construct model\n",
        "model_1 = tf.keras.Sequential([\n",
        "  layers.Dense(128, activation=\"relu\"),\n",
        "  layers.Dense(HORIZON, activation=\"linear\") # linear activation is the same as having no activation                        \n",
        "], name=\"model_1_dense\") # give the model a name so we can save it\n",
        "\n",
        "lr_schedule = tf.keras.callbacks.LearningRateScheduler(\n",
        "    lambda epoch: 1e-5 * 10**(epoch/20))\n",
        "\n",
        "model_1.compile(loss=\"mae\",\n",
        "                optimizer=tf.keras.optimizers.Adam(lr = 1e-5),\n",
        "                metrics=[\"mae\"]) # we don't necessarily need this when the loss function is already MAE\n",
        "\n",
        "# Fit model\n",
        "history_1 = model_1.fit(x=train_windows, # train windows of 7 timesteps of Bitcoin prices\n",
        "            y=train_labels, # horizon value of 1 (using the previous 7 timesteps to predict next day)\n",
        "            epochs=100,\n",
        "            verbose=0,\n",
        "            batch_size=128,\n",
        "            validation_data=(test_windows, test_labels),\n",
        "            callbacks=[create_model_checkpoint(model_name=model_1.name),lr_schedule])"
      ],
      "metadata": {
        "colab": {
          "base_uri": "https://localhost:8080/"
        },
        "id": "-L5Elpc0_J0o",
        "outputId": "4c9caffb-8065-41db-e7dc-c3c2cc690efa"
      },
      "execution_count": 132,
      "outputs": [
        {
          "output_type": "stream",
          "name": "stderr",
          "text": [
            "/usr/local/lib/python3.8/dist-packages/keras/optimizers/optimizer_v2/adam.py:110: UserWarning: The `lr` argument is deprecated, use `learning_rate` instead.\n",
            "  super(Adam, self).__init__(name, **kwargs)\n"
          ]
        }
      ]
    },
    {
      "cell_type": "code",
      "source": [
        "plt.semilogx(history_1.history['lr'], history_1.history['val_mae'])"
      ],
      "metadata": {
        "colab": {
          "base_uri": "https://localhost:8080/",
          "height": 286
        },
        "id": "N_jxwC-SchGA",
        "outputId": "2dc3d219-5ce7-44bd-9e86-4165e7d78e16"
      },
      "execution_count": 133,
      "outputs": [
        {
          "output_type": "execute_result",
          "data": {
            "text/plain": [
              "[<matplotlib.lines.Line2D at 0x7fc09da85760>]"
            ]
          },
          "metadata": {},
          "execution_count": 133
        },
        {
          "output_type": "display_data",
          "data": {
            "text/plain": [
              "<Figure size 432x288 with 1 Axes>"
            ],
            "image/png": "[encoded data removed]"
          },
          "metadata": {
            "needs_background": "light"
          }
        }
      ]
    },
    {
      "cell_type": "code",
      "source": [
        "tf.random.set_seed(42)\n",
        "\n",
        "# Construct model\n",
        "model_1 = tf.keras.Sequential([\n",
        "  layers.Dense(128, activation=\"relu\"),\n",
        "  layers.Dense(HORIZON, activation=\"linear\") # linear activation is the same as having no activation                        \n",
        "], name=\"model_1_dense\") # give the model a name so we can save it\n",
        "\n",
        "\n",
        "early_stopping = tf.keras.callbacks.EarlyStopping(patience=50)\n",
        "model_1.compile(loss=\"mae\",\n",
        "                optimizer=tf.keras.optimizers.Adam(lr = 0.01),\n",
        "                metrics=[\"mae\"]) # we don't necessarily need this when the loss function is already MAE\n",
        "\n",
        "# Fit model\n",
        "history_1 = model_1.fit(x=train_windows, # train windows of 7 timesteps of Bitcoin prices\n",
        "            y=train_labels, # horizon value of 1 (using the previous 7 timesteps to predict next day)\n",
        "            epochs=500,\n",
        "            verbose=0,\n",
        "            batch_size=128,\n",
        "            validation_data=(test_windows, test_labels),\n",
        "            callbacks=[create_model_checkpoint(model_name=model_1.name),early_stopping])"
      ],
      "metadata": {
        "colab": {
          "base_uri": "https://localhost:8080/"
        },
        "id": "yOlE7VKMc3jC",
        "outputId": "74d4202c-6ffc-49d3-9156-bc469989e704"
      },
      "execution_count": 134,
      "outputs": [
        {
          "output_type": "stream",
          "name": "stderr",
          "text": [
            "/usr/local/lib/python3.8/dist-packages/keras/optimizers/optimizer_v2/adam.py:110: UserWarning: The `lr` argument is deprecated, use `learning_rate` instead.\n",
            "  super(Adam, self).__init__(name, **kwargs)\n"
          ]
        }
      ]
    },
    {
      "cell_type": "code",
      "source": [
        "model_1 = tf.keras.models.load_model(\"model_experiments/model_1_dense\")\n",
        "model_1.evaluate(test_windows, test_labels)"
      ],
      "metadata": {
        "colab": {
          "base_uri": "https://localhost:8080/"
        },
        "id": "zYCN8XZ9dHid",
        "outputId": "fd5b2b84-99a9-4cc0-defb-eee5f42ac783"
      },
      "execution_count": 135,
      "outputs": [
        {
          "output_type": "stream",
          "name": "stdout",
          "text": [
            "13/13 [==============================] - 0s 3ms/step - loss: 30.5764 - mae: 30.5764\n"
          ]
        },
        {
          "output_type": "execute_result",
          "data": {
            "text/plain": [
              "[30.57640838623047, 30.57640838623047]"
            ]
          },
          "metadata": {},
          "execution_count": 135
        }
      ]
    },
    {
      "cell_type": "markdown",
      "source": [
        "#Conv_2D model"
      ],
      "metadata": {
        "id": "NtbLEfI6Jr_2"
      }
    },
    {
      "cell_type": "code",
      "source": [
        "tf.random.set_seed(42)\n",
        "\n",
        "# Create model\n",
        "model_2 = tf.keras.Sequential([\n",
        "  # Create Lambda layer to reshape inputs, without this layer, the model will error\n",
        "  layers.Lambda(lambda x: tf.expand_dims(x, axis=1)), # resize the inputs to adjust for window size / Conv1D 3D input requirements\n",
        "  layers.Conv1D(filters=128, kernel_size=5, padding=\"causal\", activation=\"relu\"),\n",
        "  layers.Dense(HORIZON)\n",
        "], name=\"model_2_conv1D\")\n",
        "\n",
        "# Compile model\n",
        "model_2.compile(loss=\"mae\",\n",
        "                optimizer=tf.keras.optimizers.Adam())\n",
        "\n",
        "# Fit model\n",
        "model_2.fit(train_windows,\n",
        "            train_labels,\n",
        "            batch_size=128, \n",
        "            epochs=100,\n",
        "            verbose=0,\n",
        "            validation_data=(test_windows, test_labels),\n",
        "            callbacks=[create_model_checkpoint(model_name=model_2.name)])"
      ],
      "metadata": {
        "colab": {
          "base_uri": "https://localhost:8080/"
        },
        "id": "qc5Fgk5b_cG0",
        "outputId": "39589090-6373-4b7f-a8bd-a290a7516a00"
      },
      "execution_count": 33,
      "outputs": [
        {
          "output_type": "stream",
          "name": "stderr",
          "text": [
            "WARNING:absl:Found untraced functions such as _jit_compiled_convolution_op while saving (showing 1 of 1). These functions will not be directly callable after loading.\n",
            "WARNING:absl:Found untraced functions such as _jit_compiled_convolution_op while saving (showing 1 of 1). These functions will not be directly callable after loading.\n",
            "WARNING:absl:Found untraced functions such as _jit_compiled_convolution_op while saving (showing 1 of 1). These functions will not be directly callable after loading.\n",
            "WARNING:absl:Found untraced functions such as _jit_compiled_convolution_op while saving (showing 1 of 1). These functions will not be directly callable after loading.\n",
            "WARNING:absl:Found untraced functions such as _jit_compiled_convolution_op while saving (showing 1 of 1). These functions will not be directly callable after loading.\n",
            "WARNING:absl:Found untraced functions such as _jit_compiled_convolution_op while saving (showing 1 of 1). These functions will not be directly callable after loading.\n",
            "WARNING:absl:Found untraced functions such as _jit_compiled_convolution_op while saving (showing 1 of 1). These functions will not be directly callable after loading.\n",
            "WARNING:absl:Found untraced functions such as _jit_compiled_convolution_op while saving (showing 1 of 1). These functions will not be directly callable after loading.\n",
            "WARNING:absl:Found untraced functions such as _jit_compiled_convolution_op while saving (showing 1 of 1). These functions will not be directly callable after loading.\n",
            "WARNING:absl:Found untraced functions such as _jit_compiled_convolution_op while saving (showing 1 of 1). These functions will not be directly callable after loading.\n",
            "WARNING:absl:Found untraced functions such as _jit_compiled_convolution_op while saving (showing 1 of 1). These functions will not be directly callable after loading.\n",
            "WARNING:absl:Found untraced functions such as _jit_compiled_convolution_op while saving (showing 1 of 1). These functions will not be directly callable after loading.\n",
            "WARNING:absl:Found untraced functions such as _jit_compiled_convolution_op while saving (showing 1 of 1). These functions will not be directly callable after loading.\n",
            "WARNING:absl:Found untraced functions such as _jit_compiled_convolution_op while saving (showing 1 of 1). These functions will not be directly callable after loading.\n",
            "WARNING:absl:Found untraced functions such as _jit_compiled_convolution_op while saving (showing 1 of 1). These functions will not be directly callable after loading.\n",
            "WARNING:absl:Found untraced functions such as _jit_compiled_convolution_op while saving (showing 1 of 1). These functions will not be directly callable after loading.\n",
            "WARNING:absl:Found untraced functions such as _jit_compiled_convolution_op while saving (showing 1 of 1). These functions will not be directly callable after loading.\n",
            "WARNING:absl:Found untraced functions such as _jit_compiled_convolution_op while saving (showing 1 of 1). These functions will not be directly callable after loading.\n",
            "WARNING:absl:Found untraced functions such as _jit_compiled_convolution_op while saving (showing 1 of 1). These functions will not be directly callable after loading.\n",
            "WARNING:absl:Found untraced functions such as _jit_compiled_convolution_op while saving (showing 1 of 1). These functions will not be directly callable after loading.\n",
            "WARNING:absl:Found untraced functions such as _jit_compiled_convolution_op while saving (showing 1 of 1). These functions will not be directly callable after loading.\n",
            "WARNING:absl:Found untraced functions such as _jit_compiled_convolution_op while saving (showing 1 of 1). These functions will not be directly callable after loading.\n",
            "WARNING:absl:Found untraced functions such as _jit_compiled_convolution_op while saving (showing 1 of 1). These functions will not be directly callable after loading.\n",
            "WARNING:absl:Found untraced functions such as _jit_compiled_convolution_op while saving (showing 1 of 1). These functions will not be directly callable after loading.\n",
            "WARNING:absl:Found untraced functions such as _jit_compiled_convolution_op while saving (showing 1 of 1). These functions will not be directly callable after loading.\n",
            "WARNING:absl:Found untraced functions such as _jit_compiled_convolution_op while saving (showing 1 of 1). These functions will not be directly callable after loading.\n",
            "WARNING:absl:Found untraced functions such as _jit_compiled_convolution_op while saving (showing 1 of 1). These functions will not be directly callable after loading.\n",
            "WARNING:absl:Found untraced functions such as _jit_compiled_convolution_op while saving (showing 1 of 1). These functions will not be directly callable after loading.\n",
            "WARNING:absl:Found untraced functions such as _jit_compiled_convolution_op while saving (showing 1 of 1). These functions will not be directly callable after loading.\n",
            "WARNING:absl:Found untraced functions such as _jit_compiled_convolution_op while saving (showing 1 of 1). These functions will not be directly callable after loading.\n",
            "WARNING:absl:Found untraced functions such as _jit_compiled_convolution_op while saving (showing 1 of 1). These functions will not be directly callable after loading.\n",
            "WARNING:absl:Found untraced functions such as _jit_compiled_convolution_op while saving (showing 1 of 1). These functions will not be directly callable after loading.\n"
          ]
        },
        {
          "output_type": "execute_result",
          "data": {
            "text/plain": [
              "<keras.callbacks.History at 0x7fc0f367f0a0>"
            ]
          },
          "metadata": {},
          "execution_count": 33
        }
      ]
    },
    {
      "cell_type": "code",
      "source": [
        "model_2 = tf.keras.models.load_model(\"model_experiments/model_2_conv1D\")\n",
        "model_2.evaluate(test_windows, test_labels)"
      ],
      "metadata": {
        "colab": {
          "base_uri": "https://localhost:8080/"
        },
        "id": "dcXRADil_rdT",
        "outputId": "1f53af0b-3b0a-419b-b4de-19e66bbc1fd3"
      },
      "execution_count": 34,
      "outputs": [
        {
          "output_type": "stream",
          "name": "stdout",
          "text": [
            "13/13 [==============================] - 0s 3ms/step - loss: 30.8191\n"
          ]
        },
        {
          "output_type": "execute_result",
          "data": {
            "text/plain": [
              "30.819061279296875"
            ]
          },
          "metadata": {},
          "execution_count": 34
        }
      ]
    },
    {
      "cell_type": "markdown",
      "source": [
        "# LSTM model"
      ],
      "metadata": {
        "id": "ZFnOC639J5T_"
      }
    },
    {
      "cell_type": "code",
      "source": [
        "tf.random.set_seed(42)\n",
        "\n",
        "# Let's build an LSTM model with the Functional API\n",
        "inputs = layers.Input(shape=(WINDOW_SIZE))\n",
        "x = layers.Lambda(lambda x: tf.expand_dims(x, axis=1))(inputs) # expand input dimension to be compatible with LSTM\n",
        "# print(x.shape)\n",
        "# x = layers.LSTM(128, activation=\"relu\", return_sequences=True)(x) # this layer will error if the inputs are not the right shape\n",
        "x = layers.LSTM(250, activation=\"relu\")(x)\n",
        "x = layers.Dense(1)(x)\n",
        "\n",
        " # using the tanh loss function results in a massive error\n",
        "# print(x.shape)\n",
        "# Add another optional dense layer (you could add more of these to see if they improve model performance)\n",
        "# x = layers.Dense(32, activation=\"relu\")(x)\n",
        "output = layers.Dense(HORIZON)(x)\n",
        "model_5 = tf.keras.Model(inputs=inputs, outputs=output, name=\"model_5_lstm\")\n",
        "\n",
        "# Compile model\n",
        "model_5.compile(loss=\"mae\",\n",
        "                optimizer=tf.keras.optimizers.Adam())\n",
        "\n",
        "# Seems when saving the model several warnings are appearing: https://github.com/tensorflow/tensorflow/issues/47554 \n",
        "model_5.fit(train_windows,\n",
        "            train_labels,\n",
        "            epochs=100,\n",
        "            verbose=0,\n",
        "            batch_size=128,\n",
        "            validation_data=(test_windows, test_labels),\n",
        "            callbacks=[create_model_checkpoint(model_name=model_5.name)])"
      ],
      "metadata": {
        "colab": {
          "base_uri": "https://localhost:8080/"
        },
        "id": "lwoLu5Kx_vEK",
        "outputId": "5bdb702e-eba8-4376-9e59-b21ec42531da"
      },
      "execution_count": 36,
      "outputs": [
        {
          "output_type": "execute_result",
          "data": {
            "text/plain": [
              "<keras.callbacks.History at 0x7fc0f5b18c40>"
            ]
          },
          "metadata": {},
          "execution_count": 36
        }
      ]
    },
    {
      "cell_type": "code",
      "source": [
        "model_5 = tf.keras.models.load_model(\"model_experiments/model_5_lstm/\")\n",
        "model_5.evaluate(test_windows, test_labels)"
      ],
      "metadata": {
        "colab": {
          "base_uri": "https://localhost:8080/"
        },
        "id": "4Mk2aSzw_4p0",
        "outputId": "4a365210-882a-4693-bbf2-4fcc872660d6"
      },
      "execution_count": 37,
      "outputs": [
        {
          "output_type": "stream",
          "name": "stdout",
          "text": [
            "13/13 [==============================] - 0s 4ms/step - loss: 30.7170\n"
          ]
        },
        {
          "output_type": "execute_result",
          "data": {
            "text/plain": [
              "30.71700668334961"
            ]
          },
          "metadata": {},
          "execution_count": 37
        }
      ]
    },
    {
      "cell_type": "markdown",
      "source": [
        "# Multivariate Forecasting"
      ],
      "metadata": {
        "id": "CZl-9R_cKEjS"
      }
    },
    {
      "cell_type": "code",
      "source": [
        "for i in range(WINDOW_SIZE): # Shift values for each step in WINDOW_SIZE\n",
        "  df[f\"AQI+{i+1}\"] = df[\"AQI\"].shift(periods=i+1)\n",
        "df.head(10)"
      ],
      "metadata": {
        "colab": {
          "base_uri": "https://localhost:8080/",
          "height": 394
        },
        "id": "nrsgCzsOA8Ox",
        "outputId": "05c27ec2-9749-437a-d951-b23dee7ea56b"
      },
      "execution_count": 29,
      "outputs": [
        {
          "output_type": "execute_result",
          "data": {
            "text/plain": [
              "             PM2.5    PM10     NO    NO2     NOx     NH3     CO   SO2     O3  \\\n",
              "Date                                                                           \n",
              "2015-01-01  313.22  607.98  69.16  36.39  110.59   33.85  15.20  9.25  41.68   \n",
              "2015-01-02  186.18  269.55  62.09  32.87   88.14   31.83   9.54  6.65  29.97   \n",
              "2015-01-03   87.18  131.90  25.73  30.31   47.95   69.55  10.61  2.65  19.71   \n",
              "2015-01-04  151.84  241.84  25.01  36.91   48.62  130.36  11.54  4.63  25.36   \n",
              "2015-01-05  146.60  219.13  14.01  34.92   38.25  122.88   9.20  3.33  23.20   \n",
              "2015-01-06  149.58  252.10  17.21  37.84   42.46  134.97   9.44  3.66  26.83   \n",
              "2015-01-07  217.87  376.51  26.99  40.15   52.41  134.82   9.78  5.82  28.96   \n",
              "2015-01-08  229.90  360.95  23.34  43.16   51.21  138.13  11.01  3.31  30.51   \n",
              "2015-01-09  201.66  397.43  19.18  38.56   45.60  140.60  11.09  3.48  32.94   \n",
              "2015-01-10  221.02  361.74  24.79  46.39   55.19  134.06   9.70  5.91  34.12   \n",
              "\n",
              "            Benzene  Toluene    AQI  AQI+1  AQI+2  AQI+3  AQI+4  AQI+5  AQI+6  \\\n",
              "Date                                                                            \n",
              "2015-01-01    14.36    24.86  472.0    NaN    NaN    NaN    NaN    NaN    NaN   \n",
              "2015-01-02    10.55    20.09  454.0  472.0    NaN    NaN    NaN    NaN    NaN   \n",
              "2015-01-03     3.91    10.23  143.0  454.0  472.0    NaN    NaN    NaN    NaN   \n",
              "2015-01-04     4.26     9.71  319.0  143.0  454.0  472.0    NaN    NaN    NaN   \n",
              "2015-01-05     2.80     6.21  325.0  319.0  143.0  454.0  472.0    NaN    NaN   \n",
              "2015-01-06     3.63     7.35  318.0  325.0  319.0  143.0  454.0  472.0    NaN   \n",
              "2015-01-07     4.93     9.42  353.0  318.0  325.0  319.0  143.0  454.0  472.0   \n",
              "2015-01-08     5.80    11.40  383.0  353.0  318.0  325.0  319.0  143.0  454.0   \n",
              "2015-01-09     5.25    11.12  375.0  383.0  353.0  318.0  325.0  319.0  143.0   \n",
              "2015-01-10     4.87     9.44  376.0  375.0  383.0  353.0  318.0  325.0  319.0   \n",
              "\n",
              "            AQI+7  \n",
              "Date               \n",
              "2015-01-01    NaN  \n",
              "2015-01-02    NaN  \n",
              "2015-01-03    NaN  \n",
              "2015-01-04    NaN  \n",
              "2015-01-05    NaN  \n",
              "2015-01-06    NaN  \n",
              "2015-01-07    NaN  \n",
              "2015-01-08  472.0  \n",
              "2015-01-09  454.0  \n",
              "2015-01-10  143.0  "
            ],
            "text/html": [
              "\n",
              "  <div id=\"df-8af9b32b-ec41-42c1-a062-473e1e43e8b5\">\n",
              "    <div class=\"colab-df-container\">\n",
              "      <div>\n",
              "<style scoped>\n",
              "    .dataframe tbody tr th:only-of-type {\n",
              "        vertical-align: middle;\n",
              "    }\n",
              "\n",
              "    .dataframe tbody tr th {\n",
              "        vertical-align: top;\n",
              "    }\n",
              "\n",
              "    .dataframe thead th {\n",
              "        text-align: right;\n",
              "    }\n",
              "</style>\n",
              "<table border=\"1\" class=\"dataframe\">\n",
              "  <thead>\n",
              "    <tr style=\"text-align: right;\">\n",
              "      <th></th>\n",
              "      <th>PM2.5</th>\n",
              "      <th>PM10</th>\n",
              "      <th>NO</th>\n",
              "      <th>NO2</th>\n",
              "      <th>NOx</th>\n",
              "      <th>NH3</th>\n",
              "      <th>CO</th>\n",
              "      <th>SO2</th>\n",
              "      <th>O3</th>\n",
              "      <th>Benzene</th>\n",
              "      <th>Toluene</th>\n",
              "      <th>AQI</th>\n",
              "      <th>AQI+1</th>\n",
              "      <th>AQI+2</th>\n",
              "      <th>AQI+3</th>\n",
              "      <th>AQI+4</th>\n",
              "      <th>AQI+5</th>\n",
              "      <th>AQI+6</th>\n",
              "      <th>AQI+7</th>\n",
              "    </tr>\n",
              "    <tr>\n",
              "      <th>Date</th>\n",
              "      <th></th>\n",
              "      <th></th>\n",
              "      <th></th>\n",
              "      <th></th>\n",
              "      <th></th>\n",
              "      <th></th>\n",
              "      <th></th>\n",
              "      <th></th>\n",
              "      <th></th>\n",
              "      <th></th>\n",
              "      <th></th>\n",
              "      <th></th>\n",
              "      <th></th>\n",
              "      <th></th>\n",
              "      <th></th>\n",
              "      <th></th>\n",
              "      <th></th>\n",
              "      <th></th>\n",
              "      <th></th>\n",
              "    </tr>\n",
              "  </thead>\n",
              "  <tbody>\n",
              "    <tr>\n",
              "      <th>2015-01-01</th>\n",
              "      <td>313.22</td>\n",
              "      <td>607.98</td>\n",
              "      <td>69.16</td>\n",
              "      <td>36.39</td>\n",
              "      <td>110.59</td>\n",
              "      <td>33.85</td>\n",
              "      <td>15.20</td>\n",
              "      <td>9.25</td>\n",
              "      <td>41.68</td>\n",
              "      <td>14.36</td>\n",
              "      <td>24.86</td>\n",
              "      <td>472.0</td>\n",
              "      <td>NaN</td>\n",
              "      <td>NaN</td>\n",
              "      <td>NaN</td>\n",
              "      <td>NaN</td>\n",
              "      <td>NaN</td>\n",
              "      <td>NaN</td>\n",
              "      <td>NaN</td>\n",
              "    </tr>\n",
              "    <tr>\n",
              "      <th>2015-01-02</th>\n",
              "      <td>186.18</td>\n",
              "      <td>269.55</td>\n",
              "      <td>62.09</td>\n",
              "      <td>32.87</td>\n",
              "      <td>88.14</td>\n",
              "      <td>31.83</td>\n",
              "      <td>9.54</td>\n",
              "      <td>6.65</td>\n",
              "      <td>29.97</td>\n",
              "      <td>10.55</td>\n",
              "      <td>20.09</td>\n",
              "      <td>454.0</td>\n",
              "      <td>472.0</td>\n",
              "      <td>NaN</td>\n",
              "      <td>NaN</td>\n",
              "      <td>NaN</td>\n",
              "      <td>NaN</td>\n",
              "      <td>NaN</td>\n",
              "      <td>NaN</td>\n",
              "    </tr>\n",
              "    <tr>\n",
              "      <th>2015-01-03</th>\n",
              "      <td>87.18</td>\n",
              "      <td>131.90</td>\n",
              "      <td>25.73</td>\n",
              "      <td>30.31</td>\n",
              "      <td>47.95</td>\n",
              "      <td>69.55</td>\n",
              "      <td>10.61</td>\n",
              "      <td>2.65</td>\n",
              "      <td>19.71</td>\n",
              "      <td>3.91</td>\n",
              "      <td>10.23</td>\n",
              "      <td>143.0</td>\n",
              "      <td>454.0</td>\n",
              "      <td>472.0</td>\n",
              "      <td>NaN</td>\n",
              "      <td>NaN</td>\n",
              "      <td>NaN</td>\n",
              "      <td>NaN</td>\n",
              "      <td>NaN</td>\n",
              "    </tr>\n",
              "    <tr>\n",
              "      <th>2015-01-04</th>\n",
              "      <td>151.84</td>\n",
              "      <td>241.84</td>\n",
              "      <td>25.01</td>\n",
              "      <td>36.91</td>\n",
              "      <td>48.62</td>\n",
              "      <td>130.36</td>\n",
              "      <td>11.54</td>\n",
              "      <td>4.63</td>\n",
              "      <td>25.36</td>\n",
              "      <td>4.26</td>\n",
              "      <td>9.71</td>\n",
              "      <td>319.0</td>\n",
              "      <td>143.0</td>\n",
              "      <td>454.0</td>\n",
              "      <td>472.0</td>\n",
              "      <td>NaN</td>\n",
              "      <td>NaN</td>\n",
              "      <td>NaN</td>\n",
              "      <td>NaN</td>\n",
              "    </tr>\n",
              "    <tr>\n",
              "      <th>2015-01-05</th>\n",
              "      <td>146.60</td>\n",
              "      <td>219.13</td>\n",
              "      <td>14.01</td>\n",
              "      <td>34.92</td>\n",
              "      <td>38.25</td>\n",
              "      <td>122.88</td>\n",
              "      <td>9.20</td>\n",
              "      <td>3.33</td>\n",
              "      <td>23.20</td>\n",
              "      <td>2.80</td>\n",
              "      <td>6.21</td>\n",
              "      <td>325.0</td>\n",
              "      <td>319.0</td>\n",
              "      <td>143.0</td>\n",
              "      <td>454.0</td>\n",
              "      <td>472.0</td>\n",
              "      <td>NaN</td>\n",
              "      <td>NaN</td>\n",
              "      <td>NaN</td>\n",
              "    </tr>\n",
              "    <tr>\n",
              "      <th>2015-01-06</th>\n",
              "      <td>149.58</td>\n",
              "      <td>252.10</td>\n",
              "      <td>17.21</td>\n",
              "      <td>37.84</td>\n",
              "      <td>42.46</td>\n",
              "      <td>134.97</td>\n",
              "      <td>9.44</td>\n",
              "      <td>3.66</td>\n",
              "      <td>26.83</td>\n",
              "      <td>3.63</td>\n",
              "      <td>7.35</td>\n",
              "      <td>318.0</td>\n",
              "      <td>325.0</td>\n",
              "      <td>319.0</td>\n",
              "      <td>143.0</td>\n",
              "      <td>454.0</td>\n",
              "      <td>472.0</td>\n",
              "      <td>NaN</td>\n",
              "      <td>NaN</td>\n",
              "    </tr>\n",
              "    <tr>\n",
              "      <th>2015-01-07</th>\n",
              "      <td>217.87</td>\n",
              "      <td>376.51</td>\n",
              "      <td>26.99</td>\n",
              "      <td>40.15</td>\n",
              "      <td>52.41</td>\n",
              "      <td>134.82</td>\n",
              "      <td>9.78</td>\n",
              "      <td>5.82</td>\n",
              "      <td>28.96</td>\n",
              "      <td>4.93</td>\n",
              "      <td>9.42</td>\n",
              "      <td>353.0</td>\n",
              "      <td>318.0</td>\n",
              "      <td>325.0</td>\n",
              "      <td>319.0</td>\n",
              "      <td>143.0</td>\n",
              "      <td>454.0</td>\n",
              "      <td>472.0</td>\n",
              "      <td>NaN</td>\n",
              "    </tr>\n",
              "    <tr>\n",
              "      <th>2015-01-08</th>\n",
              "      <td>229.90</td>\n",
              "      <td>360.95</td>\n",
              "      <td>23.34</td>\n",
              "      <td>43.16</td>\n",
              "      <td>51.21</td>\n",
              "      <td>138.13</td>\n",
              "      <td>11.01</td>\n",
              "      <td>3.31</td>\n",
              "      <td>30.51</td>\n",
              "      <td>5.80</td>\n",
              "      <td>11.40</td>\n",
              "      <td>383.0</td>\n",
              "      <td>353.0</td>\n",
              "      <td>318.0</td>\n",
              "      <td>325.0</td>\n",
              "      <td>319.0</td>\n",
              "      <td>143.0</td>\n",
              "      <td>454.0</td>\n",
              "      <td>472.0</td>\n",
              "    </tr>\n",
              "    <tr>\n",
              "      <th>2015-01-09</th>\n",
              "      <td>201.66</td>\n",
              "      <td>397.43</td>\n",
              "      <td>19.18</td>\n",
              "      <td>38.56</td>\n",
              "      <td>45.60</td>\n",
              "      <td>140.60</td>\n",
              "      <td>11.09</td>\n",
              "      <td>3.48</td>\n",
              "      <td>32.94</td>\n",
              "      <td>5.25</td>\n",
              "      <td>11.12</td>\n",
              "      <td>375.0</td>\n",
              "      <td>383.0</td>\n",
              "      <td>353.0</td>\n",
              "      <td>318.0</td>\n",
              "      <td>325.0</td>\n",
              "      <td>319.0</td>\n",
              "      <td>143.0</td>\n",
              "      <td>454.0</td>\n",
              "    </tr>\n",
              "    <tr>\n",
              "      <th>2015-01-10</th>\n",
              "      <td>221.02</td>\n",
              "      <td>361.74</td>\n",
              "      <td>24.79</td>\n",
              "      <td>46.39</td>\n",
              "      <td>55.19</td>\n",
              "      <td>134.06</td>\n",
              "      <td>9.70</td>\n",
              "      <td>5.91</td>\n",
              "      <td>34.12</td>\n",
              "      <td>4.87</td>\n",
              "      <td>9.44</td>\n",
              "      <td>376.0</td>\n",
              "      <td>375.0</td>\n",
              "      <td>383.0</td>\n",
              "      <td>353.0</td>\n",
              "      <td>318.0</td>\n",
              "      <td>325.0</td>\n",
              "      <td>319.0</td>\n",
              "      <td>143.0</td>\n",
              "    </tr>\n",
              "  </tbody>\n",
              "</table>\n",
              "</div>\n",
              "      <button class=\"colab-df-convert\" onclick=\"convertToInteractive('df-8af9b32b-ec41-42c1-a062-473e1e43e8b5')\"\n",
              "              title=\"Convert this dataframe to an interactive table.\"\n",
              "              style=\"display:none;\">\n",
              "        \n",
              "  <svg xmlns=\"http://www.w3.org/2000/svg\" height=\"24px\"viewBox=\"0 0 24 24\"\n",
              "       width=\"24px\">\n",
              "    <path d=\"M0 0h24v24H0V0z\" fill=\"none\"/>\n",
              "    <path d=\"M18.56 5.44l.94 2.06.94-2.06 2.06-.94-2.06-.94-.94-2.06-.94 2.06-2.06.94zm-11 1L8.5 8.5l.94-2.06 2.06-.94-2.06-.94L8.5 2.5l-.94 2.06-2.06.94zm10 10l.94 2.06.94-2.06 2.06-.94-2.06-.94-.94-2.06-.94 2.06-2.06.94z\"/><path d=\"M17.41 7.96l-1.37-1.37c-.4-.4-.92-.59-1.43-.59-.52 0-1.04.2-1.43.59L10.3 9.45l-7.72 7.72c-.78.78-.78 2.05 0 2.83L4 21.41c.39.39.9.59 1.41.59.51 0 1.02-.2 1.41-.59l7.78-7.78 2.81-2.81c.8-.78.8-2.07 0-2.86zM5.41 20L4 18.59l7.72-7.72 1.47 1.35L5.41 20z\"/>\n",
              "  </svg>\n",
              "      </button>\n",
              "      \n",
              "  <style>\n",
              "    .colab-df-container {\n",
              "      display:flex;\n",
              "      flex-wrap:wrap;\n",
              "      gap: 12px;\n",
              "    }\n",
              "\n",
              "    .colab-df-convert {\n",
              "      background-color: #E8F0FE;\n",
              "      border: none;\n",
              "      border-radius: 50%;\n",
              "      cursor: pointer;\n",
              "      display: none;\n",
              "      fill: #1967D2;\n",
              "      height: 32px;\n",
              "      padding: 0 0 0 0;\n",
              "      width: 32px;\n",
              "    }\n",
              "\n",
              "    .colab-df-convert:hover {\n",
              "      background-color: #E2EBFA;\n",
              "      box-shadow: 0px 1px 2px rgba(60, 64, 67, 0.3), 0px 1px 3px 1px rgba(60, 64, 67, 0.15);\n",
              "      fill: #174EA6;\n",
              "    }\n",
              "\n",
              "    [theme=dark] .colab-df-convert {\n",
              "      background-color: #3B4455;\n",
              "      fill: #D2E3FC;\n",
              "    }\n",
              "\n",
              "    [theme=dark] .colab-df-convert:hover {\n",
              "      background-color: #434B5C;\n",
              "      box-shadow: 0px 1px 3px 1px rgba(0, 0, 0, 0.15);\n",
              "      filter: drop-shadow(0px 1px 2px rgba(0, 0, 0, 0.3));\n",
              "      fill: #FFFFFF;\n",
              "    }\n",
              "  </style>\n",
              "\n",
              "      <script>\n",
              "        const buttonEl =\n",
              "          document.querySelector('#df-8af9b32b-ec41-42c1-a062-473e1e43e8b5 button.colab-df-convert');\n",
              "        buttonEl.style.display =\n",
              "          google.colab.kernel.accessAllowed ? 'block' : 'none';\n",
              "\n",
              "        async function convertToInteractive(key) {\n",
              "          const element = document.querySelector('#df-8af9b32b-ec41-42c1-a062-473e1e43e8b5');\n",
              "          const dataTable =\n",
              "            await google.colab.kernel.invokeFunction('convertToInteractive',\n",
              "                                                     [key], {});\n",
              "          if (!dataTable) return;\n",
              "\n",
              "          const docLinkHtml = 'Like what you see? Visit the ' +\n",
              "            '<a target=\"_blank\" href=https://colab.research.google.com/notebooks/data_table.ipynb>data table notebook</a>'\n",
              "            + ' to learn more about interactive tables.';\n",
              "          element.innerHTML = '';\n",
              "          dataTable['output_type'] = 'display_data';\n",
              "          await google.colab.output.renderOutput(dataTable, element);\n",
              "          const docLink = document.createElement('div');\n",
              "          docLink.innerHTML = docLinkHtml;\n",
              "          element.appendChild(docLink);\n",
              "        }\n",
              "      </script>\n",
              "    </div>\n",
              "  </div>\n",
              "  "
            ]
          },
          "metadata": {},
          "execution_count": 29
        }
      ]
    },
    {
      "cell_type": "code",
      "source": [
        "X = df.dropna().drop(\"AQI\", axis=1).astype(np.float32) \n",
        "y = df.dropna()[\"AQI\"].astype(np.float32)\n",
        "X.head()"
      ],
      "metadata": {
        "colab": {
          "base_uri": "https://localhost:8080/",
          "height": 238
        },
        "id": "rEP2ij1DDSBD",
        "outputId": "190f4929-4e9b-4ef8-a3c5-2acdcbcbc205"
      },
      "execution_count": 30,
      "outputs": [
        {
          "output_type": "execute_result",
          "data": {
            "text/plain": [
              "                 PM2.5        PM10         NO        NO2        NOx  \\\n",
              "Date                                                                  \n",
              "2015-01-08  229.899994  360.950012  23.340000  43.160000  51.209999   \n",
              "2015-01-09  201.660004  397.429993  19.180000  38.560001  45.599998   \n",
              "2015-01-10  221.020004  361.739990  24.790001  46.389999  55.189999   \n",
              "2015-01-11  205.410004  393.200012  28.459999  47.290001  57.880001   \n",
              "2015-01-12  212.410004  345.630005  24.770000  44.709999  54.660000   \n",
              "\n",
              "                   NH3     CO   SO2         O3  Benzene  Toluene  AQI+1  \\\n",
              "Date                                                                      \n",
              "2015-01-08  138.130005  11.01  3.31  30.510000     5.80    11.40  353.0   \n",
              "2015-01-09  140.600006  11.09  3.48  32.939999     5.25    11.12  383.0   \n",
              "2015-01-10  134.059998   9.70  5.91  34.119999     4.87     9.44  375.0   \n",
              "2015-01-11  131.100006  10.98  5.54  50.369999     5.93    10.59  376.0   \n",
              "2015-01-12  148.509995   9.30  5.17  40.080002     6.20    10.68  379.0   \n",
              "\n",
              "            AQI+2  AQI+3  AQI+4  AQI+5  AQI+6  AQI+7  \n",
              "Date                                                  \n",
              "2015-01-08  318.0  325.0  319.0  143.0  454.0  472.0  \n",
              "2015-01-09  353.0  318.0  325.0  319.0  143.0  454.0  \n",
              "2015-01-10  383.0  353.0  318.0  325.0  319.0  143.0  \n",
              "2015-01-11  375.0  383.0  353.0  318.0  325.0  319.0  \n",
              "2015-01-12  376.0  375.0  383.0  353.0  318.0  325.0  "
            ],
            "text/html": [
              "\n",
              "  <div id=\"df-67eca7d9-e5a7-406b-89b8-939c54791e36\">\n",
              "    <div class=\"colab-df-container\">\n",
              "      <div>\n",
              "<style scoped>\n",
              "    .dataframe tbody tr th:only-of-type {\n",
              "        vertical-align: middle;\n",
              "    }\n",
              "\n",
              "    .dataframe tbody tr th {\n",
              "        vertical-align: top;\n",
              "    }\n",
              "\n",
              "    .dataframe thead th {\n",
              "        text-align: right;\n",
              "    }\n",
              "</style>\n",
              "<table border=\"1\" class=\"dataframe\">\n",
              "  <thead>\n",
              "    <tr style=\"text-align: right;\">\n",
              "      <th></th>\n",
              "      <th>PM2.5</th>\n",
              "      <th>PM10</th>\n",
              "      <th>NO</th>\n",
              "      <th>NO2</th>\n",
              "      <th>NOx</th>\n",
              "      <th>NH3</th>\n",
              "      <th>CO</th>\n",
              "      <th>SO2</th>\n",
              "      <th>O3</th>\n",
              "      <th>Benzene</th>\n",
              "      <th>Toluene</th>\n",
              "      <th>AQI+1</th>\n",
              "      <th>AQI+2</th>\n",
              "      <th>AQI+3</th>\n",
              "      <th>AQI+4</th>\n",
              "      <th>AQI+5</th>\n",
              "      <th>AQI+6</th>\n",
              "      <th>AQI+7</th>\n",
              "    </tr>\n",
              "    <tr>\n",
              "      <th>Date</th>\n",
              "      <th></th>\n",
              "      <th></th>\n",
              "      <th></th>\n",
              "      <th></th>\n",
              "      <th></th>\n",
              "      <th></th>\n",
              "      <th></th>\n",
              "      <th></th>\n",
              "      <th></th>\n",
              "      <th></th>\n",
              "      <th></th>\n",
              "      <th></th>\n",
              "      <th></th>\n",
              "      <th></th>\n",
              "      <th></th>\n",
              "      <th></th>\n",
              "      <th></th>\n",
              "      <th></th>\n",
              "    </tr>\n",
              "  </thead>\n",
              "  <tbody>\n",
              "    <tr>\n",
              "      <th>2015-01-08</th>\n",
              "      <td>229.899994</td>\n",
              "      <td>360.950012</td>\n",
              "      <td>23.340000</td>\n",
              "      <td>43.160000</td>\n",
              "      <td>51.209999</td>\n",
              "      <td>138.130005</td>\n",
              "      <td>11.01</td>\n",
              "      <td>3.31</td>\n",
              "      <td>30.510000</td>\n",
              "      <td>5.80</td>\n",
              "      <td>11.40</td>\n",
              "      <td>353.0</td>\n",
              "      <td>318.0</td>\n",
              "      <td>325.0</td>\n",
              "      <td>319.0</td>\n",
              "      <td>143.0</td>\n",
              "      <td>454.0</td>\n",
              "      <td>472.0</td>\n",
              "    </tr>\n",
              "    <tr>\n",
              "      <th>2015-01-09</th>\n",
              "      <td>201.660004</td>\n",
              "      <td>397.429993</td>\n",
              "      <td>19.180000</td>\n",
              "      <td>38.560001</td>\n",
              "      <td>45.599998</td>\n",
              "      <td>140.600006</td>\n",
              "      <td>11.09</td>\n",
              "      <td>3.48</td>\n",
              "      <td>32.939999</td>\n",
              "      <td>5.25</td>\n",
              "      <td>11.12</td>\n",
              "      <td>383.0</td>\n",
              "      <td>353.0</td>\n",
              "      <td>318.0</td>\n",
              "      <td>325.0</td>\n",
              "      <td>319.0</td>\n",
              "      <td>143.0</td>\n",
              "      <td>454.0</td>\n",
              "    </tr>\n",
              "    <tr>\n",
              "      <th>2015-01-10</th>\n",
              "      <td>221.020004</td>\n",
              "      <td>361.739990</td>\n",
              "      <td>24.790001</td>\n",
              "      <td>46.389999</td>\n",
              "      <td>55.189999</td>\n",
              "      <td>134.059998</td>\n",
              "      <td>9.70</td>\n",
              "      <td>5.91</td>\n",
              "      <td>34.119999</td>\n",
              "      <td>4.87</td>\n",
              "      <td>9.44</td>\n",
              "      <td>375.0</td>\n",
              "      <td>383.0</td>\n",
              "      <td>353.0</td>\n",
              "      <td>318.0</td>\n",
              "      <td>325.0</td>\n",
              "      <td>319.0</td>\n",
              "      <td>143.0</td>\n",
              "    </tr>\n",
              "    <tr>\n",
              "      <th>2015-01-11</th>\n",
              "      <td>205.410004</td>\n",
              "      <td>393.200012</td>\n",
              "      <td>28.459999</td>\n",
              "      <td>47.290001</td>\n",
              "      <td>57.880001</td>\n",
              "      <td>131.100006</td>\n",
              "      <td>10.98</td>\n",
              "      <td>5.54</td>\n",
              "      <td>50.369999</td>\n",
              "      <td>5.93</td>\n",
              "      <td>10.59</td>\n",
              "      <td>376.0</td>\n",
              "      <td>375.0</td>\n",
              "      <td>383.0</td>\n",
              "      <td>353.0</td>\n",
              "      <td>318.0</td>\n",
              "      <td>325.0</td>\n",
              "      <td>319.0</td>\n",
              "    </tr>\n",
              "    <tr>\n",
              "      <th>2015-01-12</th>\n",
              "      <td>212.410004</td>\n",
              "      <td>345.630005</td>\n",
              "      <td>24.770000</td>\n",
              "      <td>44.709999</td>\n",
              "      <td>54.660000</td>\n",
              "      <td>148.509995</td>\n",
              "      <td>9.30</td>\n",
              "      <td>5.17</td>\n",
              "      <td>40.080002</td>\n",
              "      <td>6.20</td>\n",
              "      <td>10.68</td>\n",
              "      <td>379.0</td>\n",
              "      <td>376.0</td>\n",
              "      <td>375.0</td>\n",
              "      <td>383.0</td>\n",
              "      <td>353.0</td>\n",
              "      <td>318.0</td>\n",
              "      <td>325.0</td>\n",
              "    </tr>\n",
              "  </tbody>\n",
              "</table>\n",
              "</div>\n",
              "      <button class=\"colab-df-convert\" onclick=\"convertToInteractive('df-67eca7d9-e5a7-406b-89b8-939c54791e36')\"\n",
              "              title=\"Convert this dataframe to an interactive table.\"\n",
              "              style=\"display:none;\">\n",
              "        \n",
              "  <svg xmlns=\"http://www.w3.org/2000/svg\" height=\"24px\"viewBox=\"0 0 24 24\"\n",
              "       width=\"24px\">\n",
              "    <path d=\"M0 0h24v24H0V0z\" fill=\"none\"/>\n",
              "    <path d=\"M18.56 5.44l.94 2.06.94-2.06 2.06-.94-2.06-.94-.94-2.06-.94 2.06-2.06.94zm-11 1L8.5 8.5l.94-2.06 2.06-.94-2.06-.94L8.5 2.5l-.94 2.06-2.06.94zm10 10l.94 2.06.94-2.06 2.06-.94-2.06-.94-.94-2.06-.94 2.06-2.06.94z\"/><path d=\"M17.41 7.96l-1.37-1.37c-.4-.4-.92-.59-1.43-.59-.52 0-1.04.2-1.43.59L10.3 9.45l-7.72 7.72c-.78.78-.78 2.05 0 2.83L4 21.41c.39.39.9.59 1.41.59.51 0 1.02-.2 1.41-.59l7.78-7.78 2.81-2.81c.8-.78.8-2.07 0-2.86zM5.41 20L4 18.59l7.72-7.72 1.47 1.35L5.41 20z\"/>\n",
              "  </svg>\n",
              "      </button>\n",
              "      \n",
              "  <style>\n",
              "    .colab-df-container {\n",
              "      display:flex;\n",
              "      flex-wrap:wrap;\n",
              "      gap: 12px;\n",
              "    }\n",
              "\n",
              "    .colab-df-convert {\n",
              "      background-color: #E8F0FE;\n",
              "      border: none;\n",
              "      border-radius: 50%;\n",
              "      cursor: pointer;\n",
              "      display: none;\n",
              "      fill: #1967D2;\n",
              "      height: 32px;\n",
              "      padding: 0 0 0 0;\n",
              "      width: 32px;\n",
              "    }\n",
              "\n",
              "    .colab-df-convert:hover {\n",
              "      background-color: #E2EBFA;\n",
              "      box-shadow: 0px 1px 2px rgba(60, 64, 67, 0.3), 0px 1px 3px 1px rgba(60, 64, 67, 0.15);\n",
              "      fill: #174EA6;\n",
              "    }\n",
              "\n",
              "    [theme=dark] .colab-df-convert {\n",
              "      background-color: #3B4455;\n",
              "      fill: #D2E3FC;\n",
              "    }\n",
              "\n",
              "    [theme=dark] .colab-df-convert:hover {\n",
              "      background-color: #434B5C;\n",
              "      box-shadow: 0px 1px 3px 1px rgba(0, 0, 0, 0.15);\n",
              "      filter: drop-shadow(0px 1px 2px rgba(0, 0, 0, 0.3));\n",
              "      fill: #FFFFFF;\n",
              "    }\n",
              "  </style>\n",
              "\n",
              "      <script>\n",
              "        const buttonEl =\n",
              "          document.querySelector('#df-67eca7d9-e5a7-406b-89b8-939c54791e36 button.colab-df-convert');\n",
              "        buttonEl.style.display =\n",
              "          google.colab.kernel.accessAllowed ? 'block' : 'none';\n",
              "\n",
              "        async function convertToInteractive(key) {\n",
              "          const element = document.querySelector('#df-67eca7d9-e5a7-406b-89b8-939c54791e36');\n",
              "          const dataTable =\n",
              "            await google.colab.kernel.invokeFunction('convertToInteractive',\n",
              "                                                     [key], {});\n",
              "          if (!dataTable) return;\n",
              "\n",
              "          const docLinkHtml = 'Like what you see? Visit the ' +\n",
              "            '<a target=\"_blank\" href=https://colab.research.google.com/notebooks/data_table.ipynb>data table notebook</a>'\n",
              "            + ' to learn more about interactive tables.';\n",
              "          element.innerHTML = '';\n",
              "          dataTable['output_type'] = 'display_data';\n",
              "          await google.colab.output.renderOutput(dataTable, element);\n",
              "          const docLink = document.createElement('div');\n",
              "          docLink.innerHTML = docLinkHtml;\n",
              "          element.appendChild(docLink);\n",
              "        }\n",
              "      </script>\n",
              "    </div>\n",
              "  </div>\n",
              "  "
            ]
          },
          "metadata": {},
          "execution_count": 30
        }
      ]
    },
    {
      "cell_type": "code",
      "source": [
        "split_size = int(len(X) * 0.8)\n",
        "X_train, y_train = X[:split_size], y[:split_size]\n",
        "X_test, y_test = X[split_size:], y[split_size:]\n",
        "len(X_train), len(y_train), len(X_test), len(y_test)"
      ],
      "metadata": {
        "colab": {
          "base_uri": "https://localhost:8080/"
        },
        "id": "DHBpifJMDc5-",
        "outputId": "947ee736-fb94-434f-b9b3-8d86f9e71b1d"
      },
      "execution_count": 31,
      "outputs": [
        {
          "output_type": "execute_result",
          "data": {
            "text/plain": [
              "(1601, 1601, 401, 401)"
            ]
          },
          "metadata": {},
          "execution_count": 31
        }
      ]
    },
    {
      "cell_type": "markdown",
      "source": [
        "# Dense model"
      ],
      "metadata": {
        "id": "SWfGAVoJKPJ3"
      }
    },
    {
      "cell_type": "code",
      "source": [
        "\n",
        "tf.random.set_seed(42)\n",
        "\n",
        "# Make multivariate time series model\n",
        "model_6 = tf.keras.Sequential([\n",
        "  layers.Dense(128, activation=\"relu\"),\n",
        "  # layers.Dense(128, activation=\"relu\"), # adding an extra layer here should lead to beating the naive model\n",
        "  layers.Dense(HORIZON)\n",
        "], name=\"model_6_dense_multivariate\")\n",
        "\n",
        "lr_schedule = tf.keras.callbacks.LearningRateScheduler(\n",
        "    lambda epoch: 1e-6 * 10**(epoch/20))\n",
        "\n",
        "model_6.compile(loss=\"mae\",\n",
        "                optimizer=tf.keras.optimizers.Adam(learning_rate = 1e-6),\n",
        "                metrics= ['mae'])\n",
        "\n",
        "# Fit\n",
        "history_6 = model_6.fit(X_train, y_train,\n",
        "            epochs=100,\n",
        "            batch_size=128,\n",
        "            verbose=0, # only print 1 line per epoch\n",
        "            validation_data=(X_test, y_test),\n",
        "            callbacks=[create_model_checkpoint(model_name=model_6.name), lr_schedule])"
      ],
      "metadata": {
        "id": "EAyOLm5uDg1Y"
      },
      "execution_count": 139,
      "outputs": []
    },
    {
      "cell_type": "code",
      "source": [
        "plt.semilogx(history_6.history['lr'], history_6.history['val_mae'])"
      ],
      "metadata": {
        "colab": {
          "base_uri": "https://localhost:8080/",
          "height": 286
        },
        "id": "T_i45J7RePA4",
        "outputId": "eddc4849-cad9-4746-8563-151a28fc305d"
      },
      "execution_count": 140,
      "outputs": [
        {
          "output_type": "execute_result",
          "data": {
            "text/plain": [
              "[<matplotlib.lines.Line2D at 0x7fc097dc0b50>]"
            ]
          },
          "metadata": {},
          "execution_count": 140
        },
        {
          "output_type": "display_data",
          "data": {
            "text/plain": [
              "<Figure size 432x288 with 1 Axes>"
            ],
            "image/png": "[encoded data removed]"
          },
          "metadata": {
            "needs_background": "light"
          }
        }
      ]
    },
    {
      "cell_type": "code",
      "source": [
        "tf.random.set_seed(42)\n",
        "\n",
        "# Make multivariate time series model\n",
        "model_6 = tf.keras.Sequential([\n",
        "  layers.Dense(128, activation=\"relu\"),\n",
        "  # layers.Dense(128, activation=\"relu\"), # adding an extra layer here should lead to beating the naive model\n",
        "  layers.Dense(HORIZON)\n",
        "], name=\"model_6_dense_multivariate\")\n",
        "\n",
        "early_stopping = tf.keras.callbacks.EarlyStopping(patience = 50)\n",
        "\n",
        "\n",
        "model_6.compile(loss=\"mae\",\n",
        "                optimizer=tf.keras.optimizers.Adam(learning_rate = 0.001))\n",
        "\n",
        "# Fit\n",
        "model_6.fit(X_train, y_train,\n",
        "            epochs=500,\n",
        "            batch_size=128,\n",
        "            verbose=0, # only print 1 line per epoch\n",
        "            validation_data=(X_test, y_test),\n",
        "            callbacks=[create_model_checkpoint(model_name=model_6.name), early_stopping])"
      ],
      "metadata": {
        "colab": {
          "base_uri": "https://localhost:8080/"
        },
        "id": "aMPtxrteeC9Z",
        "outputId": "b49471b6-5ffe-449a-cff3-bead71549e41"
      },
      "execution_count": 141,
      "outputs": [
        {
          "output_type": "execute_result",
          "data": {
            "text/plain": [
              "<keras.callbacks.History at 0x7fc0a4944550>"
            ]
          },
          "metadata": {},
          "execution_count": 141
        }
      ]
    },
    {
      "cell_type": "code",
      "source": [
        "\n",
        "# Make sure best model is loaded and evaluate\n",
        "model_6 = tf.keras.models.load_model(\"model_experiments/model_6_dense_multivariate\")\n",
        "model_6.evaluate(X_test, y_test)"
      ],
      "metadata": {
        "colab": {
          "base_uri": "https://localhost:8080/"
        },
        "id": "q3HU9UpQF-x6",
        "outputId": "0e2ab81a-36b9-4de9-ab68-2b09770a09a6"
      },
      "execution_count": 142,
      "outputs": [
        {
          "output_type": "stream",
          "name": "stdout",
          "text": [
            "13/13 [==============================] - 0s 2ms/step - loss: 12.8823\n"
          ]
        },
        {
          "output_type": "execute_result",
          "data": {
            "text/plain": [
              "12.882347106933594"
            ]
          },
          "metadata": {},
          "execution_count": 142
        }
      ]
    },
    {
      "cell_type": "code",
      "source": [
        "# Make predictions on multivariate data\n",
        "model_6_preds = tf.squeeze(model_6.predict(X_test))\n",
        "model_6_preds[:10]"
      ],
      "metadata": {
        "colab": {
          "base_uri": "https://localhost:8080/"
        },
        "id": "A3H-67-MFrNR",
        "outputId": "3ae9d32d-8d3c-465a-e75e-4b4aa24f68eb"
      },
      "execution_count": 143,
      "outputs": [
        {
          "output_type": "stream",
          "name": "stdout",
          "text": [
            "13/13 [==============================] - 0s 3ms/step\n"
          ]
        },
        {
          "output_type": "execute_result",
          "data": {
            "text/plain": [
              "<tf.Tensor: shape=(10,), dtype=float32, numpy=\n",
              "array([187.2047 , 201.75844, 227.37558, 270.42484, 278.15674, 249.49936,\n",
              "       227.82582, 205.14912, 204.50658, 210.46825], dtype=float32)>"
            ]
          },
          "metadata": {},
          "execution_count": 143
        }
      ]
    },
    {
      "cell_type": "code",
      "source": [
        "\n",
        "# Evaluate preds\n",
        "model_6_results = evaluate_preds(y_true=y_test,\n",
        "                                 y_pred=model_6_preds)\n",
        "model_6_results"
      ],
      "metadata": {
        "colab": {
          "base_uri": "https://localhost:8080/"
        },
        "id": "H4i4iZuKFu2v",
        "outputId": "8a90b40b-8444-40af-afc3-78603a0b0683"
      },
      "execution_count": 144,
      "outputs": [
        {
          "output_type": "execute_result",
          "data": {
            "text/plain": [
              "{'mae': 12.882347,\n",
              " 'mse': 343.29657,\n",
              " 'rmse': 18.528265,\n",
              " 'mape': 6.9177685,\n",
              " 'mase': 0.4087039}"
            ]
          },
          "metadata": {},
          "execution_count": 144
        }
      ]
    },
    {
      "cell_type": "markdown",
      "source": [
        "#LSTM model"
      ],
      "metadata": {
        "id": "JFV3KiieKTyI"
      }
    },
    {
      "cell_type": "code",
      "source": [
        "tf.random.set_seed(42)\n",
        "\n",
        "# Let's build an LSTM model with the Functional API\n",
        "inputs = layers.Input(shape=(18))\n",
        "x = layers.Lambda(lambda x: tf.expand_dims(x, axis=1))(inputs) # expand input dimension to be compatible with LSTM\n",
        "# print(x.shape)\n",
        "# x = layers.LSTM(128, activation=\"relu\", return_sequences=True)(x) # this layer will error if the inputs are not the right shape\n",
        "x = layers.LSTM(128, activation=\"relu\")(x)\n",
        "\n",
        " # using the tanh loss function results in a massive error\n",
        "# print(x.shape)\n",
        "# Add another optional dense layer (you could add more of these to see if they improve model performance)\n",
        "# x = layers.Dense(32, activation=\"relu\")(x)\n",
        "output = layers.Dense(HORIZON)(x)\n",
        "\n",
        "lr_schedule = tf.keras.callbacks.LearningRateScheduler(\n",
        "    lambda epoch: 1e-6 * 10**(epoch/20))\n",
        "\n",
        "model_7 = tf.keras.Model(inputs=inputs, outputs=output, name=\"model_7_lstm\")\n",
        "\n",
        "# Compile model\n",
        "model_7.compile(loss=\"mae\",\n",
        "                optimizer=tf.keras.optimizers.Adam(learning_rate = 1e-6),\n",
        "                metrics = ['mae'])\n",
        "\n",
        "# Seems when saving the model several warnings are appearing: https://github.com/tensorflow/tensorflow/issues/47554 \n",
        "history_7 = model_7.fit(X_train, y_train,\n",
        "            epochs=100,\n",
        "            batch_size=128,\n",
        "            verbose=0, # only print 1 line per epoch\n",
        "            validation_data=(X_test, y_test),\n",
        "            callbacks=[create_model_checkpoint(model_name=model_7.name),lr_schedule])"
      ],
      "metadata": {
        "id": "o61AJpkwDq3A"
      },
      "execution_count": 145,
      "outputs": []
    },
    {
      "cell_type": "code",
      "source": [
        "plt.semilogx(history_7.history['lr'], history_7.history['val_mae'])"
      ],
      "metadata": {
        "colab": {
          "base_uri": "https://localhost:8080/",
          "height": 286
        },
        "id": "FM49HUWGgd4P",
        "outputId": "1ca44538-584a-4037-92c2-b35ac14a2683"
      },
      "execution_count": 146,
      "outputs": [
        {
          "output_type": "execute_result",
          "data": {
            "text/plain": [
              "[<matplotlib.lines.Line2D at 0x7fc08a857220>]"
            ]
          },
          "metadata": {},
          "execution_count": 146
        },
        {
          "output_type": "display_data",
          "data": {
            "text/plain": [
              "<Figure size 432x288 with 1 Axes>"
            ],
            "image/png": "[encoded data removed]"
          },
          "metadata": {
            "needs_background": "light"
          }
        }
      ]
    },
    {
      "cell_type": "code",
      "source": [
        "tf.random.set_seed(42)\n",
        "\n",
        "# Let's build an LSTM model with the Functional API\n",
        "inputs = layers.Input(shape=(18))\n",
        "x = layers.Lambda(lambda x: tf.expand_dims(x, axis=1))(inputs) # expand input dimension to be compatible with LSTM\n",
        "# print(x.shape)\n",
        "# x = layers.LSTM(128, activation=\"relu\", return_sequences=True)(x) # this layer will error if the inputs are not the right shape\n",
        "x = layers.LSTM(128, activation=\"relu\")(x)\n",
        "\n",
        " # using the tanh loss function results in a massive error\n",
        "# print(x.shape)\n",
        "# Add another optional dense layer (you could add more of these to see if they improve model performance)\n",
        "# x = layers.Dense(32, activation=\"relu\")(x)\n",
        "output = layers.Dense(HORIZON)(x)\n",
        "\n",
        "early_stopping = tf.keras.callbacks.EarlyStopping(patience = 50)\n",
        "\n",
        "\n",
        "model_7 = tf.keras.Model(inputs=inputs, outputs=output, name=\"model_7_lstm\")\n",
        "\n",
        "# Compile model\n",
        "model_7.compile(loss=\"mae\",\n",
        "                optimizer=tf.keras.optimizers.Adam(learning_rate = 0.005),\n",
        "                metrics = ['mae'])\n",
        "\n",
        "# Seems when saving the model several warnings are appearing: https://github.com/tensorflow/tensorflow/issues/47554 \n",
        "history_7 = model_7.fit(X_train, y_train,\n",
        "            epochs=500,\n",
        "            batch_size=128,\n",
        "            verbose=0, # only print 1 line per epoch\n",
        "            validation_data=(X_test, y_test),\n",
        "            callbacks=[create_model_checkpoint(model_name=model_7.name),early_stopping])"
      ],
      "metadata": {
        "id": "QNOpGIKOgiMf"
      },
      "execution_count": 32,
      "outputs": []
    },
    {
      "cell_type": "code",
      "source": [
        "model_7 = tf.keras.models.load_model(\"model_experiments/model_7_lstm\")\n",
        "model_7.evaluate(X_test, y_test)"
      ],
      "metadata": {
        "colab": {
          "base_uri": "https://localhost:8080/"
        },
        "id": "stsfdeL2Ezud",
        "outputId": "1d14a696-bc03-48f7-f230-beecf15750fe"
      },
      "execution_count": 33,
      "outputs": [
        {
          "output_type": "stream",
          "name": "stdout",
          "text": [
            "13/13 [==============================] - 0s 3ms/step - loss: 12.7081 - mae: 12.7081\n"
          ]
        },
        {
          "output_type": "execute_result",
          "data": {
            "text/plain": [
              "[12.708090782165527, 12.708090782165527]"
            ]
          },
          "metadata": {},
          "execution_count": 33
        }
      ]
    },
    {
      "cell_type": "code",
      "source": [
        "\n",
        "def make_preds(model, input_data):\n",
        "\n",
        "  forecast = model.predict(input_data)\n",
        "  return tf.squeeze(forecast)"
      ],
      "metadata": {
        "id": "1gRaKhkmFCT8"
      },
      "execution_count": 34,
      "outputs": []
    },
    {
      "cell_type": "code",
      "source": [
        "model_7_preds = tf.squeeze(model_7.predict(X_test))\n",
        "model_7_preds[:10]"
      ],
      "metadata": {
        "colab": {
          "base_uri": "https://localhost:8080/"
        },
        "id": "hZr7Qo7mFa-A",
        "outputId": "85e68ecf-4b35-4cad-8fff-6759f3e994b9"
      },
      "execution_count": 35,
      "outputs": [
        {
          "output_type": "stream",
          "name": "stdout",
          "text": [
            "13/13 [==============================] - 0s 4ms/step\n"
          ]
        },
        {
          "output_type": "execute_result",
          "data": {
            "text/plain": [
              "<tf.Tensor: shape=(10,), dtype=float32, numpy=\n",
              "array([187.53381, 200.94357, 230.58096, 273.58026, 280.6904 , 251.48643,\n",
              "       233.6033 , 207.52693, 212.15356, 213.92809], dtype=float32)>"
            ]
          },
          "metadata": {},
          "execution_count": 35
        }
      ]
    },
    {
      "cell_type": "code",
      "source": [
        "model_7_results = evaluate_preds(y_true=y_test,\n",
        "                                 y_pred=model_7_preds)\n",
        "model_7_results"
      ],
      "metadata": {
        "colab": {
          "base_uri": "https://localhost:8080/"
        },
        "id": "uqi6EXjpFhmB",
        "outputId": "7c857e99-8bb6-4389-948c-84b5b150f628"
      },
      "execution_count": 36,
      "outputs": [
        {
          "output_type": "execute_result",
          "data": {
            "text/plain": [
              "{'mae': 12.708093,\n",
              " 'mse': 322.93686,\n",
              " 'rmse': 17.970444,\n",
              " 'mape': 6.936504,\n",
              " 'mase': 0.40317553}"
            ]
          },
          "metadata": {},
          "execution_count": 36
        }
      ]
    },
    {
      "cell_type": "markdown",
      "source": [
        "# Scale the data"
      ],
      "metadata": {
        "id": "duLDpOJTKu3T"
      }
    },
    {
      "cell_type": "code",
      "source": [
        "scaler = MinMaxScaler()\n",
        "scaler.fit(X_train)\n",
        "X_train_scaled = scaler.transform(X_train)\n",
        "X_test_scaled = scaler.transform(X_test)"
      ],
      "metadata": {
        "id": "AaD2nA7pFnBB"
      },
      "execution_count": 50,
      "outputs": []
    },
    {
      "cell_type": "code",
      "source": [
        "tf.random.set_seed(42)\n",
        "\n",
        "# Let's build an LSTM model with the Functional API\n",
        "inputs = layers.Input(shape=(18))\n",
        "x = layers.Lambda(lambda x: tf.expand_dims(x, axis=1))(inputs) # expand input dimension to be compatible with LSTM\n",
        "# print(x.shape)\n",
        "# x = layers.LSTM(128, activation=\"relu\", return_sequences=True)(x) # this layer will error if the inputs are not the right shape\n",
        "x = layers.LSTM(128, activation=\"relu\")(x)\n",
        "\n",
        " # using the tanh loss function results in a massive error\n",
        "# print(x.shape)\n",
        "# Add another optional dense layer (you could add more of these to see if they improve model performance)\n",
        "# x = layers.Dense(32, activation=\"relu\")(x)\n",
        "output = layers.Dense(HORIZON)(x)\n",
        "model_7 = tf.keras.Model(inputs=inputs, outputs=output, name=\"model_7_lstm\")\n",
        "\n",
        "lr_schedule = tf.keras.callbacks.LearningRateScheduler(\n",
        "    lambda epoch: 1e-5 * 10**(epoch/20)\n",
        ")\n",
        "# Compile model\n",
        "model_7.compile(loss=\"mae\",\n",
        "                optimizer=tf.keras.optimizers.Adam(lr = 1e-5),\n",
        "                metrics = ['mae'])\n",
        "\n",
        "# Seems when saving the model several warnings are appearing: https://github.com/tensorflow/tensorflow/issues/47554 \n",
        "history_7 = model_7.fit(X_train_scaled, y_train,\n",
        "            epochs=100,\n",
        "            batch_size=128,\n",
        "            verbose=1, # only print 1 line per epoch\n",
        "            validation_data=(X_test_scaled, y_test),\n",
        "            callbacks=[create_model_checkpoint(model_name=model_7.name), lr_schedule])"
      ],
      "metadata": {
        "colab": {
          "base_uri": "https://localhost:8080/"
        },
        "id": "CwaZhioVM3OO",
        "outputId": "50f044e8-7f88-43d2-f2e5-7983280b9cf1"
      },
      "execution_count": 60,
      "outputs": [
        {
          "output_type": "stream",
          "name": "stdout",
          "text": [
            "Epoch 1/100\n"
          ]
        },
        {
          "output_type": "stream",
          "name": "stderr",
          "text": [
            "/usr/local/lib/python3.8/dist-packages/keras/optimizers/optimizer_v2/adam.py:110: UserWarning: The `lr` argument is deprecated, use `learning_rate` instead.\n",
            "  super(Adam, self).__init__(name, **kwargs)\n"
          ]
        },
        {
          "output_type": "stream",
          "name": "stdout",
          "text": [
            "13/13 [==============================] - 11s 777ms/step - loss: 274.0006 - mae: 274.0006 - val_loss: 200.1081 - val_mae: 200.1081 - lr: 1.0000e-05\n",
            "Epoch 2/100\n",
            "13/13 [==============================] - 6s 483ms/step - loss: 273.9991 - mae: 273.9991 - val_loss: 200.1068 - val_mae: 200.1068 - lr: 1.1220e-05\n",
            "Epoch 3/100\n",
            "13/13 [==============================] - 2s 205ms/step - loss: 273.9973 - mae: 273.9973 - val_loss: 200.1053 - val_mae: 200.1053 - lr: 1.2589e-05\n",
            "Epoch 4/100\n",
            "13/13 [==============================] - 2s 194ms/step - loss: 273.9954 - mae: 273.9954 - val_loss: 200.1036 - val_mae: 200.1036 - lr: 1.4125e-05\n",
            "Epoch 5/100\n",
            "13/13 [==============================] - 2s 196ms/step - loss: 273.9931 - mae: 273.9931 - val_loss: 200.1018 - val_mae: 200.1018 - lr: 1.5849e-05\n",
            "Epoch 6/100\n",
            "13/13 [==============================] - 2s 192ms/step - loss: 273.9906 - mae: 273.9906 - val_loss: 200.0996 - val_mae: 200.0996 - lr: 1.7783e-05\n",
            "Epoch 7/100\n",
            "13/13 [==============================] - 3s 212ms/step - loss: 273.9878 - mae: 273.9878 - val_loss: 200.0972 - val_mae: 200.0972 - lr: 1.9953e-05\n",
            "Epoch 8/100\n",
            "13/13 [==============================] - 3s 213ms/step - loss: 273.9845 - mae: 273.9845 - val_loss: 200.0945 - val_mae: 200.0945 - lr: 2.2387e-05\n",
            "Epoch 9/100\n",
            "13/13 [==============================] - 4s 331ms/step - loss: 273.9809 - mae: 273.9809 - val_loss: 200.0915 - val_mae: 200.0915 - lr: 2.5119e-05\n",
            "Epoch 10/100\n",
            "13/13 [==============================] - 4s 355ms/step - loss: 273.9768 - mae: 273.9768 - val_loss: 200.0879 - val_mae: 200.0879 - lr: 2.8184e-05\n",
            "Epoch 11/100\n",
            "13/13 [==============================] - 2s 199ms/step - loss: 273.9720 - mae: 273.9720 - val_loss: 200.0840 - val_mae: 200.0840 - lr: 3.1623e-05\n",
            "Epoch 12/100\n",
            "13/13 [==============================] - 2s 202ms/step - loss: 273.9666 - mae: 273.9666 - val_loss: 200.0793 - val_mae: 200.0793 - lr: 3.5481e-05\n",
            "Epoch 13/100\n",
            "13/13 [==============================] - 2s 201ms/step - loss: 273.9602 - mae: 273.9602 - val_loss: 200.0740 - val_mae: 200.0740 - lr: 3.9811e-05\n",
            "Epoch 14/100\n",
            "13/13 [==============================] - 2s 202ms/step - loss: 273.9528 - mae: 273.9528 - val_loss: 200.0676 - val_mae: 200.0676 - lr: 4.4668e-05\n",
            "Epoch 15/100\n",
            "13/13 [==============================] - 2s 204ms/step - loss: 273.9439 - mae: 273.9439 - val_loss: 200.0599 - val_mae: 200.0599 - lr: 5.0119e-05\n",
            "Epoch 16/100\n",
            "13/13 [==============================] - 2s 197ms/step - loss: 273.9330 - mae: 273.9330 - val_loss: 200.0506 - val_mae: 200.0506 - lr: 5.6234e-05\n",
            "Epoch 17/100\n",
            "13/13 [==============================] - 2s 196ms/step - loss: 273.9198 - mae: 273.9198 - val_loss: 200.0390 - val_mae: 200.0390 - lr: 6.3096e-05\n",
            "Epoch 18/100\n",
            "13/13 [==============================] - 3s 207ms/step - loss: 273.9035 - mae: 273.9035 - val_loss: 200.0249 - val_mae: 200.0249 - lr: 7.0795e-05\n",
            "Epoch 19/100\n",
            "13/13 [==============================] - 3s 210ms/step - loss: 273.8836 - mae: 273.8836 - val_loss: 200.0078 - val_mae: 200.0078 - lr: 7.9433e-05\n",
            "Epoch 20/100\n",
            "13/13 [==============================] - 2s 199ms/step - loss: 273.8592 - mae: 273.8592 - val_loss: 199.9870 - val_mae: 199.9870 - lr: 8.9125e-05\n",
            "Epoch 21/100\n",
            "13/13 [==============================] - 2s 198ms/step - loss: 273.8294 - mae: 273.8294 - val_loss: 199.9619 - val_mae: 199.9619 - lr: 1.0000e-04\n",
            "Epoch 22/100\n",
            "13/13 [==============================] - 2s 202ms/step - loss: 273.7929 - mae: 273.7929 - val_loss: 199.9317 - val_mae: 199.9317 - lr: 1.1220e-04\n",
            "Epoch 23/100\n",
            "13/13 [==============================] - 2s 190ms/step - loss: 273.7487 - mae: 273.7487 - val_loss: 199.8948 - val_mae: 199.8948 - lr: 1.2589e-04\n",
            "Epoch 24/100\n",
            "13/13 [==============================] - 2s 197ms/step - loss: 273.6943 - mae: 273.6943 - val_loss: 199.8504 - val_mae: 199.8504 - lr: 1.4125e-04\n",
            "Epoch 25/100\n",
            "13/13 [==============================] - 6s 465ms/step - loss: 273.6281 - mae: 273.6281 - val_loss: 199.7961 - val_mae: 199.7961 - lr: 1.5849e-04\n",
            "Epoch 26/100\n",
            "13/13 [==============================] - 2s 202ms/step - loss: 273.5453 - mae: 273.5453 - val_loss: 199.7290 - val_mae: 199.7290 - lr: 1.7783e-04\n",
            "Epoch 27/100\n",
            "13/13 [==============================] - 2s 197ms/step - loss: 273.4423 - mae: 273.4423 - val_loss: 199.6439 - val_mae: 199.6439 - lr: 1.9953e-04\n",
            "Epoch 28/100\n",
            "13/13 [==============================] - 2s 198ms/step - loss: 273.3095 - mae: 273.3095 - val_loss: 199.5350 - val_mae: 199.5350 - lr: 2.2387e-04\n",
            "Epoch 29/100\n",
            "13/13 [==============================] - 2s 196ms/step - loss: 273.1375 - mae: 273.1375 - val_loss: 199.3924 - val_mae: 199.3924 - lr: 2.5119e-04\n",
            "Epoch 30/100\n",
            "13/13 [==============================] - 2s 200ms/step - loss: 272.9081 - mae: 272.9081 - val_loss: 199.2041 - val_mae: 199.2041 - lr: 2.8184e-04\n",
            "Epoch 31/100\n",
            "13/13 [==============================] - 2s 204ms/step - loss: 272.6031 - mae: 272.6031 - val_loss: 198.9522 - val_mae: 198.9522 - lr: 3.1623e-04\n",
            "Epoch 32/100\n",
            "13/13 [==============================] - 2s 198ms/step - loss: 272.1868 - mae: 272.1868 - val_loss: 198.6159 - val_mae: 198.6159 - lr: 3.5481e-04\n",
            "Epoch 33/100\n",
            "13/13 [==============================] - 2s 200ms/step - loss: 271.6212 - mae: 271.6212 - val_loss: 198.1586 - val_mae: 198.1586 - lr: 3.9811e-04\n",
            "Epoch 34/100\n",
            "13/13 [==============================] - 2s 195ms/step - loss: 270.8441 - mae: 270.8441 - val_loss: 197.5280 - val_mae: 197.5280 - lr: 4.4668e-04\n",
            "Epoch 35/100\n",
            "13/13 [==============================] - 2s 201ms/step - loss: 269.7760 - mae: 269.7760 - val_loss: 196.6541 - val_mae: 196.6541 - lr: 5.0119e-04\n",
            "Epoch 36/100\n",
            "13/13 [==============================] - 2s 192ms/step - loss: 268.2757 - mae: 268.2757 - val_loss: 195.4541 - val_mae: 195.4541 - lr: 5.6234e-04\n",
            "Epoch 37/100\n",
            "13/13 [==============================] - 2s 194ms/step - loss: 266.2153 - mae: 266.2153 - val_loss: 193.7853 - val_mae: 193.7853 - lr: 6.3096e-04\n",
            "Epoch 38/100\n",
            "13/13 [==============================] - 2s 195ms/step - loss: 263.3604 - mae: 263.3604 - val_loss: 191.4813 - val_mae: 191.4813 - lr: 7.0795e-04\n",
            "Epoch 39/100\n",
            "13/13 [==============================] - 2s 195ms/step - loss: 259.4297 - mae: 259.4297 - val_loss: 188.3089 - val_mae: 188.3089 - lr: 7.9433e-04\n",
            "Epoch 40/100\n",
            "13/13 [==============================] - 2s 201ms/step - loss: 254.0815 - mae: 254.0815 - val_loss: 183.9823 - val_mae: 183.9823 - lr: 8.9125e-04\n",
            "Epoch 41/100\n",
            "13/13 [==============================] - 2s 201ms/step - loss: 246.8884 - mae: 246.8884 - val_loss: 178.1463 - val_mae: 178.1463 - lr: 0.0010\n",
            "Epoch 42/100\n",
            "13/13 [==============================] - 3s 289ms/step - loss: 237.3132 - mae: 237.3132 - val_loss: 170.3639 - val_mae: 170.3639 - lr: 0.0011\n",
            "Epoch 43/100\n",
            "13/13 [==============================] - 2s 200ms/step - loss: 224.8488 - mae: 224.8488 - val_loss: 160.0274 - val_mae: 160.0274 - lr: 0.0013\n",
            "Epoch 44/100\n",
            "13/13 [==============================] - 2s 197ms/step - loss: 208.5061 - mae: 208.5061 - val_loss: 146.5726 - val_mae: 146.5726 - lr: 0.0014\n",
            "Epoch 45/100\n",
            "13/13 [==============================] - 2s 196ms/step - loss: 187.6154 - mae: 187.6154 - val_loss: 129.1347 - val_mae: 129.1347 - lr: 0.0016\n",
            "Epoch 46/100\n",
            "13/13 [==============================] - 2s 194ms/step - loss: 161.0542 - mae: 161.0542 - val_loss: 106.8798 - val_mae: 106.8798 - lr: 0.0018\n",
            "Epoch 47/100\n",
            "13/13 [==============================] - 2s 195ms/step - loss: 127.8753 - mae: 127.8753 - val_loss: 79.5103 - val_mae: 79.5103 - lr: 0.0020\n",
            "Epoch 48/100\n",
            "13/13 [==============================] - 2s 193ms/step - loss: 88.6786 - mae: 88.6786 - val_loss: 49.7134 - val_mae: 49.7134 - lr: 0.0022\n",
            "Epoch 49/100\n",
            "13/13 [==============================] - 2s 198ms/step - loss: 52.2407 - mae: 52.2407 - val_loss: 32.2005 - val_mae: 32.2005 - lr: 0.0025\n",
            "Epoch 50/100\n",
            "13/13 [==============================] - 0s 11ms/step - loss: 40.8184 - mae: 40.8184 - val_loss: 32.9697 - val_mae: 32.9697 - lr: 0.0028\n",
            "Epoch 51/100\n",
            "13/13 [==============================] - 2s 198ms/step - loss: 41.1832 - mae: 41.1832 - val_loss: 31.7024 - val_mae: 31.7024 - lr: 0.0032\n",
            "Epoch 52/100\n",
            "13/13 [==============================] - 2s 193ms/step - loss: 39.8195 - mae: 39.8195 - val_loss: 31.1915 - val_mae: 31.1915 - lr: 0.0035\n",
            "Epoch 53/100\n",
            "13/13 [==============================] - 2s 192ms/step - loss: 39.5711 - mae: 39.5711 - val_loss: 30.9167 - val_mae: 30.9167 - lr: 0.0040\n",
            "Epoch 54/100\n",
            "13/13 [==============================] - 2s 195ms/step - loss: 39.2724 - mae: 39.2724 - val_loss: 30.5106 - val_mae: 30.5106 - lr: 0.0045\n",
            "Epoch 55/100\n",
            "13/13 [==============================] - 7s 573ms/step - loss: 38.9442 - mae: 38.9442 - val_loss: 30.1997 - val_mae: 30.1997 - lr: 0.0050\n",
            "Epoch 56/100\n",
            "13/13 [==============================] - 2s 203ms/step - loss: 38.5870 - mae: 38.5870 - val_loss: 29.8102 - val_mae: 29.8102 - lr: 0.0056\n",
            "Epoch 57/100\n",
            "13/13 [==============================] - 2s 197ms/step - loss: 38.1534 - mae: 38.1534 - val_loss: 29.3226 - val_mae: 29.3226 - lr: 0.0063\n",
            "Epoch 58/100\n",
            "13/13 [==============================] - 2s 196ms/step - loss: 37.6447 - mae: 37.6447 - val_loss: 28.7062 - val_mae: 28.7062 - lr: 0.0071\n",
            "Epoch 59/100\n",
            "13/13 [==============================] - 2s 195ms/step - loss: 36.9507 - mae: 36.9507 - val_loss: 28.2643 - val_mae: 28.2643 - lr: 0.0079\n",
            "Epoch 60/100\n",
            "13/13 [==============================] - 2s 201ms/step - loss: 36.1666 - mae: 36.1666 - val_loss: 26.9097 - val_mae: 26.9097 - lr: 0.0089\n",
            "Epoch 61/100\n",
            "13/13 [==============================] - 2s 196ms/step - loss: 35.1120 - mae: 35.1120 - val_loss: 26.1691 - val_mae: 26.1691 - lr: 0.0100\n",
            "Epoch 62/100\n",
            "13/13 [==============================] - 2s 200ms/step - loss: 33.7169 - mae: 33.7169 - val_loss: 23.9166 - val_mae: 23.9166 - lr: 0.0112\n",
            "Epoch 63/100\n",
            "13/13 [==============================] - 2s 191ms/step - loss: 31.9139 - mae: 31.9139 - val_loss: 20.7756 - val_mae: 20.7756 - lr: 0.0126\n",
            "Epoch 64/100\n",
            "13/13 [==============================] - 2s 193ms/step - loss: 30.5663 - mae: 30.5663 - val_loss: 18.3056 - val_mae: 18.3056 - lr: 0.0141\n",
            "Epoch 65/100\n",
            "13/13 [==============================] - 2s 198ms/step - loss: 28.7205 - mae: 28.7205 - val_loss: 18.0295 - val_mae: 18.0295 - lr: 0.0158\n",
            "Epoch 66/100\n",
            "13/13 [==============================] - 2s 198ms/step - loss: 26.9012 - mae: 26.9012 - val_loss: 16.2488 - val_mae: 16.2488 - lr: 0.0178\n",
            "Epoch 67/100\n",
            "13/13 [==============================] - 2s 198ms/step - loss: 26.0498 - mae: 26.0498 - val_loss: 15.8623 - val_mae: 15.8623 - lr: 0.0200\n",
            "Epoch 68/100\n",
            "13/13 [==============================] - 2s 203ms/step - loss: 26.0395 - mae: 26.0395 - val_loss: 15.8000 - val_mae: 15.8000 - lr: 0.0224\n",
            "Epoch 69/100\n",
            "13/13 [==============================] - 2s 201ms/step - loss: 25.3311 - mae: 25.3311 - val_loss: 14.2983 - val_mae: 14.2983 - lr: 0.0251\n",
            "Epoch 70/100\n",
            "13/13 [==============================] - 2s 197ms/step - loss: 24.2726 - mae: 24.2726 - val_loss: 14.2016 - val_mae: 14.2016 - lr: 0.0282\n",
            "Epoch 71/100\n",
            "13/13 [==============================] - 0s 11ms/step - loss: 24.3309 - mae: 24.3309 - val_loss: 14.5528 - val_mae: 14.5528 - lr: 0.0316\n",
            "Epoch 72/100\n",
            "13/13 [==============================] - 2s 201ms/step - loss: 23.2412 - mae: 23.2412 - val_loss: 12.9892 - val_mae: 12.9892 - lr: 0.0355\n",
            "Epoch 73/100\n",
            "13/13 [==============================] - 0s 11ms/step - loss: 22.7850 - mae: 22.7850 - val_loss: 13.2152 - val_mae: 13.2152 - lr: 0.0398\n",
            "Epoch 74/100\n",
            "13/13 [==============================] - 0s 11ms/step - loss: 22.5247 - mae: 22.5247 - val_loss: 13.2560 - val_mae: 13.2560 - lr: 0.0447\n",
            "Epoch 75/100\n",
            "13/13 [==============================] - 2s 204ms/step - loss: 22.9213 - mae: 22.9213 - val_loss: 12.5073 - val_mae: 12.5073 - lr: 0.0501\n",
            "Epoch 76/100\n",
            "13/13 [==============================] - 2s 197ms/step - loss: 23.0354 - mae: 23.0354 - val_loss: 12.1394 - val_mae: 12.1394 - lr: 0.0562\n",
            "Epoch 77/100\n",
            "13/13 [==============================] - 0s 10ms/step - loss: 23.1172 - mae: 23.1172 - val_loss: 14.8864 - val_mae: 14.8864 - lr: 0.0631\n",
            "Epoch 78/100\n",
            "13/13 [==============================] - 0s 10ms/step - loss: 22.1444 - mae: 22.1444 - val_loss: 12.7752 - val_mae: 12.7752 - lr: 0.0708\n",
            "Epoch 79/100\n",
            "13/13 [==============================] - 0s 10ms/step - loss: 21.7910 - mae: 21.7910 - val_loss: 12.4838 - val_mae: 12.4838 - lr: 0.0794\n",
            "Epoch 80/100\n",
            "13/13 [==============================] - 2s 197ms/step - loss: 21.6451 - mae: 21.6451 - val_loss: 12.0549 - val_mae: 12.0549 - lr: 0.0891\n",
            "Epoch 81/100\n",
            "13/13 [==============================] - 0s 11ms/step - loss: 22.2011 - mae: 22.2011 - val_loss: 12.8495 - val_mae: 12.8495 - lr: 0.1000\n",
            "Epoch 82/100\n",
            "13/13 [==============================] - 0s 11ms/step - loss: 22.0917 - mae: 22.0917 - val_loss: 14.1282 - val_mae: 14.1282 - lr: 0.1122\n",
            "Epoch 83/100\n",
            "13/13 [==============================] - 0s 10ms/step - loss: 22.0872 - mae: 22.0872 - val_loss: 15.7245 - val_mae: 15.7245 - lr: 0.1259\n",
            "Epoch 84/100\n",
            "13/13 [==============================] - 0s 11ms/step - loss: 21.1300 - mae: 21.1300 - val_loss: 12.7737 - val_mae: 12.7737 - lr: 0.1413\n",
            "Epoch 85/100\n",
            "13/13 [==============================] - 0s 11ms/step - loss: 20.7886 - mae: 20.7886 - val_loss: 15.8570 - val_mae: 15.8570 - lr: 0.1585\n",
            "Epoch 86/100\n",
            "13/13 [==============================] - 0s 10ms/step - loss: 21.8536 - mae: 21.8536 - val_loss: 19.0376 - val_mae: 19.0376 - lr: 0.1778\n",
            "Epoch 87/100\n",
            "13/13 [==============================] - 0s 12ms/step - loss: 23.5583 - mae: 23.5583 - val_loss: 17.6439 - val_mae: 17.6439 - lr: 0.1995\n",
            "Epoch 88/100\n",
            "13/13 [==============================] - 0s 11ms/step - loss: 25.1725 - mae: 25.1725 - val_loss: 13.2883 - val_mae: 13.2883 - lr: 0.2239\n",
            "Epoch 89/100\n",
            "13/13 [==============================] - 0s 11ms/step - loss: 24.8851 - mae: 24.8851 - val_loss: 14.7136 - val_mae: 14.7136 - lr: 0.2512\n",
            "Epoch 90/100\n",
            "13/13 [==============================] - 0s 12ms/step - loss: 27.0829 - mae: 27.0829 - val_loss: 22.6976 - val_mae: 22.6976 - lr: 0.2818\n",
            "Epoch 91/100\n",
            "13/13 [==============================] - 0s 11ms/step - loss: 30.7861 - mae: 30.7861 - val_loss: 38.4260 - val_mae: 38.4260 - lr: 0.3162\n",
            "Epoch 92/100\n",
            "13/13 [==============================] - 0s 10ms/step - loss: 35.8181 - mae: 35.8181 - val_loss: 26.1417 - val_mae: 26.1417 - lr: 0.3548\n",
            "Epoch 93/100\n",
            "13/13 [==============================] - 0s 10ms/step - loss: 32.6299 - mae: 32.6299 - val_loss: 13.3102 - val_mae: 13.3102 - lr: 0.3981\n",
            "Epoch 94/100\n",
            "13/13 [==============================] - 0s 12ms/step - loss: 22.1104 - mae: 22.1104 - val_loss: 12.4511 - val_mae: 12.4511 - lr: 0.4467\n",
            "Epoch 95/100\n",
            "13/13 [==============================] - 0s 12ms/step - loss: 23.4977 - mae: 23.4977 - val_loss: 15.2042 - val_mae: 15.2042 - lr: 0.5012\n",
            "Epoch 96/100\n",
            "13/13 [==============================] - 0s 12ms/step - loss: 24.6979 - mae: 24.6979 - val_loss: 14.0798 - val_mae: 14.0798 - lr: 0.5623\n",
            "Epoch 97/100\n",
            "13/13 [==============================] - 0s 11ms/step - loss: 29.2184 - mae: 29.2184 - val_loss: 23.1891 - val_mae: 23.1891 - lr: 0.6310\n",
            "Epoch 98/100\n",
            "13/13 [==============================] - 0s 11ms/step - loss: 40.4506 - mae: 40.4506 - val_loss: 32.1869 - val_mae: 32.1869 - lr: 0.7079\n",
            "Epoch 99/100\n",
            "13/13 [==============================] - 0s 11ms/step - loss: 30.9414 - mae: 30.9414 - val_loss: 16.9076 - val_mae: 16.9076 - lr: 0.7943\n",
            "Epoch 100/100\n",
            "13/13 [==============================] - 0s 12ms/step - loss: 25.5423 - mae: 25.5423 - val_loss: 13.4538 - val_mae: 13.4538 - lr: 0.8913\n"
          ]
        }
      ]
    },
    {
      "cell_type": "code",
      "source": [
        "pd.DataFrame(history_7.history)"
      ],
      "metadata": {
        "colab": {
          "base_uri": "https://localhost:8080/",
          "height": 424
        },
        "id": "-Rjqk9hwSA2-",
        "outputId": "afa2fe59-c629-4bd0-8328-eeb22c95e9db"
      },
      "execution_count": 62,
      "outputs": [
        {
          "output_type": "execute_result",
          "data": {
            "text/plain": [
              "          loss         mae    val_loss     val_mae        lr\n",
              "0   274.000610  274.000610  200.108124  200.108124  0.000010\n",
              "1   273.999054  273.999054  200.106796  200.106796  0.000011\n",
              "2   273.997314  273.997314  200.105316  200.105316  0.000013\n",
              "3   273.995361  273.995361  200.103622  200.103622  0.000014\n",
              "4   273.993103  273.993103  200.101761  200.101761  0.000016\n",
              "..         ...         ...         ...         ...       ...\n",
              "95   24.697905   24.697905   14.079776   14.079776  0.562341\n",
              "96   29.218403   29.218403   23.189074   23.189074  0.630957\n",
              "97   40.450638   40.450638   32.186855   32.186855  0.707946\n",
              "98   30.941439   30.941439   16.907642   16.907642  0.794328\n",
              "99   25.542316   25.542316   13.453782   13.453782  0.891251\n",
              "\n",
              "[100 rows x 5 columns]"
            ],
            "text/html": [
              "\n",
              "  <div id=\"df-6276c567-82fa-49e4-a719-a0ed7ca4bdc9\">\n",
              "    <div class=\"colab-df-container\">\n",
              "      <div>\n",
              "<style scoped>\n",
              "    .dataframe tbody tr th:only-of-type {\n",
              "        vertical-align: middle;\n",
              "    }\n",
              "\n",
              "    .dataframe tbody tr th {\n",
              "        vertical-align: top;\n",
              "    }\n",
              "\n",
              "    .dataframe thead th {\n",
              "        text-align: right;\n",
              "    }\n",
              "</style>\n",
              "<table border=\"1\" class=\"dataframe\">\n",
              "  <thead>\n",
              "    <tr style=\"text-align: right;\">\n",
              "      <th></th>\n",
              "      <th>loss</th>\n",
              "      <th>mae</th>\n",
              "      <th>val_loss</th>\n",
              "      <th>val_mae</th>\n",
              "      <th>lr</th>\n",
              "    </tr>\n",
              "  </thead>\n",
              "  <tbody>\n",
              "    <tr>\n",
              "      <th>0</th>\n",
              "      <td>274.000610</td>\n",
              "      <td>274.000610</td>\n",
              "      <td>200.108124</td>\n",
              "      <td>200.108124</td>\n",
              "      <td>0.000010</td>\n",
              "    </tr>\n",
              "    <tr>\n",
              "      <th>1</th>\n",
              "      <td>273.999054</td>\n",
              "      <td>273.999054</td>\n",
              "      <td>200.106796</td>\n",
              "      <td>200.106796</td>\n",
              "      <td>0.000011</td>\n",
              "    </tr>\n",
              "    <tr>\n",
              "      <th>2</th>\n",
              "      <td>273.997314</td>\n",
              "      <td>273.997314</td>\n",
              "      <td>200.105316</td>\n",
              "      <td>200.105316</td>\n",
              "      <td>0.000013</td>\n",
              "    </tr>\n",
              "    <tr>\n",
              "      <th>3</th>\n",
              "      <td>273.995361</td>\n",
              "      <td>273.995361</td>\n",
              "      <td>200.103622</td>\n",
              "      <td>200.103622</td>\n",
              "      <td>0.000014</td>\n",
              "    </tr>\n",
              "    <tr>\n",
              "      <th>4</th>\n",
              "      <td>273.993103</td>\n",
              "      <td>273.993103</td>\n",
              "      <td>200.101761</td>\n",
              "      <td>200.101761</td>\n",
              "      <td>0.000016</td>\n",
              "    </tr>\n",
              "    <tr>\n",
              "      <th>...</th>\n",
              "      <td>...</td>\n",
              "      <td>...</td>\n",
              "      <td>...</td>\n",
              "      <td>...</td>\n",
              "      <td>...</td>\n",
              "    </tr>\n",
              "    <tr>\n",
              "      <th>95</th>\n",
              "      <td>24.697905</td>\n",
              "      <td>24.697905</td>\n",
              "      <td>14.079776</td>\n",
              "      <td>14.079776</td>\n",
              "      <td>0.562341</td>\n",
              "    </tr>\n",
              "    <tr>\n",
              "      <th>96</th>\n",
              "      <td>29.218403</td>\n",
              "      <td>29.218403</td>\n",
              "      <td>23.189074</td>\n",
              "      <td>23.189074</td>\n",
              "      <td>0.630957</td>\n",
              "    </tr>\n",
              "    <tr>\n",
              "      <th>97</th>\n",
              "      <td>40.450638</td>\n",
              "      <td>40.450638</td>\n",
              "      <td>32.186855</td>\n",
              "      <td>32.186855</td>\n",
              "      <td>0.707946</td>\n",
              "    </tr>\n",
              "    <tr>\n",
              "      <th>98</th>\n",
              "      <td>30.941439</td>\n",
              "      <td>30.941439</td>\n",
              "      <td>16.907642</td>\n",
              "      <td>16.907642</td>\n",
              "      <td>0.794328</td>\n",
              "    </tr>\n",
              "    <tr>\n",
              "      <th>99</th>\n",
              "      <td>25.542316</td>\n",
              "      <td>25.542316</td>\n",
              "      <td>13.453782</td>\n",
              "      <td>13.453782</td>\n",
              "      <td>0.891251</td>\n",
              "    </tr>\n",
              "  </tbody>\n",
              "</table>\n",
              "<p>100 rows × 5 columns</p>\n",
              "</div>\n",
              "      <button class=\"colab-df-convert\" onclick=\"convertToInteractive('df-6276c567-82fa-49e4-a719-a0ed7ca4bdc9')\"\n",
              "              title=\"Convert this dataframe to an interactive table.\"\n",
              "              style=\"display:none;\">\n",
              "        \n",
              "  <svg xmlns=\"http://www.w3.org/2000/svg\" height=\"24px\"viewBox=\"0 0 24 24\"\n",
              "       width=\"24px\">\n",
              "    <path d=\"M0 0h24v24H0V0z\" fill=\"none\"/>\n",
              "    <path d=\"M18.56 5.44l.94 2.06.94-2.06 2.06-.94-2.06-.94-.94-2.06-.94 2.06-2.06.94zm-11 1L8.5 8.5l.94-2.06 2.06-.94-2.06-.94L8.5 2.5l-.94 2.06-2.06.94zm10 10l.94 2.06.94-2.06 2.06-.94-2.06-.94-.94-2.06-.94 2.06-2.06.94z\"/><path d=\"M17.41 7.96l-1.37-1.37c-.4-.4-.92-.59-1.43-.59-.52 0-1.04.2-1.43.59L10.3 9.45l-7.72 7.72c-.78.78-.78 2.05 0 2.83L4 21.41c.39.39.9.59 1.41.59.51 0 1.02-.2 1.41-.59l7.78-7.78 2.81-2.81c.8-.78.8-2.07 0-2.86zM5.41 20L4 18.59l7.72-7.72 1.47 1.35L5.41 20z\"/>\n",
              "  </svg>\n",
              "      </button>\n",
              "      \n",
              "  <style>\n",
              "    .colab-df-container {\n",
              "      display:flex;\n",
              "      flex-wrap:wrap;\n",
              "      gap: 12px;\n",
              "    }\n",
              "\n",
              "    .colab-df-convert {\n",
              "      background-color: #E8F0FE;\n",
              "      border: none;\n",
              "      border-radius: 50%;\n",
              "      cursor: pointer;\n",
              "      display: none;\n",
              "      fill: #1967D2;\n",
              "      height: 32px;\n",
              "      padding: 0 0 0 0;\n",
              "      width: 32px;\n",
              "    }\n",
              "\n",
              "    .colab-df-convert:hover {\n",
              "      background-color: #E2EBFA;\n",
              "      box-shadow: 0px 1px 2px rgba(60, 64, 67, 0.3), 0px 1px 3px 1px rgba(60, 64, 67, 0.15);\n",
              "      fill: #174EA6;\n",
              "    }\n",
              "\n",
              "    [theme=dark] .colab-df-convert {\n",
              "      background-color: #3B4455;\n",
              "      fill: #D2E3FC;\n",
              "    }\n",
              "\n",
              "    [theme=dark] .colab-df-convert:hover {\n",
              "      background-color: #434B5C;\n",
              "      box-shadow: 0px 1px 3px 1px rgba(0, 0, 0, 0.15);\n",
              "      filter: drop-shadow(0px 1px 2px rgba(0, 0, 0, 0.3));\n",
              "      fill: #FFFFFF;\n",
              "    }\n",
              "  </style>\n",
              "\n",
              "      <script>\n",
              "        const buttonEl =\n",
              "          document.querySelector('#df-6276c567-82fa-49e4-a719-a0ed7ca4bdc9 button.colab-df-convert');\n",
              "        buttonEl.style.display =\n",
              "          google.colab.kernel.accessAllowed ? 'block' : 'none';\n",
              "\n",
              "        async function convertToInteractive(key) {\n",
              "          const element = document.querySelector('#df-6276c567-82fa-49e4-a719-a0ed7ca4bdc9');\n",
              "          const dataTable =\n",
              "            await google.colab.kernel.invokeFunction('convertToInteractive',\n",
              "                                                     [key], {});\n",
              "          if (!dataTable) return;\n",
              "\n",
              "          const docLinkHtml = 'Like what you see? Visit the ' +\n",
              "            '<a target=\"_blank\" href=https://colab.research.google.com/notebooks/data_table.ipynb>data table notebook</a>'\n",
              "            + ' to learn more about interactive tables.';\n",
              "          element.innerHTML = '';\n",
              "          dataTable['output_type'] = 'display_data';\n",
              "          await google.colab.output.renderOutput(dataTable, element);\n",
              "          const docLink = document.createElement('div');\n",
              "          docLink.innerHTML = docLinkHtml;\n",
              "          element.appendChild(docLink);\n",
              "        }\n",
              "      </script>\n",
              "    </div>\n",
              "  </div>\n",
              "  "
            ]
          },
          "metadata": {},
          "execution_count": 62
        }
      ]
    },
    {
      "cell_type": "code",
      "source": [
        "plt.semilogx(history_7.history['lr'], history_7.history['val_mae'])\n",
        "# plt.axis([1e-5,1e-2, 0, 30])"
      ],
      "metadata": {
        "colab": {
          "base_uri": "https://localhost:8080/",
          "height": 286
        },
        "id": "9m7PMlT5P2-m",
        "outputId": "25eb2009-9757-4303-ffb5-edb55b3bd170"
      },
      "execution_count": 67,
      "outputs": [
        {
          "output_type": "execute_result",
          "data": {
            "text/plain": [
              "[<matplotlib.lines.Line2D at 0x7fc0eb3279a0>]"
            ]
          },
          "metadata": {},
          "execution_count": 67
        },
        {
          "output_type": "display_data",
          "data": {
            "text/plain": [
              "<Figure size 432x288 with 1 Axes>"
            ],
            "image/png": "[encoded data removed]"
          },
          "metadata": {
            "needs_background": "light"
          }
        }
      ]
    },
    {
      "cell_type": "code",
      "source": [
        "tf.random.set_seed(42)\n",
        "\n",
        "# Let's build an LSTM model with the Functional API\n",
        "inputs = layers.Input(shape=(18))\n",
        "x = layers.Lambda(lambda x: tf.expand_dims(x, axis=1))(inputs) # expand input dimension to be compatible with LSTM\n",
        "# print(x.shape)\n",
        "# x = layers.LSTM(128, activation=\"relu\", return_sequences=True)(x) # this layer will error if the inputs are not the right shape\n",
        "x = layers.LSTM(128, activation=\"relu\")(x)\n",
        "\n",
        " # using the tanh loss function results in a massive error\n",
        "# print(x.shape)\n",
        "# Add another optional dense layer (you could add more of these to see if they improve model performance)\n",
        "# x = layers.Dense(32, activation=\"relu\")(x)\n",
        "output = layers.Dense(HORIZON)(x)\n",
        "model_7 = tf.keras.Model(inputs=inputs, outputs=output, name=\"model_7_lstm\")\n",
        "\n",
        "early_stopping = tf.keras.callbacks.EarlyStopping(patience = 50)\n",
        "# Compile model\n",
        "model_7.compile(loss=\"mae\",\n",
        "                optimizer=tf.keras.optimizers.Adam(lr = 51e-2),\n",
        "                metrics = ['mae'])\n",
        "\n",
        "# Seems when saving the model several warnings are appearing: https://github.com/tensorflow/tensorflow/issues/47554 \n",
        "history_7 = model_7.fit(X_train_scaled, y_train,\n",
        "            epochs=500,\n",
        "            batch_size=128,\n",
        "            verbose=1, # only print 1 line per epoch\n",
        "            validation_data=(X_test_scaled, y_test),\n",
        "            callbacks=[create_model_checkpoint(model_name=model_7.name),early_stopping])"
      ],
      "metadata": {
        "colab": {
          "base_uri": "https://localhost:8080/"
        },
        "id": "NzKnegKjScGx",
        "outputId": "948f1ddc-051d-4b46-d739-1ea0f4ee53cb"
      },
      "execution_count": 69,
      "outputs": [
        {
          "output_type": "stream",
          "name": "stdout",
          "text": [
            "Epoch 1/500\n"
          ]
        },
        {
          "output_type": "stream",
          "name": "stderr",
          "text": [
            "/usr/local/lib/python3.8/dist-packages/keras/optimizers/optimizer_v2/adam.py:110: UserWarning: The `lr` argument is deprecated, use `learning_rate` instead.\n",
            "  super(Adam, self).__init__(name, **kwargs)\n"
          ]
        },
        {
          "output_type": "stream",
          "name": "stdout",
          "text": [
            "13/13 [==============================] - 4s 236ms/step - loss: 137.4464 - mae: 137.4464 - val_loss: 66.3352 - val_mae: 66.3352\n",
            "Epoch 2/500\n",
            "13/13 [==============================] - 3s 225ms/step - loss: 58.0010 - mae: 58.0010 - val_loss: 34.4395 - val_mae: 34.4395\n",
            "Epoch 3/500\n",
            "13/13 [==============================] - 2s 191ms/step - loss: 45.6055 - mae: 45.6055 - val_loss: 28.9536 - val_mae: 28.9536\n",
            "Epoch 4/500\n",
            "13/13 [==============================] - 2s 196ms/step - loss: 36.9049 - mae: 36.9049 - val_loss: 19.3732 - val_mae: 19.3732\n",
            "Epoch 5/500\n",
            "13/13 [==============================] - 2s 199ms/step - loss: 32.0995 - mae: 32.0995 - val_loss: 18.0321 - val_mae: 18.0321\n",
            "Epoch 6/500\n",
            "13/13 [==============================] - 2s 205ms/step - loss: 27.9304 - mae: 27.9304 - val_loss: 17.1721 - val_mae: 17.1721\n",
            "Epoch 7/500\n",
            "13/13 [==============================] - 0s 11ms/step - loss: 26.7635 - mae: 26.7635 - val_loss: 26.2721 - val_mae: 26.2721\n",
            "Epoch 8/500\n",
            "13/13 [==============================] - 0s 12ms/step - loss: 26.2120 - mae: 26.2120 - val_loss: 21.1305 - val_mae: 21.1305\n",
            "Epoch 9/500\n",
            "13/13 [==============================] - 2s 205ms/step - loss: 25.1740 - mae: 25.1740 - val_loss: 14.0952 - val_mae: 14.0952\n",
            "Epoch 10/500\n",
            "13/13 [==============================] - 0s 10ms/step - loss: 23.0971 - mae: 23.0971 - val_loss: 14.5831 - val_mae: 14.5831\n",
            "Epoch 11/500\n",
            "13/13 [==============================] - 0s 11ms/step - loss: 23.4165 - mae: 23.4165 - val_loss: 15.1057 - val_mae: 15.1057\n",
            "Epoch 12/500\n",
            "13/13 [==============================] - 0s 10ms/step - loss: 25.9234 - mae: 25.9234 - val_loss: 16.9693 - val_mae: 16.9693\n",
            "Epoch 13/500\n",
            "13/13 [==============================] - 0s 11ms/step - loss: 24.0317 - mae: 24.0317 - val_loss: 21.6304 - val_mae: 21.6304\n",
            "Epoch 14/500\n",
            "13/13 [==============================] - 0s 11ms/step - loss: 26.2324 - mae: 26.2324 - val_loss: 19.2472 - val_mae: 19.2472\n",
            "Epoch 15/500\n",
            "13/13 [==============================] - 0s 12ms/step - loss: 23.6637 - mae: 23.6637 - val_loss: 14.3022 - val_mae: 14.3022\n",
            "Epoch 16/500\n",
            "13/13 [==============================] - 0s 11ms/step - loss: 22.6595 - mae: 22.6595 - val_loss: 14.8850 - val_mae: 14.8850\n",
            "Epoch 17/500\n",
            "13/13 [==============================] - 2s 197ms/step - loss: 21.8863 - mae: 21.8863 - val_loss: 12.6759 - val_mae: 12.6759\n",
            "Epoch 18/500\n",
            "13/13 [==============================] - 0s 11ms/step - loss: 24.2388 - mae: 24.2388 - val_loss: 25.7502 - val_mae: 25.7502\n",
            "Epoch 19/500\n",
            "13/13 [==============================] - 0s 11ms/step - loss: 33.9439 - mae: 33.9439 - val_loss: 13.7090 - val_mae: 13.7090\n",
            "Epoch 20/500\n",
            "13/13 [==============================] - 0s 11ms/step - loss: 25.9539 - mae: 25.9539 - val_loss: 13.9095 - val_mae: 13.9095\n",
            "Epoch 21/500\n",
            "13/13 [==============================] - 0s 12ms/step - loss: 22.6494 - mae: 22.6494 - val_loss: 12.7034 - val_mae: 12.7034\n",
            "Epoch 22/500\n",
            "13/13 [==============================] - 0s 12ms/step - loss: 23.3338 - mae: 23.3338 - val_loss: 12.7556 - val_mae: 12.7556\n",
            "Epoch 23/500\n",
            "13/13 [==============================] - 0s 11ms/step - loss: 23.5140 - mae: 23.5140 - val_loss: 12.9427 - val_mae: 12.9427\n",
            "Epoch 24/500\n",
            "13/13 [==============================] - 0s 11ms/step - loss: 21.0323 - mae: 21.0323 - val_loss: 14.7014 - val_mae: 14.7014\n",
            "Epoch 25/500\n",
            "13/13 [==============================] - 2s 198ms/step - loss: 21.9910 - mae: 21.9910 - val_loss: 11.9769 - val_mae: 11.9769\n",
            "Epoch 26/500\n",
            "13/13 [==============================] - 0s 13ms/step - loss: 21.5766 - mae: 21.5766 - val_loss: 14.0944 - val_mae: 14.0944\n",
            "Epoch 27/500\n",
            "13/13 [==============================] - 0s 11ms/step - loss: 23.1549 - mae: 23.1549 - val_loss: 13.3582 - val_mae: 13.3582\n",
            "Epoch 28/500\n",
            "13/13 [==============================] - 0s 12ms/step - loss: 20.7105 - mae: 20.7105 - val_loss: 14.3809 - val_mae: 14.3809\n",
            "Epoch 29/500\n",
            "13/13 [==============================] - 0s 12ms/step - loss: 23.4379 - mae: 23.4379 - val_loss: 19.4479 - val_mae: 19.4479\n",
            "Epoch 30/500\n",
            "13/13 [==============================] - 0s 11ms/step - loss: 23.1819 - mae: 23.1819 - val_loss: 16.4795 - val_mae: 16.4795\n",
            "Epoch 31/500\n",
            "13/13 [==============================] - 2s 196ms/step - loss: 22.2101 - mae: 22.2101 - val_loss: 11.7498 - val_mae: 11.7498\n",
            "Epoch 32/500\n",
            "13/13 [==============================] - 0s 11ms/step - loss: 20.1694 - mae: 20.1694 - val_loss: 12.9439 - val_mae: 12.9439\n",
            "Epoch 33/500\n",
            "13/13 [==============================] - 0s 11ms/step - loss: 21.3166 - mae: 21.3166 - val_loss: 13.6017 - val_mae: 13.6017\n",
            "Epoch 34/500\n",
            "13/13 [==============================] - 0s 11ms/step - loss: 23.7896 - mae: 23.7896 - val_loss: 11.8281 - val_mae: 11.8281\n",
            "Epoch 35/500\n",
            "13/13 [==============================] - 0s 12ms/step - loss: 20.6169 - mae: 20.6169 - val_loss: 11.8615 - val_mae: 11.8615\n",
            "Epoch 36/500\n",
            "13/13 [==============================] - 0s 11ms/step - loss: 21.6945 - mae: 21.6945 - val_loss: 17.3718 - val_mae: 17.3718\n",
            "Epoch 37/500\n",
            "13/13 [==============================] - 0s 11ms/step - loss: 21.5590 - mae: 21.5590 - val_loss: 18.4749 - val_mae: 18.4749\n",
            "Epoch 38/500\n",
            "13/13 [==============================] - 0s 12ms/step - loss: 26.7464 - mae: 26.7464 - val_loss: 16.9994 - val_mae: 16.9994\n",
            "Epoch 39/500\n",
            "13/13 [==============================] - 0s 11ms/step - loss: 21.8429 - mae: 21.8429 - val_loss: 14.9331 - val_mae: 14.9331\n",
            "Epoch 40/500\n",
            "13/13 [==============================] - 0s 10ms/step - loss: 23.3300 - mae: 23.3300 - val_loss: 12.3887 - val_mae: 12.3887\n",
            "Epoch 41/500\n",
            "13/13 [==============================] - 0s 12ms/step - loss: 23.2211 - mae: 23.2211 - val_loss: 13.6228 - val_mae: 13.6228\n",
            "Epoch 42/500\n",
            "13/13 [==============================] - 0s 12ms/step - loss: 21.2243 - mae: 21.2243 - val_loss: 12.3478 - val_mae: 12.3478\n",
            "Epoch 43/500\n",
            "13/13 [==============================] - 0s 11ms/step - loss: 20.6091 - mae: 20.6091 - val_loss: 13.2543 - val_mae: 13.2543\n",
            "Epoch 44/500\n",
            "13/13 [==============================] - 0s 12ms/step - loss: 20.3483 - mae: 20.3483 - val_loss: 12.9478 - val_mae: 12.9478\n",
            "Epoch 45/500\n",
            "13/13 [==============================] - 2s 196ms/step - loss: 20.3916 - mae: 20.3916 - val_loss: 11.6171 - val_mae: 11.6171\n",
            "Epoch 46/500\n",
            "13/13 [==============================] - 0s 11ms/step - loss: 20.3501 - mae: 20.3501 - val_loss: 17.3419 - val_mae: 17.3419\n",
            "Epoch 47/500\n",
            "13/13 [==============================] - 0s 11ms/step - loss: 21.8271 - mae: 21.8271 - val_loss: 14.2698 - val_mae: 14.2698\n",
            "Epoch 48/500\n",
            "13/13 [==============================] - 0s 11ms/step - loss: 20.3564 - mae: 20.3564 - val_loss: 13.1798 - val_mae: 13.1798\n",
            "Epoch 49/500\n",
            "13/13 [==============================] - 7s 588ms/step - loss: 20.0098 - mae: 20.0098 - val_loss: 11.5592 - val_mae: 11.5592\n",
            "Epoch 50/500\n",
            "13/13 [==============================] - 0s 11ms/step - loss: 20.8214 - mae: 20.8214 - val_loss: 12.3071 - val_mae: 12.3071\n",
            "Epoch 51/500\n",
            "13/13 [==============================] - 2s 200ms/step - loss: 19.7656 - mae: 19.7656 - val_loss: 11.4443 - val_mae: 11.4443\n",
            "Epoch 52/500\n",
            "13/13 [==============================] - 0s 11ms/step - loss: 19.0822 - mae: 19.0822 - val_loss: 13.1021 - val_mae: 13.1021\n",
            "Epoch 53/500\n",
            "13/13 [==============================] - 0s 11ms/step - loss: 19.8327 - mae: 19.8327 - val_loss: 15.9830 - val_mae: 15.9830\n",
            "Epoch 54/500\n",
            "13/13 [==============================] - 0s 11ms/step - loss: 20.0370 - mae: 20.0370 - val_loss: 12.1320 - val_mae: 12.1320\n",
            "Epoch 55/500\n",
            "13/13 [==============================] - 0s 11ms/step - loss: 19.5247 - mae: 19.5247 - val_loss: 12.2008 - val_mae: 12.2008\n",
            "Epoch 56/500\n",
            "13/13 [==============================] - 0s 11ms/step - loss: 19.4956 - mae: 19.4956 - val_loss: 11.7417 - val_mae: 11.7417\n",
            "Epoch 57/500\n",
            "13/13 [==============================] - 0s 13ms/step - loss: 19.3044 - mae: 19.3044 - val_loss: 16.5738 - val_mae: 16.5738\n",
            "Epoch 58/500\n",
            "13/13 [==============================] - 0s 12ms/step - loss: 25.5180 - mae: 25.5180 - val_loss: 12.5992 - val_mae: 12.5992\n",
            "Epoch 59/500\n",
            "13/13 [==============================] - 0s 11ms/step - loss: 24.8680 - mae: 24.8680 - val_loss: 14.9386 - val_mae: 14.9386\n",
            "Epoch 60/500\n",
            "13/13 [==============================] - 0s 10ms/step - loss: 22.4536 - mae: 22.4536 - val_loss: 16.1578 - val_mae: 16.1578\n",
            "Epoch 61/500\n",
            "13/13 [==============================] - 0s 11ms/step - loss: 24.8833 - mae: 24.8833 - val_loss: 19.4872 - val_mae: 19.4872\n",
            "Epoch 62/500\n",
            "13/13 [==============================] - 0s 11ms/step - loss: 22.1909 - mae: 22.1909 - val_loss: 12.4006 - val_mae: 12.4006\n",
            "Epoch 63/500\n",
            "13/13 [==============================] - 0s 11ms/step - loss: 20.6138 - mae: 20.6138 - val_loss: 13.0321 - val_mae: 13.0321\n",
            "Epoch 64/500\n",
            "13/13 [==============================] - 0s 12ms/step - loss: 23.4608 - mae: 23.4608 - val_loss: 13.3963 - val_mae: 13.3963\n",
            "Epoch 65/500\n",
            "13/13 [==============================] - 0s 12ms/step - loss: 20.7104 - mae: 20.7104 - val_loss: 12.0117 - val_mae: 12.0117\n",
            "Epoch 66/500\n",
            "13/13 [==============================] - 0s 11ms/step - loss: 19.2579 - mae: 19.2579 - val_loss: 12.7980 - val_mae: 12.7980\n",
            "Epoch 67/500\n",
            "13/13 [==============================] - 0s 11ms/step - loss: 18.9220 - mae: 18.9220 - val_loss: 13.4487 - val_mae: 13.4487\n",
            "Epoch 68/500\n",
            "13/13 [==============================] - 0s 10ms/step - loss: 19.1517 - mae: 19.1517 - val_loss: 12.0780 - val_mae: 12.0780\n",
            "Epoch 69/500\n",
            "13/13 [==============================] - 0s 12ms/step - loss: 19.6045 - mae: 19.6045 - val_loss: 14.9802 - val_mae: 14.9802\n",
            "Epoch 70/500\n",
            "13/13 [==============================] - 0s 11ms/step - loss: 19.3824 - mae: 19.3824 - val_loss: 16.1149 - val_mae: 16.1149\n",
            "Epoch 71/500\n",
            "13/13 [==============================] - 0s 12ms/step - loss: 20.4622 - mae: 20.4622 - val_loss: 14.4443 - val_mae: 14.4443\n",
            "Epoch 72/500\n",
            "13/13 [==============================] - 0s 12ms/step - loss: 19.6912 - mae: 19.6912 - val_loss: 18.3207 - val_mae: 18.3207\n",
            "Epoch 73/500\n",
            "13/13 [==============================] - 0s 12ms/step - loss: 22.7295 - mae: 22.7295 - val_loss: 11.4549 - val_mae: 11.4549\n",
            "Epoch 74/500\n",
            "13/13 [==============================] - 0s 11ms/step - loss: 19.7247 - mae: 19.7247 - val_loss: 12.9407 - val_mae: 12.9407\n",
            "Epoch 75/500\n",
            "13/13 [==============================] - 0s 12ms/step - loss: 18.5586 - mae: 18.5586 - val_loss: 12.3750 - val_mae: 12.3750\n",
            "Epoch 76/500\n",
            "13/13 [==============================] - 0s 11ms/step - loss: 19.2730 - mae: 19.2730 - val_loss: 13.0881 - val_mae: 13.0881\n",
            "Epoch 77/500\n",
            "13/13 [==============================] - 0s 13ms/step - loss: 19.4670 - mae: 19.4670 - val_loss: 13.6143 - val_mae: 13.6143\n",
            "Epoch 78/500\n",
            "13/13 [==============================] - 0s 12ms/step - loss: 19.0138 - mae: 19.0138 - val_loss: 11.8439 - val_mae: 11.8439\n",
            "Epoch 79/500\n",
            "13/13 [==============================] - 0s 12ms/step - loss: 19.5208 - mae: 19.5208 - val_loss: 13.9612 - val_mae: 13.9612\n",
            "Epoch 80/500\n",
            "13/13 [==============================] - 2s 197ms/step - loss: 18.6849 - mae: 18.6849 - val_loss: 11.0448 - val_mae: 11.0448\n",
            "Epoch 81/500\n",
            "13/13 [==============================] - 0s 11ms/step - loss: 18.7191 - mae: 18.7191 - val_loss: 12.5871 - val_mae: 12.5871\n",
            "Epoch 82/500\n",
            "13/13 [==============================] - 0s 11ms/step - loss: 18.6047 - mae: 18.6047 - val_loss: 12.8536 - val_mae: 12.8536\n",
            "Epoch 83/500\n",
            "13/13 [==============================] - 0s 12ms/step - loss: 18.3534 - mae: 18.3534 - val_loss: 12.0166 - val_mae: 12.0166\n",
            "Epoch 84/500\n",
            "13/13 [==============================] - 0s 10ms/step - loss: 18.4642 - mae: 18.4642 - val_loss: 12.2829 - val_mae: 12.2829\n",
            "Epoch 85/500\n",
            "13/13 [==============================] - 0s 12ms/step - loss: 20.1474 - mae: 20.1474 - val_loss: 11.9731 - val_mae: 11.9731\n",
            "Epoch 86/500\n",
            "13/13 [==============================] - 0s 12ms/step - loss: 18.6585 - mae: 18.6585 - val_loss: 12.3949 - val_mae: 12.3949\n",
            "Epoch 87/500\n",
            "13/13 [==============================] - 0s 11ms/step - loss: 22.3799 - mae: 22.3799 - val_loss: 17.4622 - val_mae: 17.4622\n",
            "Epoch 88/500\n",
            "13/13 [==============================] - 0s 11ms/step - loss: 20.5141 - mae: 20.5141 - val_loss: 14.0837 - val_mae: 14.0837\n",
            "Epoch 89/500\n",
            "13/13 [==============================] - 0s 13ms/step - loss: 18.1924 - mae: 18.1924 - val_loss: 12.2785 - val_mae: 12.2785\n",
            "Epoch 90/500\n",
            "13/13 [==============================] - 0s 11ms/step - loss: 18.1596 - mae: 18.1596 - val_loss: 11.6079 - val_mae: 11.6079\n",
            "Epoch 91/500\n",
            "13/13 [==============================] - 0s 11ms/step - loss: 19.6034 - mae: 19.6034 - val_loss: 17.0510 - val_mae: 17.0510\n",
            "Epoch 92/500\n",
            "13/13 [==============================] - 0s 10ms/step - loss: 20.4126 - mae: 20.4126 - val_loss: 17.4707 - val_mae: 17.4707\n",
            "Epoch 93/500\n",
            "13/13 [==============================] - 0s 12ms/step - loss: 22.0475 - mae: 22.0475 - val_loss: 11.8948 - val_mae: 11.8948\n",
            "Epoch 94/500\n",
            "13/13 [==============================] - 0s 11ms/step - loss: 22.0002 - mae: 22.0002 - val_loss: 11.6855 - val_mae: 11.6855\n",
            "Epoch 95/500\n",
            "13/13 [==============================] - 0s 11ms/step - loss: 19.2743 - mae: 19.2743 - val_loss: 18.5744 - val_mae: 18.5744\n",
            "Epoch 96/500\n",
            "13/13 [==============================] - 0s 11ms/step - loss: 24.6405 - mae: 24.6405 - val_loss: 12.6941 - val_mae: 12.6941\n",
            "Epoch 97/500\n",
            "13/13 [==============================] - 0s 11ms/step - loss: 19.7592 - mae: 19.7592 - val_loss: 11.3186 - val_mae: 11.3186\n",
            "Epoch 98/500\n",
            "13/13 [==============================] - 0s 12ms/step - loss: 18.9682 - mae: 18.9682 - val_loss: 12.0444 - val_mae: 12.0444\n",
            "Epoch 99/500\n",
            "13/13 [==============================] - 0s 11ms/step - loss: 18.2739 - mae: 18.2739 - val_loss: 12.3506 - val_mae: 12.3506\n",
            "Epoch 100/500\n",
            "13/13 [==============================] - 0s 11ms/step - loss: 18.6196 - mae: 18.6196 - val_loss: 12.3442 - val_mae: 12.3442\n",
            "Epoch 101/500\n",
            "13/13 [==============================] - 0s 11ms/step - loss: 18.1016 - mae: 18.1016 - val_loss: 12.4862 - val_mae: 12.4862\n",
            "Epoch 102/500\n",
            "13/13 [==============================] - 0s 14ms/step - loss: 17.9541 - mae: 17.9541 - val_loss: 11.6181 - val_mae: 11.6181\n",
            "Epoch 103/500\n",
            "13/13 [==============================] - 0s 11ms/step - loss: 19.2670 - mae: 19.2670 - val_loss: 13.8111 - val_mae: 13.8111\n",
            "Epoch 104/500\n",
            "13/13 [==============================] - 0s 11ms/step - loss: 19.3447 - mae: 19.3447 - val_loss: 13.6550 - val_mae: 13.6550\n",
            "Epoch 105/500\n",
            "13/13 [==============================] - 0s 13ms/step - loss: 19.1105 - mae: 19.1105 - val_loss: 12.4876 - val_mae: 12.4876\n",
            "Epoch 106/500\n",
            "13/13 [==============================] - 0s 12ms/step - loss: 18.4756 - mae: 18.4756 - val_loss: 12.8270 - val_mae: 12.8270\n",
            "Epoch 107/500\n",
            "13/13 [==============================] - 0s 12ms/step - loss: 18.5074 - mae: 18.5074 - val_loss: 11.8378 - val_mae: 11.8378\n",
            "Epoch 108/500\n",
            "13/13 [==============================] - 0s 12ms/step - loss: 18.4109 - mae: 18.4109 - val_loss: 11.6191 - val_mae: 11.6191\n",
            "Epoch 109/500\n",
            "13/13 [==============================] - 0s 11ms/step - loss: 17.8180 - mae: 17.8180 - val_loss: 11.8856 - val_mae: 11.8856\n",
            "Epoch 110/500\n",
            "13/13 [==============================] - 0s 10ms/step - loss: 18.8619 - mae: 18.8619 - val_loss: 12.5439 - val_mae: 12.5439\n",
            "Epoch 111/500\n",
            "13/13 [==============================] - 0s 12ms/step - loss: 17.8205 - mae: 17.8205 - val_loss: 15.6216 - val_mae: 15.6216\n",
            "Epoch 112/500\n",
            "13/13 [==============================] - 0s 11ms/step - loss: 19.5705 - mae: 19.5705 - val_loss: 12.1432 - val_mae: 12.1432\n",
            "Epoch 113/500\n",
            "13/13 [==============================] - 0s 11ms/step - loss: 19.5487 - mae: 19.5487 - val_loss: 12.6807 - val_mae: 12.6807\n",
            "Epoch 114/500\n",
            "13/13 [==============================] - 0s 11ms/step - loss: 18.1434 - mae: 18.1434 - val_loss: 14.1829 - val_mae: 14.1829\n",
            "Epoch 115/500\n",
            "13/13 [==============================] - 0s 13ms/step - loss: 19.9942 - mae: 19.9942 - val_loss: 11.6785 - val_mae: 11.6785\n",
            "Epoch 116/500\n",
            "13/13 [==============================] - 0s 12ms/step - loss: 21.6885 - mae: 21.6885 - val_loss: 14.3081 - val_mae: 14.3081\n",
            "Epoch 117/500\n",
            "13/13 [==============================] - 0s 12ms/step - loss: 19.3370 - mae: 19.3370 - val_loss: 12.5570 - val_mae: 12.5570\n",
            "Epoch 118/500\n",
            "13/13 [==============================] - 0s 12ms/step - loss: 23.3463 - mae: 23.3463 - val_loss: 15.9206 - val_mae: 15.9206\n",
            "Epoch 119/500\n",
            "13/13 [==============================] - 0s 11ms/step - loss: 19.7792 - mae: 19.7792 - val_loss: 11.9629 - val_mae: 11.9629\n",
            "Epoch 120/500\n",
            "13/13 [==============================] - 0s 11ms/step - loss: 18.1095 - mae: 18.1095 - val_loss: 14.8943 - val_mae: 14.8943\n",
            "Epoch 121/500\n",
            "13/13 [==============================] - 0s 12ms/step - loss: 18.4582 - mae: 18.4582 - val_loss: 11.7972 - val_mae: 11.7972\n",
            "Epoch 122/500\n",
            "13/13 [==============================] - 0s 12ms/step - loss: 18.0201 - mae: 18.0201 - val_loss: 17.1250 - val_mae: 17.1250\n",
            "Epoch 123/500\n",
            "13/13 [==============================] - 0s 11ms/step - loss: 20.5039 - mae: 20.5039 - val_loss: 11.6914 - val_mae: 11.6914\n",
            "Epoch 124/500\n",
            "13/13 [==============================] - 0s 11ms/step - loss: 17.2950 - mae: 17.2950 - val_loss: 13.7365 - val_mae: 13.7365\n",
            "Epoch 125/500\n",
            "13/13 [==============================] - 0s 10ms/step - loss: 19.5269 - mae: 19.5269 - val_loss: 11.7291 - val_mae: 11.7291\n",
            "Epoch 126/500\n",
            "13/13 [==============================] - 0s 12ms/step - loss: 17.4199 - mae: 17.4199 - val_loss: 12.7946 - val_mae: 12.7946\n",
            "Epoch 127/500\n",
            "13/13 [==============================] - 0s 11ms/step - loss: 17.3933 - mae: 17.3933 - val_loss: 12.2990 - val_mae: 12.2990\n",
            "Epoch 128/500\n",
            "13/13 [==============================] - 0s 14ms/step - loss: 17.3479 - mae: 17.3479 - val_loss: 12.7197 - val_mae: 12.7197\n",
            "Epoch 129/500\n",
            "13/13 [==============================] - 0s 12ms/step - loss: 17.3128 - mae: 17.3128 - val_loss: 12.0906 - val_mae: 12.0906\n",
            "Epoch 130/500\n",
            "13/13 [==============================] - 0s 11ms/step - loss: 17.6294 - mae: 17.6294 - val_loss: 12.1753 - val_mae: 12.1753\n"
          ]
        }
      ]
    },
    {
      "cell_type": "code",
      "source": [
        "model_7 = tf.keras.models.load_model(\"model_experiments/model_7_lstm\")\n",
        "model_7.evaluate(X_test_scaled, y_test)"
      ],
      "metadata": {
        "colab": {
          "base_uri": "https://localhost:8080/"
        },
        "id": "__iO15ghUwEo",
        "outputId": "4537d26d-c454-40cd-95b9-4cae17e9f363"
      },
      "execution_count": 72,
      "outputs": [
        {
          "output_type": "stream",
          "name": "stdout",
          "text": [
            "13/13 [==============================] - 1s 6ms/step - loss: 11.0448 - mae: 11.0448\n"
          ]
        },
        {
          "output_type": "execute_result",
          "data": {
            "text/plain": [
              "[11.044829368591309, 11.044829368591309]"
            ]
          },
          "metadata": {},
          "execution_count": 72
        }
      ]
    },
    {
      "cell_type": "code",
      "source": [
        "model_7_preds = tf.squeeze(model_7.predict(X_test_scaled))\n",
        "model_7_preds[:10]"
      ],
      "metadata": {
        "colab": {
          "base_uri": "https://localhost:8080/"
        },
        "id": "ck4GS1e3N0P7",
        "outputId": "53fbbf3a-8781-4040-fd1f-e578142e7f0f"
      },
      "execution_count": 73,
      "outputs": [
        {
          "output_type": "stream",
          "name": "stdout",
          "text": [
            "13/13 [==============================] - 0s 4ms/step\n"
          ]
        },
        {
          "output_type": "execute_result",
          "data": {
            "text/plain": [
              "<tf.Tensor: shape=(10,), dtype=float32, numpy=\n",
              "array([166.7996 , 191.6048 , 221.7005 , 268.10593, 272.36905, 235.58696,\n",
              "       217.13298, 183.54239, 199.48102, 206.39825], dtype=float32)>"
            ]
          },
          "metadata": {},
          "execution_count": 73
        }
      ]
    },
    {
      "cell_type": "code",
      "source": [
        "model_7_results = evaluate_preds(y_true=y_test,\n",
        "                                 y_pred=model_7_preds)\n",
        "model_7_results"
      ],
      "metadata": {
        "colab": {
          "base_uri": "https://localhost:8080/"
        },
        "id": "0gPIsdRfN3YM",
        "outputId": "4fa53ced-536d-46e5-e181-3550fc34a77a"
      },
      "execution_count": 74,
      "outputs": [
        {
          "output_type": "execute_result",
          "data": {
            "text/plain": [
              "{'mae': 11.044829,\n",
              " 'mse': 251.43086,\n",
              " 'rmse': 15.856571,\n",
              " 'mape': 5.898555,\n",
              " 'mase': 0.350407}"
            ]
          },
          "metadata": {},
          "execution_count": 74
        }
      ]
    },
    {
      "cell_type": "code",
      "source": [
        "pd.DataFrame(history_7.history)"
      ],
      "metadata": {
        "colab": {
          "base_uri": "https://localhost:8080/",
          "height": 424
        },
        "id": "DMLr7joSVAeC",
        "outputId": "e4629eeb-e715-4c0b-d7a6-fea2e1fef8e4"
      },
      "execution_count": 77,
      "outputs": [
        {
          "output_type": "execute_result",
          "data": {
            "text/plain": [
              "           loss         mae   val_loss    val_mae\n",
              "0    137.446365  137.446365  66.335228  66.335228\n",
              "1     58.000977   58.000977  34.439507  34.439507\n",
              "2     45.605511   45.605511  28.953581  28.953581\n",
              "3     36.904873   36.904873  19.373247  19.373247\n",
              "4     32.099453   32.099453  18.032148  18.032148\n",
              "..          ...         ...        ...        ...\n",
              "125   17.419897   17.419897  12.794602  12.794602\n",
              "126   17.393320   17.393320  12.298950  12.298950\n",
              "127   17.347933   17.347933  12.719708  12.719708\n",
              "128   17.312754   17.312754  12.090631  12.090631\n",
              "129   17.629362   17.629362  12.175280  12.175280\n",
              "\n",
              "[130 rows x 4 columns]"
            ],
            "text/html": [
              "\n",
              "  <div id=\"df-268b9d67-0e2b-42e8-a4a9-73dd539314d9\">\n",
              "    <div class=\"colab-df-container\">\n",
              "      <div>\n",
              "<style scoped>\n",
              "    .dataframe tbody tr th:only-of-type {\n",
              "        vertical-align: middle;\n",
              "    }\n",
              "\n",
              "    .dataframe tbody tr th {\n",
              "        vertical-align: top;\n",
              "    }\n",
              "\n",
              "    .dataframe thead th {\n",
              "        text-align: right;\n",
              "    }\n",
              "</style>\n",
              "<table border=\"1\" class=\"dataframe\">\n",
              "  <thead>\n",
              "    <tr style=\"text-align: right;\">\n",
              "      <th></th>\n",
              "      <th>loss</th>\n",
              "      <th>mae</th>\n",
              "      <th>val_loss</th>\n",
              "      <th>val_mae</th>\n",
              "    </tr>\n",
              "  </thead>\n",
              "  <tbody>\n",
              "    <tr>\n",
              "      <th>0</th>\n",
              "      <td>137.446365</td>\n",
              "      <td>137.446365</td>\n",
              "      <td>66.335228</td>\n",
              "      <td>66.335228</td>\n",
              "    </tr>\n",
              "    <tr>\n",
              "      <th>1</th>\n",
              "      <td>58.000977</td>\n",
              "      <td>58.000977</td>\n",
              "      <td>34.439507</td>\n",
              "      <td>34.439507</td>\n",
              "    </tr>\n",
              "    <tr>\n",
              "      <th>2</th>\n",
              "      <td>45.605511</td>\n",
              "      <td>45.605511</td>\n",
              "      <td>28.953581</td>\n",
              "      <td>28.953581</td>\n",
              "    </tr>\n",
              "    <tr>\n",
              "      <th>3</th>\n",
              "      <td>36.904873</td>\n",
              "      <td>36.904873</td>\n",
              "      <td>19.373247</td>\n",
              "      <td>19.373247</td>\n",
              "    </tr>\n",
              "    <tr>\n",
              "      <th>4</th>\n",
              "      <td>32.099453</td>\n",
              "      <td>32.099453</td>\n",
              "      <td>18.032148</td>\n",
              "      <td>18.032148</td>\n",
              "    </tr>\n",
              "    <tr>\n",
              "      <th>...</th>\n",
              "      <td>...</td>\n",
              "      <td>...</td>\n",
              "      <td>...</td>\n",
              "      <td>...</td>\n",
              "    </tr>\n",
              "    <tr>\n",
              "      <th>125</th>\n",
              "      <td>17.419897</td>\n",
              "      <td>17.419897</td>\n",
              "      <td>12.794602</td>\n",
              "      <td>12.794602</td>\n",
              "    </tr>\n",
              "    <tr>\n",
              "      <th>126</th>\n",
              "      <td>17.393320</td>\n",
              "      <td>17.393320</td>\n",
              "      <td>12.298950</td>\n",
              "      <td>12.298950</td>\n",
              "    </tr>\n",
              "    <tr>\n",
              "      <th>127</th>\n",
              "      <td>17.347933</td>\n",
              "      <td>17.347933</td>\n",
              "      <td>12.719708</td>\n",
              "      <td>12.719708</td>\n",
              "    </tr>\n",
              "    <tr>\n",
              "      <th>128</th>\n",
              "      <td>17.312754</td>\n",
              "      <td>17.312754</td>\n",
              "      <td>12.090631</td>\n",
              "      <td>12.090631</td>\n",
              "    </tr>\n",
              "    <tr>\n",
              "      <th>129</th>\n",
              "      <td>17.629362</td>\n",
              "      <td>17.629362</td>\n",
              "      <td>12.175280</td>\n",
              "      <td>12.175280</td>\n",
              "    </tr>\n",
              "  </tbody>\n",
              "</table>\n",
              "<p>130 rows × 4 columns</p>\n",
              "</div>\n",
              "      <button class=\"colab-df-convert\" onclick=\"convertToInteractive('df-268b9d67-0e2b-42e8-a4a9-73dd539314d9')\"\n",
              "              title=\"Convert this dataframe to an interactive table.\"\n",
              "              style=\"display:none;\">\n",
              "        \n",
              "  <svg xmlns=\"http://www.w3.org/2000/svg\" height=\"24px\"viewBox=\"0 0 24 24\"\n",
              "       width=\"24px\">\n",
              "    <path d=\"M0 0h24v24H0V0z\" fill=\"none\"/>\n",
              "    <path d=\"M18.56 5.44l.94 2.06.94-2.06 2.06-.94-2.06-.94-.94-2.06-.94 2.06-2.06.94zm-11 1L8.5 8.5l.94-2.06 2.06-.94-2.06-.94L8.5 2.5l-.94 2.06-2.06.94zm10 10l.94 2.06.94-2.06 2.06-.94-2.06-.94-.94-2.06-.94 2.06-2.06.94z\"/><path d=\"M17.41 7.96l-1.37-1.37c-.4-.4-.92-.59-1.43-.59-.52 0-1.04.2-1.43.59L10.3 9.45l-7.72 7.72c-.78.78-.78 2.05 0 2.83L4 21.41c.39.39.9.59 1.41.59.51 0 1.02-.2 1.41-.59l7.78-7.78 2.81-2.81c.8-.78.8-2.07 0-2.86zM5.41 20L4 18.59l7.72-7.72 1.47 1.35L5.41 20z\"/>\n",
              "  </svg>\n",
              "      </button>\n",
              "      \n",
              "  <style>\n",
              "    .colab-df-container {\n",
              "      display:flex;\n",
              "      flex-wrap:wrap;\n",
              "      gap: 12px;\n",
              "    }\n",
              "\n",
              "    .colab-df-convert {\n",
              "      background-color: #E8F0FE;\n",
              "      border: none;\n",
              "      border-radius: 50%;\n",
              "      cursor: pointer;\n",
              "      display: none;\n",
              "      fill: #1967D2;\n",
              "      height: 32px;\n",
              "      padding: 0 0 0 0;\n",
              "      width: 32px;\n",
              "    }\n",
              "\n",
              "    .colab-df-convert:hover {\n",
              "      background-color: #E2EBFA;\n",
              "      box-shadow: 0px 1px 2px rgba(60, 64, 67, 0.3), 0px 1px 3px 1px rgba(60, 64, 67, 0.15);\n",
              "      fill: #174EA6;\n",
              "    }\n",
              "\n",
              "    [theme=dark] .colab-df-convert {\n",
              "      background-color: #3B4455;\n",
              "      fill: #D2E3FC;\n",
              "    }\n",
              "\n",
              "    [theme=dark] .colab-df-convert:hover {\n",
              "      background-color: #434B5C;\n",
              "      box-shadow: 0px 1px 3px 1px rgba(0, 0, 0, 0.15);\n",
              "      filter: drop-shadow(0px 1px 2px rgba(0, 0, 0, 0.3));\n",
              "      fill: #FFFFFF;\n",
              "    }\n",
              "  </style>\n",
              "\n",
              "      <script>\n",
              "        const buttonEl =\n",
              "          document.querySelector('#df-268b9d67-0e2b-42e8-a4a9-73dd539314d9 button.colab-df-convert');\n",
              "        buttonEl.style.display =\n",
              "          google.colab.kernel.accessAllowed ? 'block' : 'none';\n",
              "\n",
              "        async function convertToInteractive(key) {\n",
              "          const element = document.querySelector('#df-268b9d67-0e2b-42e8-a4a9-73dd539314d9');\n",
              "          const dataTable =\n",
              "            await google.colab.kernel.invokeFunction('convertToInteractive',\n",
              "                                                     [key], {});\n",
              "          if (!dataTable) return;\n",
              "\n",
              "          const docLinkHtml = 'Like what you see? Visit the ' +\n",
              "            '<a target=\"_blank\" href=https://colab.research.google.com/notebooks/data_table.ipynb>data table notebook</a>'\n",
              "            + ' to learn more about interactive tables.';\n",
              "          element.innerHTML = '';\n",
              "          dataTable['output_type'] = 'display_data';\n",
              "          await google.colab.output.renderOutput(dataTable, element);\n",
              "          const docLink = document.createElement('div');\n",
              "          docLink.innerHTML = docLinkHtml;\n",
              "          element.appendChild(docLink);\n",
              "        }\n",
              "      </script>\n",
              "    </div>\n",
              "  </div>\n",
              "  "
            ]
          },
          "metadata": {},
          "execution_count": 77
        }
      ]
    },
    {
      "cell_type": "code",
      "source": [
        "plt.figure(dpi = 120)\n",
        "plt.plot(history_7.history['loss'], label = 'train_loss')\n",
        "plt.plot(history_7.history['val_loss'], label = 'validation_loss')\n",
        "plt.legend()"
      ],
      "metadata": {
        "colab": {
          "base_uri": "https://localhost:8080/",
          "height": 450
        },
        "id": "RHX9neduVNrZ",
        "outputId": "2a737e32-ae86-45a6-96c9-7a858ae8fb37"
      },
      "execution_count": 82,
      "outputs": [
        {
          "output_type": "execute_result",
          "data": {
            "text/plain": [
              "<matplotlib.legend.Legend at 0x7fc0d7ebecd0>"
            ]
          },
          "metadata": {},
          "execution_count": 82
        },
        {
          "output_type": "display_data",
          "data": {
            "text/plain": [
              "<Figure size 720x480 with 1 Axes>"
            ],
            "image/png": "[encoded data removed]"
          },
          "metadata": {
            "needs_background": "light"
          }
        }
      ]
    },
    {
      "cell_type": "markdown",
      "source": [
        "# Conclusion\n",
        "\n",
        "The best model is the multivariate LSTM with the scaled data and using a learning rate scheduler, model checkpoint, and early stopping callbacks."
      ],
      "metadata": {
        "id": "-Ww9xjtGLAPD"
      }
    },
    {
      "cell_type": "code",
      "source": [],
      "metadata": {
        "id": "teICAYAPLgRu"
      },
      "execution_count": null,
      "outputs": []
    }
  ]
}